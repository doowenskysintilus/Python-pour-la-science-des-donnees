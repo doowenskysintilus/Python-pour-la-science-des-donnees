{
  "cells": [
    {
      "cell_type": "markdown",
      "metadata": {
        "colab_type": "text",
        "id": "view-in-github"
      },
      "source": [
        "<a href=\"https://colab.research.google.com/github/MachineLearnia/Python-tutoriel/blob/master/05%20-%20Dictionnaires.ipynb\" target=\"_parent\"><img src=\"https://colab.research.google.com/assets/colab-badge.svg\" alt=\"Open In Colab\"/></a>"
      ]
    },
    {
      "cell_type": "markdown",
      "metadata": {
        "colab_type": "text",
        "id": "joYmh7TZyu-I"
      },
      "source": [
        "# Dictionnaires\n",
        "Les dictionnaires sont l'une des structures de données fondamentales en Python. Ils permettent de stocker des paires clé-valeur, ce qui est particulièrement utile lorsque vous devez associer des données (comme un nom à un numéro de téléphone, ou une clé d'identification à un ensemble de valeurs).\n",
        "\n",
        "**Caractéristiques des Dictionnaires**\n",
        "* **Non ordonnés (avant Python 3.7) :** L'ordre des éléments dans un dictionnaire n'est pas garanti jusqu'à Python 3.6. À partir de Python 3.7, les dictionnaires conservent l'ordre d'insertion.\n",
        "* **Mutable :** Les dictionnaires peuvent être modifiés après leur création. Vous pouvez ajouter, supprimer ou modifier des paires clé-valeur.\n",
        "* **Accès rapide :** L'accès aux valeurs à l'aide des clés est très rapide, ce qui en fait une structure de données efficace pour la recherche et la récupération d'informations.\n",
        "* **Clés uniques :** Les clés dans un dictionnaire doivent être uniques et immuables (par exemple, des chaînes de caractères, des nombres, des tuples immuables).\n",
        "\n",
        "**Création d'un Dictionnaire :**\n",
        "Voici comment vous pouvez créer et manipuler des dictionnaires en Python."
      ]
    },
    {
      "cell_type": "code",
      "execution_count": 105,
      "metadata": {
        "colab": {},
        "colab_type": "code",
        "id": "IxAbYNGyypdD"
      },
      "outputs": [
        {
          "name": "stdout",
          "output_type": "stream",
          "text": [
            "{'nom': 'Alice', 'age': 21, 'note': 15.5, 'matieres': ['mathématiques', 'physique']}\n"
          ]
        }
      ],
      "source": [
        "# Dictionnaire vide\n",
        "mon_dictionnaire = {}\n",
        "\n",
        "# Dictionnaire avec des éléments\n",
        "etudiant = {\n",
        "    \"nom\": \"Alice\",\n",
        "    \"age\": 21,\n",
        "    \"note\": 15.5,\n",
        "    \"matieres\": [\"mathématiques\", \"physique\"]\n",
        "}\n",
        "\n",
        "print (etudiant)"
      ]
    },
    {
      "cell_type": "markdown",
      "metadata": {},
      "source": [
        "**Accéder à des Valeurs :**\n",
        "Vous pouvez accéder aux valeurs d'un dictionnaire en utilisant les clés."
      ]
    },
    {
      "cell_type": "code",
      "execution_count": 106,
      "metadata": {
        "colab": {
          "base_uri": "https://localhost:8080/",
          "height": 34
        },
        "colab_type": "code",
        "id": "KIMrwYSF0WOx",
        "outputId": "c44e65a3-4efa-4d94-e0a3-c64872120894"
      },
      "outputs": [
        {
          "name": "stdout",
          "output_type": "stream",
          "text": [
            "Alice\n",
            "15.5\n"
          ]
        }
      ],
      "source": [
        "# Accéder au nom de l'étudiant\n",
        "print(etudiant[\"nom\"])  # Sortie : Alice\n",
        "\n",
        "# Accéder à la note de l'étudiant\n",
        "print(etudiant[\"note\"])  # Sortie : 15.5\n"
      ]
    },
    {
      "cell_type": "markdown",
      "metadata": {},
      "source": [
        "**Modifier des Valeurs :**\n",
        "Pour modifier une valeur dans un dictionnaire, vous pouvez assigner une nouvelle valeur à une clé existante."
      ]
    },
    {
      "cell_type": "code",
      "execution_count": 107,
      "metadata": {
        "colab": {
          "base_uri": "https://localhost:8080/",
          "height": 34
        },
        "colab_type": "code",
        "id": "kiVf5n2J0Yxa",
        "outputId": "b829279b-d0cd-4df5-c4a1-57b1b5d1ea35"
      },
      "outputs": [
        {
          "name": "stdout",
          "output_type": "stream",
          "text": [
            "22\n"
          ]
        }
      ],
      "source": [
        "# Modifier l'âge de l'étudiant\n",
        "etudiant[\"age\"] = 22\n",
        "print(etudiant[\"age\"])  # Sortie : 22\n"
      ]
    },
    {
      "cell_type": "markdown",
      "metadata": {},
      "source": [
        "**Ajouter des Éléments :**\n",
        "Vous pouvez ajouter de nouvelles paires clé-valeur à un dictionnaire."
      ]
    },
    {
      "cell_type": "code",
      "execution_count": 108,
      "metadata": {
        "colab": {
          "base_uri": "https://localhost:8080/",
          "height": 163
        },
        "colab_type": "code",
        "id": "buwMNYZ40agi",
        "outputId": "fef58cfb-e270-45f8-9d85-386d36ca86cf"
      },
      "outputs": [
        {
          "name": "stdout",
          "output_type": "stream",
          "text": [
            "{'nom': 'Alice', 'age': 22, 'note': 15.5, 'matieres': ['mathématiques', 'physique'], 'ville': 'Paris'}\n"
          ]
        }
      ],
      "source": [
        "# Ajouter une nouvelle clé-valeur\n",
        "etudiant[\"ville\"] = \"Paris\"\n",
        "print(etudiant)\n",
        "# Sortie : {'nom': 'Alice', 'age': 22, 'note': 15.5, 'matieres': ['mathématiques', 'physique'], 'ville': 'Paris'}\n"
      ]
    },
    {
      "cell_type": "markdown",
      "metadata": {
        "colab_type": "text",
        "id": "P3tAq8GJ0idV"
      },
      "source": [
        "**Supprimer des Éléments :**\n",
        "Vous pouvez supprimer des éléments en utilisant la clé avec la methode **pop()**."
      ]
    },
    {
      "cell_type": "code",
      "execution_count": 109,
      "metadata": {
        "colab": {
          "base_uri": "https://localhost:8080/",
          "height": 34
        },
        "colab_type": "code",
        "id": "0cPXXWkY0eCZ",
        "outputId": "da888bd9-4c15-499c-c171-306d2dafb9eb"
      },
      "outputs": [
        {
          "name": "stdout",
          "output_type": "stream",
          "text": [
            "{'nom': 'Alice', 'age': 22, 'matieres': ['mathématiques', 'physique'], 'ville': 'Paris'}\n",
            "Paris\n",
            "{'nom': 'Alice', 'age': 22, 'matieres': ['mathématiques', 'physique']}\n"
          ]
        }
      ],
      "source": [
        "# Supprimer une clé\n",
        "del etudiant[\"note\"]\n",
        "print(etudiant)\n",
        "# Sortie : {'nom': 'Alice', 'age': 22, 'matieres': ['mathématiques', 'physique'], 'ville': 'Paris'}\n",
        "\n",
        "# Utiliser pop() pour supprimer une clé et obtenir sa valeur\n",
        "ville = etudiant.pop(\"ville\")\n",
        "print(ville)  # Sortie : Paris\n",
        "print(etudiant)  # Sortie : {'nom': 'Alice', 'age': 22, 'matieres': ['mathématiques', 'physique']}\n"
      ]
    },
    {
      "cell_type": "markdown",
      "metadata": {
        "colab_type": "text",
        "id": "tCIkswDN1L9m"
      },
      "source": [
        "## Opérations sur les Dictionnaires\n",
        "Les dictionnaires en Python fournissent un certain nombre de méthodes intégrées pour effectuer des opérations courantes.\n",
        "\n",
        "Obtenir les Clés, Valeurs et Éléments\n",
        "* Clés : **dict.keys()**\n",
        "* Valeurs : **dict.values()**\n",
        "* Éléments : **dict.items()**"
      ]
    },
    {
      "cell_type": "code",
      "execution_count": 110,
      "metadata": {
        "colab": {},
        "colab_type": "code",
        "id": "8v_RHt9F1KGx"
      },
      "outputs": [
        {
          "name": "stdout",
          "output_type": "stream",
          "text": [
            "dict_keys(['nom', 'age', 'matieres'])\n",
            "dict_values(['Alice', 22, ['mathématiques', 'physique']])\n",
            "dict_items([('nom', 'Alice'), ('age', 22), ('matieres', ['mathématiques', 'physique'])])\n"
          ]
        }
      ],
      "source": [
        "# Obtenir toutes les clés\n",
        "cles = etudiant.keys()\n",
        "print(cles)  # Sortie : dict_keys(['nom', 'age', 'matieres'])\n",
        "\n",
        "# Obtenir toutes les valeurs\n",
        "valeurs = etudiant.values()\n",
        "print(valeurs)  # Sortie : dict_values(['Alice', 22, ['mathématiques', 'physique']])\n",
        "\n",
        "# Obtenir toutes les paires clé-valeur\n",
        "elements = etudiant.items()\n",
        "print(elements)  # Sortie : dict_items([('nom', 'Alice'), ('age', 22), ('matieres', ['mathématiques', 'physique'])])\n"
      ]
    },
    {
      "cell_type": "markdown",
      "metadata": {},
      "source": [
        "**Vérifier l'Existence d'une Clé :**\n",
        "Vous pouvez vérifier si une clé existe dans un dictionnaire en utilisant l'opérateur **in**."
      ]
    },
    {
      "cell_type": "code",
      "execution_count": 111,
      "metadata": {
        "colab": {
          "base_uri": "https://localhost:8080/",
          "height": 34
        },
        "colab_type": "code",
        "id": "IlZRIOPb1Zd_",
        "outputId": "28332b9a-6ae8-4196-e464-117f74f0b2d7"
      },
      "outputs": [
        {
          "name": "stdout",
          "output_type": "stream",
          "text": [
            "La clé 'nom' existe dans le dictionnaire.\n",
            "La clé 'note' n'existe pas dans le dictionnaire.\n"
          ]
        }
      ],
      "source": [
        "# Vérifier si la clé 'nom' existe\n",
        "if \"nom\" in etudiant:\n",
        "    print(\"La clé 'nom' existe dans le dictionnaire.\")\n",
        "\n",
        "# Vérifier si la clé 'note' existe\n",
        "if \"note\" not in etudiant:\n",
        "    print(\"La clé 'note' n'existe pas dans le dictionnaire.\")\n"
      ]
    },
    {
      "cell_type": "markdown",
      "metadata": {
        "colab_type": "text",
        "id": "OC8GzBfW1pBr"
      },
      "source": [
        "**Fusionner des Dictionnaires :**\n",
        "Vous pouvez fusionner deux dictionnaires en utilisant la méthode **update()** ou l'opérateur **|** (à partir de Python 3.9)."
      ]
    },
    {
      "cell_type": "code",
      "execution_count": 112,
      "metadata": {
        "colab": {
          "base_uri": "https://localhost:8080/",
          "height": 51
        },
        "colab_type": "code",
        "id": "njAZZTkf1d7H",
        "outputId": "b8f4a6a6-7e3f-4e3e-cb09-328ff4c24373"
      },
      "outputs": [
        {
          "name": "stdout",
          "output_type": "stream",
          "text": [
            "{'nom': 'Alice', 'age': 22, 'matieres': ['mathématiques', 'physique'], 'universite': 'Université de Paris', 'annee': 2024}\n",
            "{'nom': 'Alice', 'age': 22, 'matieres': ['mathématiques', 'physique'], 'universite': 'Université de Paris', 'annee': 2024, 'note': 16, 'ville': 'Lyon'}\n"
          ]
        }
      ],
      "source": [
        "# Dictionnaire supplémentaire\n",
        "nouvelle_info = {\n",
        "    \"universite\": \"Université de Paris\",\n",
        "    \"annee\": 2024\n",
        "}\n",
        "\n",
        "# Utiliser update() pour fusionner\n",
        "etudiant.update(nouvelle_info)\n",
        "print(etudiant)\n",
        "# Sortie : {'nom': 'Alice', 'age': 22, 'matieres': ['mathématiques', 'physique'], 'universite': 'Université de Paris', 'annee': 2024}\n",
        "\n",
        "# Utiliser l'opérateur | (Python 3.9+)\n",
        "etudiant_maj = etudiant | {\"note\": 16, \"ville\": \"Lyon\"}\n",
        "print(etudiant_maj)\n",
        "# Sortie : {'nom': 'Alice', 'age': 22, 'matieres': ['mathématiques', 'physique'], 'universite': 'Université de Paris', 'annee': 2024, 'note': 16, 'ville': 'Lyon'}\n"
      ]
    },
    {
      "cell_type": "markdown",
      "metadata": {
        "colab_type": "text",
        "id": "qWrT3hUL3nbN"
      },
      "source": [
        "## Exercice et Solution\n",
        "**Exercice 1 :** Informations sur les Étudiants\n",
        "Créez un dictionnaire etudiant avec les informations suivantes :\n",
        "\n",
        "Nom : \"Jean Dupont\"\n",
        "\n",
        "Âge : 20\n",
        "\n",
        "Matières : [\"mathématiques\", \"informatique\", \"physique\"]\n",
        "\n",
        "* Ajoutez une clé \"universite\" avec la valeur \"Sorbonne\".\n",
        "* Modifiez l'âge de l'étudiant à 21.\n",
        "* Supprimez la clé \"physique\" de la liste des matières.\n",
        "* Affichez toutes les informations de l'étudiant."
      ]
    },
    {
      "cell_type": "code",
      "execution_count": 113,
      "metadata": {
        "colab": {},
        "colab_type": "code",
        "id": "lvFl1n8Z22Pq"
      },
      "outputs": [
        {
          "name": "stdout",
          "output_type": "stream",
          "text": [
            "Nom : Jean Dupont\n",
            "Age : 20\n",
            "Matieres : ['mathématiques', 'informatique', 'physique']\n",
            "----------------------------------------------------------------\n",
            "Nom : Jean Dupont\n",
            "Age : 20\n",
            "Matieres : ['mathématiques', 'informatique', 'physique']\n",
            "Universite : Sorbonne\n",
            "----------------------------------------------------------------\n",
            "Nom : Jean Dupont\n",
            "Age : 21\n",
            "Matieres : ['mathématiques', 'informatique', 'physique']\n",
            "Universite : Sorbonne\n",
            "----------------------------------------------------------------\n",
            "Nom : Jean Dupont\n",
            "Age : 21\n",
            "Matieres : ['mathématiques', 'informatique']\n",
            "Universite : Sorbonne\n"
          ]
        }
      ],
      "source": [
        "# Dictionnaire de l'étudiant\n",
        "etudiant = {\n",
        "    \"nom\": \"Jean Dupont\",\n",
        "    \"age\": 20,\n",
        "    \"matieres\": [\"mathématiques\", \"informatique\", \"physique\"]\n",
        "}\n",
        "\n",
        "# Afficher les informations\n",
        "for cle, valeur in etudiant.items():\n",
        "    print(f\"{cle.capitalize()} : {valeur}\")\n",
        "\n",
        "print(\"----------------------------------------------------------------\")\n",
        "\n",
        "# Ajouter une clé\n",
        "etudiant[\"universite\"] = \"Sorbonne\"\n",
        "\n",
        "# Afficher les informations\n",
        "for cle, valeur in etudiant.items():\n",
        "    print(f\"{cle.capitalize()} : {valeur}\")\n",
        "\n",
        "print(\"----------------------------------------------------------------\")\n",
        "\n",
        "# Modifier l'âge\n",
        "etudiant[\"age\"] = 21\n",
        "\n",
        "# Afficher les informations\n",
        "for cle, valeur in etudiant.items():\n",
        "    print(f\"{cle.capitalize()} : {valeur}\")\n",
        "\n",
        "print(\"----------------------------------------------------------------\")\n",
        "\n",
        "# Supprimer une matière\n",
        "etudiant[\"matieres\"].remove(\"physique\")\n",
        "\n",
        "# Afficher les informations\n",
        "for cle, valeur in etudiant.items():\n",
        "    print(f\"{cle.capitalize()} : {valeur}\")\n"
      ]
    },
    {
      "cell_type": "markdown",
      "metadata": {},
      "source": [
        "**Exercice 2 :** \n",
        "Créez un dictionnaire inventaire avec les articles suivants et leurs quantités :\n",
        "\n",
        "\"pommes\" : 10\n",
        "\n",
        "\"bananes\" : 5\n",
        "\n",
        "\"oranges\" : 8\n",
        "\n",
        "* Ajoutez un nouvel article \"cerises\" avec une quantité de 15.\n",
        "* Diminuez la quantité de \"pommes\" de 2.\n",
        "* Supprimez l'article \"bananes\".\n",
        "* Affichez le total des articles en stock."
      ]
    },
    {
      "cell_type": "code",
      "execution_count": 114,
      "metadata": {
        "colab": {},
        "colab_type": "code",
        "id": "LAOsU1Ya4PKY"
      },
      "outputs": [
        {
          "name": "stdout",
          "output_type": "stream",
          "text": [
            "{'pommes': 10, 'bananes': 5, 'oranges': 8}\n",
            "----------------------------------------------------------------\n",
            "{'pommes': 10, 'bananes': 5, 'oranges': 8, 'cerises': 15}\n",
            "----------------------------------------------------------------\n",
            "{'pommes': 8, 'bananes': 5, 'oranges': 8, 'cerises': 15}\n",
            "----------------------------------------------------------------\n",
            "{'pommes': 8, 'oranges': 8, 'cerises': 15}\n",
            "----------------------------------------------------------------\n",
            "Total des articles en stock : 31\n"
          ]
        }
      ],
      "source": [
        "# Dictionnaire d'inventaire\n",
        "inventaire = {\n",
        "    \"pommes\": 10,\n",
        "    \"bananes\": 5,\n",
        "    \"oranges\": 8\n",
        "}\n",
        "\n",
        "print(inventaire)\n",
        "print(\"----------------------------------------------------------------\")\n",
        "\n",
        "# Ajouter un nouvel article\n",
        "inventaire[\"cerises\"] = 15\n",
        "\n",
        "print(inventaire)\n",
        "print(\"----------------------------------------------------------------\")\n",
        "\n",
        "# Diminuer la quantité de pommes\n",
        "inventaire[\"pommes\"] -= 2\n",
        "\n",
        "print(inventaire)\n",
        "print(\"----------------------------------------------------------------\")\n",
        "\n",
        "# Supprimer l'article bananes\n",
        "del inventaire[\"bananes\"]\n",
        "\n",
        "print(inventaire)\n",
        "print(\"----------------------------------------------------------------\")\n",
        "\n",
        "# Afficher le total des articles\n",
        "total = sum(inventaire.values())\n",
        "print(f\"Total des articles en stock : {total}\")\n"
      ]
    }
  ],
  "metadata": {
    "colab": {
      "authorship_tag": "ABX9TyNuaHloFlnajW67t9G5GL/M",
      "include_colab_link": true,
      "name": "Untitled2.ipynb",
      "provenance": []
    },
    "kernelspec": {
      "display_name": "Python 3 (ipykernel)",
      "language": "python",
      "name": "python3"
    },
    "language_info": {
      "codemirror_mode": {
        "name": "ipython",
        "version": 3
      },
      "file_extension": ".py",
      "mimetype": "text/x-python",
      "name": "python",
      "nbconvert_exporter": "python",
      "pygments_lexer": "ipython3",
      "version": "3.11.5"
    }
  },
  "nbformat": 4,
  "nbformat_minor": 0
}
