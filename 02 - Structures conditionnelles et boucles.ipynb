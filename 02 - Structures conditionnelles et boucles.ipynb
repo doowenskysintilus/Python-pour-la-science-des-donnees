{
  "cells": [
    {
      "cell_type": "markdown",
      "metadata": {
        "colab_type": "text",
        "id": "mc-EcvradiEm"
      },
      "source": [
        "# 2 : Structures de Controle et boucles\n",
        "Dans le monde de la programmation, il existe 3 principales **structures de controle** pour créer des algorithmes.\n",
        "- Les alternatives **If / Else**\n",
        "- Les boucles **For**\n",
        "- Les boucles **While**"
      ]
    },
    {
      "cell_type": "markdown",
      "metadata": {
        "colab_type": "text",
        "id": "GCRRr0YTdpRc"
      },
      "source": [
        "## 1. structures conditionnelles If / Else :\n",
        "Les structures conditionnelles vous permettent de contrôler le flux de votre programme en exécutant certaines parties de code en fonction de conditions données. Cela permet de prendre des décisions dans votre code, comme effectuer une action seulement si une certaine condition est remplie.\n",
        "\n",
        "**1. Instruction if**\n",
        "\n",
        "L'instruction if évalue une condition ; si cette condition est vraie, le bloc de code qui suit est exécuté."
      ]
    },
    {
      "cell_type": "code",
      "execution_count": 1,
      "metadata": {
        "colab": {},
        "colab_type": "code",
        "id": "36oymtgkdebr"
      },
      "outputs": [
        {
          "name": "stdout",
          "output_type": "stream",
          "text": [
            "x est supérieur à 5\n"
          ]
        }
      ],
      "source": [
        "x = 10\n",
        "if x > 5:\n",
        "    print(\"x est supérieur à 5\")\n"
      ]
    },
    {
      "cell_type": "code",
      "execution_count": 2,
      "metadata": {},
      "outputs": [
        {
          "name": "stdout",
          "output_type": "stream",
          "text": [
            "Vous êtes majeur.\n"
          ]
        }
      ],
      "source": [
        "age = 18\n",
        "\n",
        "if age >= 18:\n",
        "    print(\"Vous êtes majeur.\")\n"
      ]
    },
    {
      "cell_type": "markdown",
      "metadata": {},
      "source": [
        "**2. Instruction if-else**\n",
        "\n",
        "L'instruction if-else vous permet de gérer deux cas : un où la condition est vraie et un autre où elle est fausse."
      ]
    },
    {
      "cell_type": "code",
      "execution_count": 3,
      "metadata": {
        "colab": {
          "base_uri": "https://localhost:8080/",
          "height": 34
        },
        "colab_type": "code",
        "id": "eCbpqCywfazE",
        "outputId": "5f69f649-4092-473e-ed5a-2f97203b2752"
      },
      "outputs": [
        {
          "name": "stdout",
          "output_type": "stream",
          "text": [
            "x n'est pas supérieur à 5\n"
          ]
        }
      ],
      "source": [
        "x = 3\n",
        "if x > 5:\n",
        "    print(\"x est supérieur à 5\")\n",
        "else:\n",
        "    print(\"x n'est pas supérieur à 5\")\n"
      ]
    },
    {
      "cell_type": "code",
      "execution_count": 4,
      "metadata": {},
      "outputs": [
        {
          "name": "stdout",
          "output_type": "stream",
          "text": [
            "Le nombre est impair.\n"
          ]
        }
      ],
      "source": [
        "nombre = 7\n",
        "\n",
        "if nombre % 2 == 0:\n",
        "    print(\"Le nombre est pair.\")\n",
        "else:\n",
        "    print(\"Le nombre est impair.\")\n"
      ]
    },
    {
      "cell_type": "markdown",
      "metadata": {},
      "source": [
        "**3. Instruction if-elif-else**\n",
        "   \n",
        "L'instruction if-elif-else est utilisée pour tester plusieurs conditions, où l'on peut avoir plusieurs branches alternatives à gérer."
      ]
    },
    {
      "cell_type": "code",
      "execution_count": 5,
      "metadata": {},
      "outputs": [
        {
          "name": "stdout",
          "output_type": "stream",
          "text": [
            "Très bien\n"
          ]
        }
      ],
      "source": [
        "note = 85\n",
        "\n",
        "if note >= 90:\n",
        "    print(\"Excellente\")\n",
        "elif note >= 75:\n",
        "    print(\"Très bien\")\n",
        "elif note >= 60:\n",
        "    print(\"Bien\")\n",
        "else:\n",
        "    print(\"Peut mieux faire\")\n"
      ]
    },
    {
      "cell_type": "code",
      "execution_count": 6,
      "metadata": {},
      "outputs": [
        {
          "name": "stdout",
          "output_type": "stream",
          "text": [
            "Il fait très chaud.\n"
          ]
        }
      ],
      "source": [
        "temperature = 30\n",
        "\n",
        "if temperature >= 30:\n",
        "    print(\"Il fait très chaud.\")\n",
        "elif 20 <= temperature < 30:\n",
        "    print(\"Le temps est agréable.\")\n",
        "elif 10 <= temperature < 20:\n",
        "    print(\"Il fait frais.\")\n",
        "else:\n",
        "    print(\"Il fait froid.\")\n"
      ]
    },
    {
      "cell_type": "markdown",
      "metadata": {
        "colab_type": "text",
        "id": "CaHzgd9lfq5o"
      },
      "source": [
        "**Conditions Complexes**\n",
        "\n",
        "Python vous permet d'utiliser des opérateurs logiques pour créer des conditions plus complexes. Voici quelques opérateurs courants :\n",
        "\n",
        "* Opérateur logique **and**\n",
        "* Opérateur logique **or**\n",
        "* Opérateur logique **not**\n",
        "\n",
        "**1. Exemple avec and**"
      ]
    },
    {
      "cell_type": "code",
      "execution_count": 7,
      "metadata": {
        "colab": {
          "base_uri": "https://localhost:8080/",
          "height": 51
        },
        "colab_type": "code",
        "id": "eT4ffeSrfeB2",
        "outputId": "80a81a89-0672-4812-a264-24e5014b059f"
      },
      "outputs": [
        {
          "name": "stdout",
          "output_type": "stream",
          "text": [
            "Vous êtes éligible pour un prêt.\n"
          ]
        }
      ],
      "source": [
        "age = 25\n",
        "revenu_annuel = 40000\n",
        "\n",
        "if age >= 18 and revenu_annuel >= 30000:\n",
        "    print(\"Vous êtes éligible pour un prêt.\")\n",
        "else:\n",
        "    print(\"Vous n'êtes pas éligible pour un prêt.\")"
      ]
    },
    {
      "cell_type": "markdown",
      "metadata": {},
      "source": [
        "**2. Exemple avec or**"
      ]
    },
    {
      "cell_type": "code",
      "execution_count": 8,
      "metadata": {},
      "outputs": [
        {
          "name": "stdout",
          "output_type": "stream",
          "text": [
            "C'est le week-end !\n"
          ]
        }
      ],
      "source": [
        "jour = \"samedi\"\n",
        "\n",
        "if jour == \"samedi\" or jour == \"dimanche\":\n",
        "    print(\"C'est le week-end !\")\n",
        "else:\n",
        "    print(\"C'est un jour de semaine.\")"
      ]
    },
    {
      "cell_type": "markdown",
      "metadata": {},
      "source": [
        "**3. Exemple avec not**"
      ]
    },
    {
      "cell_type": "code",
      "execution_count": 9,
      "metadata": {},
      "outputs": [
        {
          "name": "stdout",
          "output_type": "stream",
          "text": [
            "Vous n'êtes pas adulte.\n"
          ]
        }
      ],
      "source": [
        "est_adulte = False\n",
        "\n",
        "if not est_adulte:\n",
        "    print(\"Vous n'êtes pas adulte.\")\n",
        "else:\n",
        "    print(\"Vous êtes adulte.\")\n",
        "\n",
        "# L'opérateur not inverse la valeur booléenne de la condition."
      ]
    },
    {
      "cell_type": "markdown",
      "metadata": {
        "colab_type": "text",
        "id": "X7ySgVEwhbFd"
      },
      "source": [
        "## 2. les boucle For et While\n",
        "Les boucles for et while en Python sont des structures de contrôle qui vous permettent d'exécuter un bloc de code plusieurs fois. Elles sont fondamentales pour effectuer des tâches répétitives et itérer sur des collections de données.\n",
        "\n",
        "**Boucle for**\n",
        "\n",
        "La boucle for est utilisée pour itérer sur une séquence (comme une liste, un tuple, un dictionnaire, un ensemble ou une chaîne de caractères) ou tout autre objet itérable.\n",
        "\n",
        "**La fonction range()** est souvent utilisée pour générer une séquence de nombres."
      ]
    },
    {
      "cell_type": "code",
      "execution_count": 10,
      "metadata": {
        "colab": {
          "base_uri": "https://localhost:8080/",
          "height": 187
        },
        "colab_type": "code",
        "id": "4O5B4LHbhMze",
        "outputId": "6c890d52-f5fe-4ed7-e674-314687a88d70"
      },
      "outputs": [
        {
          "name": "stdout",
          "output_type": "stream",
          "text": [
            "0\n",
            "1\n",
            "2\n",
            "3\n",
            "4\n",
            "5\n",
            "6\n",
            "7\n",
            "8\n",
            "9\n"
          ]
        }
      ],
      "source": [
        "# range(début, fin, pas) est une built-in fonction tres utile de python qui retourne un itérable.\n",
        "for i in range(0, 10):\n",
        "  print(i)"
      ]
    },
    {
      "cell_type": "code",
      "execution_count": 11,
      "metadata": {
        "colab": {
          "base_uri": "https://localhost:8080/",
          "height": 357
        },
        "colab_type": "code",
        "id": "aZSpQmXRjJGx",
        "outputId": "87cbbc20-302d-42b3-aa70-c2f8ef4e8ef9"
      },
      "outputs": [
        {
          "name": "stdout",
          "output_type": "stream",
          "text": [
            "0\n",
            "2\n",
            "4\n",
            "6\n",
            "8\n"
          ]
        }
      ],
      "source": [
        "# on peut s'amuser a combiner cette boucle avec notre fonction de tout a l'heure.\n",
        "for i in range(0, 10, 2):\n",
        "  print(i)\n"
      ]
    },
    {
      "cell_type": "code",
      "execution_count": 12,
      "metadata": {},
      "outputs": [
        {
          "name": "stdout",
          "output_type": "stream",
          "text": [
            "p\n",
            "y\n",
            "t\n",
            "h\n",
            "o\n",
            "n\n"
          ]
        }
      ],
      "source": [
        "mot = \"python\"\n",
        "\n",
        "for lettre in mot:\n",
        "    print(lettre)\n"
      ]
    },
    {
      "cell_type": "markdown",
      "metadata": {
        "colab_type": "text",
        "id": "_saAMgPukHO-"
      },
      "source": [
        "**Boucle while**\n",
        "\n",
        "La boucle while est utilisée pour répéter un bloc de code tant qu'une condition donnée est vraie. Elle est particulièrement utile lorsque le nombre d'itérations n'est pas connu à l'avance."
      ]
    },
    {
      "cell_type": "code",
      "execution_count": 13,
      "metadata": {
        "colab": {
          "base_uri": "https://localhost:8080/",
          "height": 187
        },
        "colab_type": "code",
        "id": "M8qYGgBkj3m9",
        "outputId": "cb4df7df-e53c-4a74-ed59-7a83a72f4540"
      },
      "outputs": [
        {
          "name": "stdout",
          "output_type": "stream",
          "text": [
            "0\n",
            "1\n",
            "2\n",
            "3\n",
            "4\n"
          ]
        }
      ],
      "source": [
        "compteur = 0\n",
        "\n",
        "while compteur < 5:\n",
        "    print(compteur)\n",
        "    compteur += 1\n"
      ]
    },
    {
      "cell_type": "markdown",
      "metadata": {},
      "source": [
        "**Boucle for avec else**\n",
        "\n",
        "La boucle for peut être utilisée avec un bloc else qui s'exécute lorsque la boucle se termine normalement (sans rencontrer un break)."
      ]
    },
    {
      "cell_type": "code",
      "execution_count": 14,
      "metadata": {},
      "outputs": [
        {
          "name": "stdout",
          "output_type": "stream",
          "text": [
            "0\n",
            "1\n",
            "2\n",
            "3\n",
            "4\n",
            "La boucle s'est terminée normalement.\n"
          ]
        }
      ],
      "source": [
        "for i in range(5):\n",
        "    print(i)\n",
        "else:\n",
        "    print(\"La boucle s'est terminée normalement.\")\n"
      ]
    },
    {
      "cell_type": "markdown",
      "metadata": {},
      "source": [
        "**Boucle while avec else**\n",
        "\n",
        "De même, la boucle while peut être utilisée avec un bloc else."
      ]
    },
    {
      "cell_type": "code",
      "execution_count": 15,
      "metadata": {},
      "outputs": [
        {
          "name": "stdout",
          "output_type": "stream",
          "text": [
            "0\n",
            "1\n",
            "2\n",
            "3\n",
            "4\n",
            "La boucle s'est terminée normalement.\n"
          ]
        }
      ],
      "source": [
        "compteur = 0\n",
        "\n",
        "while compteur < 5:\n",
        "    print(compteur)\n",
        "    compteur += 1\n",
        "else:\n",
        "    print(\"La boucle s'est terminée normalement.\")\n"
      ]
    }
  ],
  "metadata": {
    "colab": {
      "authorship_tag": "ABX9TyMj3VzLYETwJDJ7iMVVo3pw",
      "include_colab_link": true,
      "name": "Untitled3.ipynb",
      "provenance": []
    },
    "kernelspec": {
      "display_name": "Python 3 (ipykernel)",
      "language": "python",
      "name": "python3"
    },
    "language_info": {
      "codemirror_mode": {
        "name": "ipython",
        "version": 3
      },
      "file_extension": ".py",
      "mimetype": "text/x-python",
      "name": "python",
      "nbconvert_exporter": "python",
      "pygments_lexer": "ipython3",
      "version": "3.11.5"
    }
  },
  "nbformat": 4,
  "nbformat_minor": 0
}
