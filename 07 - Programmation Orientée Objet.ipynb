{
  "cells": [
    {
      "cell_type": "markdown",
      "metadata": {
        "colab_type": "text",
        "id": "-nGb6MtRYWC8"
      },
      "source": [
        "# Programmation Orientée Objet avec Python\n",
        "\n",
        "La Programmation Orientée Objet (POO) est un paradigme de programmation qui organise le code en objets, plutôt qu'autour de fonctions et de procédures. la POO permet de modéliser des concepts du monde réel ou abstraits sous forme de classes et d'objets, offrant une manière puissante et intuitive d'écrire et de structurer des programmes complexes.\n",
        "\n",
        "**Concepts Clés de la POO**\n",
        "\n",
        "* **Classe :** C'est un plan ou un modèle pour créer des objets. Elle définit un ensemble d'attributs et de méthodes qui caractérisent l'objet.\n",
        "\n",
        "* **Objet :** Une instance d'une classe. Chaque objet possède ses propres attributs et méthodes définis par la classe.\n",
        "\n",
        "* **Attributs :** Ce sont des variables qui appartiennent à une classe. Ils définissent les caractéristiques de l'objet.\n",
        "\n",
        "* **Méthodes :** Ce sont des fonctions qui appartiennent à une classe. Elles définissent les comportements de l'objet.\n",
        "\n",
        "* **Encapsulation :** Le fait de regrouper les données (attributs) et les méthodes qui agissent sur ces données au sein d'une même classe, tout en restreignant l'accès direct aux attributs depuis l'extérieur de la classe.\n",
        "\n",
        "* **Héritage :** Permet de créer une nouvelle classe à partir d'une classe existante. La nouvelle classe (classe dérivée) hérite des attributs et méthodes de la classe existante (classe de base).\n",
        "\n",
        "* **Polymorphisme :** Capacité à redéfinir les méthodes dans les classes dérivées tout en gardant le même nom de méthode que dans la classe de base, permettant ainsi à une méthode d'agir différemment selon l'objet.\n",
        "\n",
        "* **Abstraction :** Le processus de cacher les détails complexes et de ne montrer que les fonctionnalités essentielles.\n",
        "\n",
        "Création d'une Classe et d'un Objet\n"
      ]
    },
    {
      "cell_type": "code",
      "execution_count": 248,
      "metadata": {
        "colab": {},
        "colab_type": "code",
        "id": "pRyJ-iSwYUul"
      },
      "outputs": [
        {
          "name": "stdout",
          "output_type": "stream",
          "text": [
            "Rex\n",
            "Berger Allemand\n",
            "Rex aboie !\n"
          ]
        }
      ],
      "source": [
        "# Définition d'une classe\n",
        "class Chien:\n",
        "    # Méthode d'initialisation (constructeur)\n",
        "    def __init__(self, nom, race):\n",
        "        self.nom = nom   # Attribut de l'objet\n",
        "        self.race = race # Attribut de l'objet\n",
        "\n",
        "    # Méthode pour aboyer\n",
        "    def aboyer(self):\n",
        "        print(f\"{self.nom} aboie !\")\n",
        "\n",
        "# Création d'un objet (instance de la classe)\n",
        "mon_chien = Chien(\"Rex\", \"Berger Allemand\")\n",
        "\n",
        "# Utilisation de l'objet\n",
        "print(mon_chien.nom)   # Sortie : Rex\n",
        "print(mon_chien.race)  # Sortie : Berger Allemand\n",
        "mon_chien.aboyer()     # Sortie : Rex aboie !\n"
      ]
    },
    {
      "cell_type": "markdown",
      "metadata": {},
      "source": [
        "**Héritage :**\n",
        "L'héritage permet de créer une nouvelle classe basée sur une classe existante.\n",
        "\n",
        "Exemple"
      ]
    },
    {
      "cell_type": "code",
      "execution_count": 249,
      "metadata": {
        "colab": {},
        "colab_type": "code",
        "id": "Ngx7Fh0FcdMG"
      },
      "outputs": [],
      "source": [
        "# Classe de base\n",
        "class Animal:\n",
        "    def __init__(self, nom):\n",
        "        self.nom = nom\n",
        "\n",
        "    def manger(self):\n",
        "        print(f\"{self.nom} mange.\")"
      ]
    },
    {
      "cell_type": "code",
      "execution_count": 250,
      "metadata": {},
      "outputs": [],
      "source": [
        "# Classe dérivée\n",
        "class Chat(Animal):\n",
        "    def miauler(self):\n",
        "        print(f\"{self.nom} miaule !\")\n"
      ]
    },
    {
      "cell_type": "code",
      "execution_count": 251,
      "metadata": {
        "colab": {},
        "colab_type": "code",
        "id": "PVclukHucn09"
      },
      "outputs": [
        {
          "name": "stdout",
          "output_type": "stream",
          "text": [
            "Miaou mange.\n",
            "Miaou miaule !\n"
          ]
        }
      ],
      "source": [
        "# Création d'un objet de la classe dérivée\n",
        "mon_chat = Chat(\"Miaou\")\n",
        "mon_chat.manger()   # Sortie : Miaou mange.\n",
        "mon_chat.miauler()  # Sortie : Miaou miaule !"
      ]
    },
    {
      "cell_type": "markdown",
      "metadata": {},
      "source": [
        "**Encapsulation :**\n",
        "L'encapsulation permet de restreindre l'accès à certaines données internes à la classe. En Python, on peut utiliser un underscore _ (par convention) pour indiquer que les attributs ou méthodes sont \"privés\"."
      ]
    },
    {
      "cell_type": "code",
      "execution_count": 252,
      "metadata": {
        "colab": {
          "base_uri": "https://localhost:8080/",
          "height": 68
        },
        "colab_type": "code",
        "id": "2_P2lLkOctNS",
        "outputId": "45b07770-fe02-47bd-92e1-5e7256cad533"
      },
      "outputs": [
        {
          "name": "stdout",
          "output_type": "stream",
          "text": [
            "Solde de Alice : 1300 €\n"
          ]
        }
      ],
      "source": [
        "class CompteBancaire:\n",
        "    def __init__(self, titulaire, solde):\n",
        "        self.titulaire = titulaire\n",
        "        self._solde = solde  # Attribut \"privé\"\n",
        "\n",
        "    def deposer(self, montant):\n",
        "        self._solde += montant\n",
        "\n",
        "    def retirer(self, montant):\n",
        "        if montant > self._solde:\n",
        "            print(\"Fonds insuffisants.\")\n",
        "        else:\n",
        "            self._solde -= montant\n",
        "\n",
        "    def afficher_solde(self):\n",
        "        print(f\"Solde de {self.titulaire} : {self._solde} €\")\n",
        "\n",
        "# Création d'un compte bancaire\n",
        "compte = CompteBancaire(\"Alice\", 1000)\n",
        "compte.deposer(500)\n",
        "compte.retirer(200)\n",
        "compte.afficher_solde()  # Sortie : Solde de Alice : 1300 €\n"
      ]
    },
    {
      "cell_type": "markdown",
      "metadata": {},
      "source": [
        "**Polymorphisme :**\n",
        "Le polymorphisme permet d'utiliser une même méthode pour différents objets de classes différentes."
      ]
    },
    {
      "cell_type": "code",
      "execution_count": 253,
      "metadata": {},
      "outputs": [
        {
          "name": "stdout",
          "output_type": "stream",
          "text": [
            "Woof!\n",
            "Miaou!\n"
          ]
        }
      ],
      "source": [
        "class Chien:\n",
        "    def parler(self):\n",
        "        return \"Woof!\"\n",
        "\n",
        "class Chat:\n",
        "    def parler(self):\n",
        "        return \"Miaou!\"\n",
        "\n",
        "# Fonction polymorphe\n",
        "def faire_parler(animal):\n",
        "    print(animal.parler())\n",
        "\n",
        "# Test\n",
        "rex = Chien()\n",
        "felix = Chat()\n",
        "\n",
        "faire_parler(rex)   # Sortie : Woof!\n",
        "faire_parler(felix) # Sortie : Miaou!\n"
      ]
    },
    {
      "cell_type": "markdown",
      "metadata": {},
      "source": [
        "**Abstraction :**\n",
        "L'abstraction cache les détails d'implémentation complexes et montre seulement les fonctionnalités essentielles.\n",
        "\n",
        "Python utilise le module **abc** pour créer des classes abstraites."
      ]
    },
    {
      "cell_type": "code",
      "execution_count": 254,
      "metadata": {},
      "outputs": [
        {
          "name": "stdout",
          "output_type": "stream",
          "text": [
            "La voiture roule.\n",
            "L'avion vole.\n"
          ]
        }
      ],
      "source": [
        "from abc import ABC, abstractmethod\n",
        "\n",
        "class Vehicule(ABC):\n",
        "    @abstractmethod\n",
        "    def se_deplacer(self):\n",
        "        pass\n",
        "\n",
        "class Voiture(Vehicule):\n",
        "    def se_deplacer(self):\n",
        "        print(\"La voiture roule.\")\n",
        "\n",
        "class Avion(Vehicule):\n",
        "    def se_deplacer(self):\n",
        "        print(\"L'avion vole.\")\n",
        "\n",
        "# Test\n",
        "ma_voiture = Voiture()\n",
        "mon_avion = Avion()\n",
        "\n",
        "ma_voiture.se_deplacer()  # Sortie : La voiture roule.\n",
        "mon_avion.se_deplacer()   # Sortie : L'avion vole.\n"
      ]
    },
    {
      "cell_type": "markdown",
      "metadata": {
        "colab_type": "text",
        "id": "kUEyyKQudmcM"
      },
      "source": [
        "## Exercices de POO\n",
        "**Exercice 1 : Gestion d'une Bibliothèque**\n",
        "\n",
        "* Créez une classe Livre avec des attributs pour le titre, l'auteur et le nombre de pages.\n",
        "* Créez une classe Bibliotheque qui contient une liste de livres et des méthodes pour :\n",
        "1. Ajouter un livre.\n",
        "2. Supprimer un livre.\n",
        "3. Afficher tous les livres."
      ]
    },
    {
      "cell_type": "code",
      "execution_count": 255,
      "metadata": {
        "colab": {},
        "colab_type": "code",
        "id": "YOF_0y2Hcu3Z"
      },
      "outputs": [
        {
          "name": "stdout",
          "output_type": "stream",
          "text": [
            "1984 de George Orwell, 328 pages\n",
            "Le Petit Prince de Antoine de Saint-Exupéry, 96 pages\n",
            "Le Petit Prince de Antoine de Saint-Exupéry, 96 pages\n"
          ]
        }
      ],
      "source": [
        "class Livre:\n",
        "    def __init__(self, titre, auteur, pages):\n",
        "        self.titre = titre\n",
        "        self.auteur = auteur\n",
        "        self.pages = pages\n",
        "\n",
        "    def __str__(self):\n",
        "        return f\"{self.titre} de {self.auteur}, {self.pages} pages\"\n",
        "\n",
        "class Bibliotheque:\n",
        "    def __init__(self):\n",
        "        self.livres = []\n",
        "\n",
        "    def ajouter_livre(self, livre):\n",
        "        self.livres.append(livre)\n",
        "\n",
        "    def supprimer_livre(self, titre):\n",
        "        self.livres = [livre for livre in self.livres if livre.titre != titre]\n",
        "\n",
        "    def afficher_livres(self):\n",
        "        if not self.livres:\n",
        "            print(\"La bibliothèque est vide.\")\n",
        "        else:\n",
        "            for livre in self.livres:\n",
        "                print(livre)\n",
        "\n",
        "# Test\n",
        "bibliotheque = Bibliotheque()\n",
        "\n",
        "livre1 = Livre(\"1984\", \"George Orwell\", 328)\n",
        "livre2 = Livre(\"Le Petit Prince\", \"Antoine de Saint-Exupéry\", 96)\n",
        "\n",
        "bibliotheque.ajouter_livre(livre1)\n",
        "bibliotheque.ajouter_livre(livre2)\n",
        "\n",
        "bibliotheque.afficher_livres()\n",
        "# Sortie :\n",
        "# 1984 de George Orwell, 328 pages\n",
        "# Le Petit Prince de Antoine de Saint-Exupéry, 96 pages\n",
        "\n",
        "bibliotheque.supprimer_livre(\"1984\")\n",
        "bibliotheque.afficher_livres()\n",
        "# Sortie : Le Petit Prince de Antoine de Saint-Exupéry, 96 pages\n"
      ]
    },
    {
      "cell_type": "markdown",
      "metadata": {},
      "source": [
        "**Exercice 2 : Système de Gestion des Étudiants**\n",
        "\n",
        "* Créez une classe Etudiant avec des attributs pour le nom, l'âge, et la moyenne générale.\n",
        "* Créez une classe Classe qui contient une liste d'étudiants et des méthodes pour :\n",
        "1. Ajouter un étudiant.\n",
        "2. Retirer un étudiant.\n",
        "3. Afficher les informations de tous les étudiants.\n",
        "\n",
        "Ces concepts vous donneront une base solide pour comprendre et appliquer la Programmation Orientée Objet en Python."
      ]
    },
    {
      "cell_type": "code",
      "execution_count": 256,
      "metadata": {
        "colab": {},
        "colab_type": "code",
        "id": "-g8oJHE4gP9r"
      },
      "outputs": [
        {
          "name": "stdout",
          "output_type": "stream",
          "text": [
            "Alice a été ajouté à la classe.\n",
            "Bob a été ajouté à la classe.\n",
            "Charlie a été ajouté à la classe.\n",
            "\n",
            "Liste des étudiants :\n",
            "Étudiant: Alice, Âge: 20, Moyenne: 15.5\n",
            "Étudiant: Bob, Âge: 22, Moyenne: 14.0\n",
            "Étudiant: Charlie, Âge: 19, Moyenne: 16.2\n",
            "Bob a été retiré de la classe.\n",
            "\n",
            "Liste des étudiants après retrait :\n",
            "Étudiant: Alice, Âge: 20, Moyenne: 15.5\n",
            "Étudiant: Charlie, Âge: 19, Moyenne: 16.2\n"
          ]
        }
      ],
      "source": [
        "# Définition de la classe Etudiant\n",
        "class Etudiant:\n",
        "    def __init__(self, nom, age, moyenne):\n",
        "        self.nom = nom\n",
        "        self.age = age\n",
        "        self.moyenne = moyenne\n",
        "\n",
        "    def __str__(self):\n",
        "        return f\"Étudiant: {self.nom}, Âge: {self.age}, Moyenne: {self.moyenne}\"\n",
        "\n",
        "# Définition de la classe Classe\n",
        "class Classe:\n",
        "    def __init__(self):\n",
        "        self.etudiants = []\n",
        "\n",
        "    def ajouter_etudiant(self, etudiant):\n",
        "        self.etudiants.append(etudiant)\n",
        "        print(f\"{etudiant.nom} a été ajouté à la classe.\")\n",
        "\n",
        "    def retirer_etudiant(self, nom):\n",
        "        self.etudiants = [etudiant for etudiant in self.etudiants if etudiant.nom != nom]\n",
        "        print(f\"{nom} a été retiré de la classe.\")\n",
        "\n",
        "    def afficher_etudiants(self):\n",
        "        if not self.etudiants:\n",
        "            print(\"La classe est vide.\")\n",
        "        else:\n",
        "            for etudiant in self.etudiants:\n",
        "                print(etudiant)\n",
        "\n",
        "# Exemple d'utilisation\n",
        "# Création d'une classe\n",
        "ma_classe = Classe()\n",
        "\n",
        "# Création de quelques étudiants\n",
        "etudiant1 = Etudiant(\"Alice\", 20, 15.5)\n",
        "etudiant2 = Etudiant(\"Bob\", 22, 14.0)\n",
        "etudiant3 = Etudiant(\"Charlie\", 19, 16.2)\n",
        "\n",
        "# Ajout des étudiants à la classe\n",
        "ma_classe.ajouter_etudiant(etudiant1)\n",
        "ma_classe.ajouter_etudiant(etudiant2)\n",
        "ma_classe.ajouter_etudiant(etudiant3)\n",
        "\n",
        "# Affichage des étudiants\n",
        "print(\"\\nListe des étudiants :\")\n",
        "ma_classe.afficher_etudiants()\n",
        "\n",
        "# Retrait d'un étudiant\n",
        "ma_classe.retirer_etudiant(\"Bob\")\n",
        "\n",
        "# Affichage des étudiants après retrait\n",
        "print(\"\\nListe des étudiants après retrait :\")\n",
        "ma_classe.afficher_etudiants()\n"
      ]
    }
  ],
  "metadata": {
    "colab": {
      "authorship_tag": "ABX9TyPKq7O2+lerh4dr/+l82UHd",
      "include_colab_link": true,
      "name": "Untitled6.ipynb",
      "provenance": []
    },
    "kernelspec": {
      "display_name": "Python 3 (ipykernel)",
      "language": "python",
      "name": "python3"
    },
    "language_info": {
      "codemirror_mode": {
        "name": "ipython",
        "version": 3
      },
      "file_extension": ".py",
      "mimetype": "text/x-python",
      "name": "python",
      "nbconvert_exporter": "python",
      "pygments_lexer": "ipython3",
      "version": "3.11.5"
    }
  },
  "nbformat": 4,
  "nbformat_minor": 0
}
