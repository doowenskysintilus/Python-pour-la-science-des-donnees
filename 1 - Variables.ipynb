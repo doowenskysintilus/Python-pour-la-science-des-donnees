{
  "cells": [
    {
      "cell_type": "markdown",
      "metadata": {
        "colab_type": "text",
        "id": "kxKbJy3zUGqq"
      },
      "source": [
        "## 1. Variables\n",
        "En programmation, une variable est un conteneur utilisé pour stocker des données, qui peuvent être manipulées ou référencées tout au long d'un programme. Les variables permettent aux développeurs de conserver des valeurs en mémoire et de les utiliser pour effectuer divers calculs ou traitements.\n",
        "\n",
        "**Règles de Base pour Nommer les Variables**\n",
        "\n",
        "- Commencer par une lettre ou un underscore (_) :\n",
        "  \n",
        "Les noms de variables doivent commencer par une lettre (majuscule ou minuscule) ou un underscore (). Il est préférable d'utiliser l'underscore () pour séparer deux ou plusieurs mots qui composent le nom de la variable.\n",
        "\n",
        "***Exemple : nom, _compteur, prix_total***\n",
        "\n",
        "- Ne pas commencer par un chiffre :\n",
        "Les noms de variables ne doivent pas commencer par un chiffre.\n",
        "\n",
        "***Exemple incorrect : 2emeVariable***\n",
        "\n",
        "**NB :** Les noms de variables peuvent contenir des lettres, des chiffres, et des underscores, mais pas d'espaces ou de caractères spéciaux.\n",
        "\n",
        "***Exemple : temperature_max, valeur2***\n",
        "\n",
        "Python est sensible à la casse, ce qui signifie que Variable et variable sont considérés comme deux variables distinctes.\n",
        "\n",
        "***Exemple : compteur et Compteur sont différents.***\n",
        "\n",
        "Il existe 4 grands types de variables\n",
        "- int (nombre entier)\n",
        "- float (nombre décimal)\n",
        "- string (chaine de characteres)\n",
        "- bool (booléen)"
      ]
    },
    {
      "cell_type": "code",
      "execution_count": null,
      "metadata": {
        "colab": {},
        "colab_type": "code",
        "id": "sB5Lw22eThZs"
      },
      "outputs": [],
      "source": [
        "x = 3 # type int \n",
        "y = 2.5 # type float\n",
        "prenom = 'Pierre' # type string\n",
        "z = True # type Bool"
      ]
    },
    {
      "cell_type": "code",
      "execution_count": null,
      "metadata": {
        "colab": {
          "base_uri": "https://localhost:8080/",
          "height": 119
        },
        "colab_type": "code",
        "id": "gvy__Ni0VLDg",
        "outputId": "108dc562-5cdf-493f-f804-572bb84cff36"
      },
      "outputs": [
        {
          "name": "stdout",
          "output_type": "stream",
          "text": [
            "x + y = 5.5\n",
            "x - y = 0.5\n",
            "x / y = 1.2\n",
            "x // y = 1.0\n",
            "x % y = 0.5\n",
            "x * y = 7.5\n",
            "x ^ y = 15.588457268119896\n"
          ]
        }
      ],
      "source": [
        "# Opérations arithmétiques\n",
        "# addition\n",
        "print('x + y =', x + y)\n",
        "\n",
        "# soustraction\n",
        "print('x - y =', x - y)\n",
        "\n",
        "# La division divise un nombre par un autre et retourne un nombre flottant\n",
        "print('x / y =', x / y)\n",
        "\n",
        "# La division entière divise deux nombres et retourne le quotient sans la partie décimale (un entier).\n",
        "print('x // y =', x // y)\n",
        "\n",
        "# L'opérateur modulo\n",
        "# retourne le reste d'une division.\n",
        "print ('x % y =', x %y)\n",
        "\n",
        "# multiplication\n",
        "print('x * y =', x * y)\n",
        "\n",
        "# x puissance y\n",
        "# L'exponentiation élève un nombre à la puissance d'un autre.\n",
        "print('x ^ y =', x ** y) "
      ]
    },
    {
      "cell_type": "code",
      "execution_count": null,
      "metadata": {
        "colab": {
          "base_uri": "https://localhost:8080/",
          "height": 85
        },
        "colab_type": "code",
        "id": "osU_peQiV5QH",
        "outputId": "b5e7fe5a-24da-4c26-e26d-fdb680e49f1d"
      },
      "outputs": [
        {
          "name": "stdout",
          "output_type": "stream",
          "text": [
            "égalité : False\n",
            "inégalité : True\n",
            "inférieur ou égal : False\n",
            "supérieur ou égal : True\n"
          ]
        }
      ],
      "source": [
        "# Opérations de comparaison\n",
        "print('égalité :', x == y)\n",
        "print('inégalité :', x != y)\n",
        "print('inférieur ou égal :', x <= y)\n",
        "print('supérieur ou égal :', x >= y)"
      ]
    },
    {
      "cell_type": "code",
      "execution_count": null,
      "metadata": {
        "colab": {
          "base_uri": "https://localhost:8080/",
          "height": 68
        },
        "colab_type": "code",
        "id": "1s4g7tZxWpm0",
        "outputId": "a9487664-4832-4e20-db7f-801835d4f111"
      },
      "outputs": [
        {
          "name": "stdout",
          "output_type": "stream",
          "text": [
            "ET : False\n",
            "OU : True\n",
            "OU exclusif : True\n"
          ]
        }
      ],
      "source": [
        "# Opérations Logiques\n",
        "print('ET :', False and True)\n",
        "print('OU :', False or True)\n",
        "print('OU exclusif :', False ^ True)"
      ]
    }
  ],
  "metadata": {
    "colab": {
      "authorship_tag": "ABX9TyMFLkJWjpS73et8V2y/zKv/",
      "include_colab_link": true,
      "name": "Untitled2.ipynb",
      "provenance": []
    },
    "kernelspec": {
      "display_name": "Python 3 (ipykernel)",
      "language": "python",
      "name": "python3"
    }
  },
  "nbformat": 4,
  "nbformat_minor": 0
}
