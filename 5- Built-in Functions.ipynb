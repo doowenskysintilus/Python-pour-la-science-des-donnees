{
  "cells": [
    {
      "cell_type": "markdown",
      "metadata": {
        "id": "view-in-github"
      },
      "source": [
        "<a href=\"https://colab.research.google.com/github/MachineLearnia/Python-tutoriel/blob/master/07%20-%20Built-in%20Functions.ipynb\" target=\"_parent\"><img src=\"https://colab.research.google.com/assets/colab-badge.svg\" alt=\"Open In Colab\"/></a>"
      ]
    },
    {
      "cell_type": "markdown",
      "metadata": {
        "id": "VVszUmwz-bFM"
      },
      "source": [
        "# Functions\n",
        "Python est un langage de programmation qui offre un large éventail de fonctions intégrées (built-in functions) pour simplifier le développement. Ces fonctions sont toujours disponibles et peuvent être utilisées sans avoir besoin d'importer des modules supplémentaires. Voici une présentation détaillée des principales fonctions intégrées de Python, y compris des exemples d'utilisation pour chacune d'elles.\n",
        "\n",
        "- Fonctions de bases : **abs(), round(), max(), min(), len(), sum(), any(), all()**\n",
        "- Conversions de types de variables: **int() str(), float(), type()**\n",
        "- Conversions de structures de données: **list(), tuple()**\n",
        "- Conversions binaires (moins utile en machine learning): **bin(), oct(), hex()**\n",
        "- Fonction **input()**\n",
        "- Fonction **format()** (f-string)\n",
        "- Fonction **open()**"
      ]
    },
    {
      "cell_type": "markdown",
      "metadata": {
        "id": "i_Gg60cR_oFB"
      },
      "source": [
        "## 1. Fonction de bases\n",
        "Ces fonctions sont essentielles pour manipuler et transformer des données dans vos programmes.\n",
        "\n",
        "**1.1. abs() :**\n",
        "La fonction **abs()** renvoie la valeur absolue d'un nombre, qu'il soit entier ou à virgule flottante.\n",
        "\n",
        "Syntaxe : **abs(x)**"
      ]
    },
    {
      "cell_type": "code",
      "execution_count": 7,
      "metadata": {
        "colab": {
          "base_uri": "https://localhost:8080/"
        },
        "id": "EAfp-li6-ZSD",
        "outputId": "e556ebf6-c321-4f54-e6ba-3d93d7d2b217"
      },
      "outputs": [
        {
          "output_type": "stream",
          "name": "stdout",
          "text": [
            "5\n",
            "3.14\n",
            "2.5\n"
          ]
        }
      ],
      "source": [
        "# abs()\n",
        "print(abs(-5))     # Sortie : 5\n",
        "print(abs(3.14))   # Sortie : 3.14\n",
        "print(abs(-2.5))   # Sortie : 2.5"
      ]
    },
    {
      "cell_type": "markdown",
      "metadata": {
        "id": "Q7UNxWLuPUlQ"
      },
      "source": [
        "**1.2. round() :**\n",
        "La fonction **round()** arrondit un nombre à virgule flottante à un nombre spécifié de chiffres après la virgule.\n",
        "\n",
        "Syntaxe : **round(x, n)** où n est le nombre de décimales souhaitées."
      ]
    },
    {
      "cell_type": "code",
      "execution_count": 8,
      "metadata": {
        "colab": {
          "base_uri": "https://localhost:8080/"
        },
        "id": "YnTEUj20_3Wq",
        "outputId": "4910f7db-3f7c-4108-b063-73ccd9fb6ed7"
      },
      "outputs": [
        {
          "output_type": "stream",
          "name": "stdout",
          "text": [
            "3.14\n",
            "2.7\n",
            "2\n",
            "4\n"
          ]
        }
      ],
      "source": [
        "# round()\n",
        "print(round(3.14159, 2))  # Sortie : 3.14\n",
        "print(round(2.718, 1))    # Sortie : 2.7\n",
        "print(round(2.5))         # Sortie : 2\n",
        "print(round(3.5))         # Sortie : 4"
      ]
    },
    {
      "cell_type": "markdown",
      "metadata": {
        "id": "zQvF6EmkPUlR"
      },
      "source": [
        "**1.3. max() et min() :**\n",
        "Les fonctions **max()** et **min()** renvoient respectivement la plus grande et la plus petite valeur d'une séquence.\n",
        "\n",
        "Syntaxe :\n",
        "* **max(iterable, [, key, default])**\n",
        "* **min(iterable, [, key, default])**"
      ]
    },
    {
      "cell_type": "code",
      "execution_count": 9,
      "metadata": {
        "colab": {
          "base_uri": "https://localhost:8080/"
        },
        "id": "c3I6FPVkANmN",
        "outputId": "beb21681-b113-41b2-e707-e2eb788371d8"
      },
      "outputs": [
        {
          "output_type": "stream",
          "name": "stdout",
          "text": [
            "5\n",
            "1\n",
            "y\n",
            "h\n",
            "3\n",
            "1\n"
          ]
        }
      ],
      "source": [
        "# Listes\n",
        "print(max([1, 2, 3, 4, 5]))  # Sortie : 5\n",
        "print(min([1, 2, 3, 4, 5]))  # Sortie : 1\n",
        "\n",
        "# Chaînes de caractères (ordre lexicographique)\n",
        "print(max(\"python\"))         # Sortie : 'y'\n",
        "print(min(\"python\"))         # Sortie : 'h'\n",
        "\n",
        "# Avec plusieurs arguments\n",
        "print(max(1, 2, 3))          # Sortie : 3\n",
        "print(min(1, 2, 3))          # Sortie : 1"
      ]
    },
    {
      "cell_type": "markdown",
      "metadata": {
        "id": "4B6JDMt-PUlR"
      },
      "source": [
        "**1.4. len() :**\n",
        "La fonction **len()** renvoie la longueur (le nombre d'éléments) d'un objet tel qu'une liste, une chaîne de caractères, un tuple, etc.\n",
        "\n",
        "Syntaxe : **len(s)**"
      ]
    },
    {
      "cell_type": "code",
      "execution_count": 10,
      "metadata": {
        "colab": {
          "base_uri": "https://localhost:8080/"
        },
        "id": "Txx_pX12PUlS",
        "outputId": "4feec922-8b57-4a5f-a3eb-2c081bf8c08a"
      },
      "outputs": [
        {
          "output_type": "stream",
          "name": "stdout",
          "text": [
            "5\n",
            "6\n",
            "3\n"
          ]
        }
      ],
      "source": [
        "# Listes\n",
        "print(len([1, 2, 3, 4, 5]))  # Sortie : 5\n",
        "\n",
        "# Chaînes de caractères\n",
        "print(len(\"Python\"))         # Sortie : 6\n",
        "\n",
        "# Tuples\n",
        "print(len((1, 2, 3)))        # Sortie : 3\n"
      ]
    },
    {
      "cell_type": "markdown",
      "metadata": {
        "id": "ruzcK8BiPUlS"
      },
      "source": [
        "**1.5. sum() :**\n",
        "La fonction **sum()** renvoie la somme des éléments d'un itérable (par exemple, une liste ou un tuple).\n",
        "\n",
        "Syntaxe : **sum(iterable, /, start=0)**"
      ]
    },
    {
      "cell_type": "code",
      "execution_count": 11,
      "metadata": {
        "colab": {
          "base_uri": "https://localhost:8080/"
        },
        "id": "ufzR-xj-PUlS",
        "outputId": "9a8bc979-5d53-4940-ab24-fc3c51783233"
      },
      "outputs": [
        {
          "output_type": "stream",
          "name": "stdout",
          "text": [
            "15\n",
            "7.5\n",
            "16\n"
          ]
        }
      ],
      "source": [
        "# Listes\n",
        "print(sum([1, 2, 3, 4, 5]))    # Sortie : 15\n",
        "\n",
        "# Tuples\n",
        "print(sum((1.5, 2.5, 3.5)))    # Sortie : 7.5\n",
        "\n",
        "# Utiliser un paramètre start\n",
        "print(sum([1, 2, 3], 10))      # Sortie : 16 (10 + 1 + 2 + 3)\n"
      ]
    },
    {
      "cell_type": "markdown",
      "metadata": {
        "id": "f8WLrUscPUlS"
      },
      "source": [
        "**1.6. any() et all() :**\n",
        "La fonction **any()** renvoie True si au moins un des éléments de l'itérable est True. Sinon, elle renvoie False.\n",
        "\n",
        "La fonction **all()** renvoie True si tous les éléments de l'itérable sont True. Sinon, elle renvoie False.\n",
        "\n",
        "Syntaxe : **any(iterable), all(iterable)**"
      ]
    },
    {
      "cell_type": "code",
      "execution_count": 12,
      "metadata": {
        "colab": {
          "base_uri": "https://localhost:8080/"
        },
        "id": "XrRV5bW5PUlS",
        "outputId": "833e118c-fb36-431b-9f7d-bb0da260a5d0"
      },
      "outputs": [
        {
          "output_type": "stream",
          "name": "stdout",
          "text": [
            "True\n",
            "False\n",
            "True\n",
            "False\n"
          ]
        }
      ],
      "source": [
        "# any()\n",
        "print(any([False, True, False]))  # Sortie : True\n",
        "print(any([False, False, False])) # Sortie : False\n",
        "\n",
        "# all()\n",
        "print(all([True, True, True]))    # Sortie : True\n",
        "print(all([True, False, True]))   # Sortie : False\n"
      ]
    },
    {
      "cell_type": "markdown",
      "metadata": {
        "id": "2CKqQf0YAuvN"
      },
      "source": [
        "## 2. Fonction de conversion\n",
        "Les fonctions de conversion permettent de convertir des données d'un type à un autre.\n",
        "\n",
        "**2.1. int() :**\n",
        "Convertit une chaîne de caractères ou un nombre flottant en entier.\n",
        "\n",
        "Syntaxe : **int(x, base=10)**"
      ]
    },
    {
      "cell_type": "code",
      "execution_count": 13,
      "metadata": {
        "colab": {
          "base_uri": "https://localhost:8080/"
        },
        "id": "-_P3CGAvAatE",
        "outputId": "f7f797c4-ed8a-45b1-bf1a-3a75501f1a50"
      },
      "outputs": [
        {
          "output_type": "stream",
          "name": "stdout",
          "text": [
            "123\n",
            "12\n",
            "10\n"
          ]
        }
      ],
      "source": [
        "# Conversion de chaîne de caractères\n",
        "print(int(\"123\"))   # Sortie : 123\n",
        "\n",
        "# Conversion de nombre flottant\n",
        "print(int(12.34))   # Sortie : 12\n",
        "\n",
        "# Conversion avec une base (nombre binaire)\n",
        "print(int(\"1010\", 2))  # Sortie : 10"
      ]
    },
    {
      "cell_type": "markdown",
      "metadata": {
        "id": "p6aHz-OyPUlT"
      },
      "source": [
        "**2.2. str() :**\n",
        "Convertit un nombre ou un autre objet en chaîne de caractères.\n",
        "\n",
        "Syntaxe : **str(x)**"
      ]
    },
    {
      "cell_type": "code",
      "execution_count": 14,
      "metadata": {
        "colab": {
          "base_uri": "https://localhost:8080/"
        },
        "id": "9QkhdpCEBK0W",
        "outputId": "ad68fc7e-49bb-4ad5-94f1-1ef26bce3ca6"
      },
      "outputs": [
        {
          "output_type": "stream",
          "name": "stdout",
          "text": [
            "123\n",
            "3.14\n",
            "[1, 2, 3]\n"
          ]
        }
      ],
      "source": [
        "# Conversion d'un entier\n",
        "print(str(123))      # Sortie : '123'\n",
        "\n",
        "# Conversion d'un flottant\n",
        "print(str(3.14))     # Sortie : '3.14'\n",
        "\n",
        "# Conversion d'une liste\n",
        "print(str([1, 2, 3]))  # Sortie : '[1, 2, 3]'\n"
      ]
    },
    {
      "cell_type": "markdown",
      "metadata": {
        "id": "tpzVH3SaPUlT"
      },
      "source": [
        "**2.3. float() :**\n",
        "Convertit une chaîne de caractères ou un nombre entier en flottant.\n",
        "\n",
        "Syntaxe : **float(x)**"
      ]
    },
    {
      "cell_type": "code",
      "execution_count": 15,
      "metadata": {
        "colab": {
          "base_uri": "https://localhost:8080/"
        },
        "id": "5DDHy7qBBT9l",
        "outputId": "0cce862c-4e07-4f71-ed07-2c4d261e72ab"
      },
      "outputs": [
        {
          "output_type": "stream",
          "name": "stdout",
          "text": [
            "3.14\n",
            "10.0\n"
          ]
        }
      ],
      "source": [
        "# Conversion de chaîne de caractères\n",
        "print(float(\"3.14\"))  # Sortie : 3.14\n",
        "\n",
        "# Conversion d'un entier\n",
        "print(float(10))      # Sortie : 10.0\n"
      ]
    },
    {
      "cell_type": "markdown",
      "metadata": {
        "id": "BtGfuSR0PUlT"
      },
      "source": [
        "**2.4. type() :**\n",
        "Renvoie le type de l'objet.\n",
        "\n",
        "Syntaxe : **type(x)**"
      ]
    },
    {
      "cell_type": "code",
      "execution_count": 16,
      "metadata": {
        "colab": {
          "base_uri": "https://localhost:8080/"
        },
        "id": "PTjsLiOGPUlT",
        "outputId": "b25e130f-e710-4c7c-850c-12cbf93f8745"
      },
      "outputs": [
        {
          "output_type": "stream",
          "name": "stdout",
          "text": [
            "<class 'int'>\n",
            "<class 'str'>\n",
            "<class 'list'>\n"
          ]
        }
      ],
      "source": [
        "# Type d'un entier\n",
        "print(type(123))         # Sortie : <class 'int'>\n",
        "\n",
        "# Type d'une chaîne de caractères\n",
        "print(type(\"Python\"))    # Sortie : <class 'str'>\n",
        "\n",
        "# Type d'une liste\n",
        "print(type([1, 2, 3]))   # Sortie : <class 'list'>\n"
      ]
    },
    {
      "cell_type": "markdown",
      "metadata": {
        "id": "jOgYxWPGPUlU"
      },
      "source": [
        "## 3. Conversions de Structures de Données"
      ]
    },
    {
      "cell_type": "markdown",
      "metadata": {
        "id": "GhAk-KVtPUlU"
      },
      "source": [
        "**1. list() :**\n",
        "Convertit un itérable (comme une chaîne de caractères, un tuple, etc.) en une liste.\n",
        "\n",
        "Syntaxe : **list(iterable)**"
      ]
    },
    {
      "cell_type": "code",
      "execution_count": 17,
      "metadata": {
        "colab": {
          "base_uri": "https://localhost:8080/"
        },
        "id": "Dti5ygRCPUlU",
        "outputId": "31e088a5-8743-4ec1-f2ce-2e6272a5fb82"
      },
      "outputs": [
        {
          "output_type": "stream",
          "name": "stdout",
          "text": [
            "['P', 'y', 't', 'h', 'o', 'n']\n",
            "[1, 2, 3]\n",
            "[1, 2, 3]\n"
          ]
        }
      ],
      "source": [
        "# Conversion d'une chaîne de caractères\n",
        "print(list(\"Python\"))     # Sortie : ['P', 'y', 't', 'h', 'o', 'n']\n",
        "\n",
        "# Conversion d'un tuple\n",
        "print(list((1, 2, 3)))    # Sortie : [1, 2, 3]\n",
        "\n",
        "# Conversion d'un ensemble\n",
        "print(list({1, 2, 3}))    # Sortie : [1, 2, 3] (l'ordre peut varier)\n"
      ]
    },
    {
      "cell_type": "markdown",
      "metadata": {
        "id": "LJxg3cxGPUlU"
      },
      "source": [
        "**2. tuple() :**\n",
        "Convertit un itérable en un tuple.\n",
        "\n",
        "Syntaxe : **tuple(iterable)**"
      ]
    },
    {
      "cell_type": "code",
      "execution_count": 18,
      "metadata": {
        "colab": {
          "base_uri": "https://localhost:8080/"
        },
        "id": "Cq9hUhAzPUlU",
        "outputId": "675d0a00-a59b-4b74-9d36-3d55b1331f50"
      },
      "outputs": [
        {
          "output_type": "stream",
          "name": "stdout",
          "text": [
            "(1, 2, 3)\n",
            "('P', 'y', 't', 'h', 'o', 'n')\n"
          ]
        }
      ],
      "source": [
        "# Conversion d'une liste\n",
        "print(tuple([1, 2, 3]))   # Sortie : (1, 2, 3)\n",
        "\n",
        "# Conversion d'une chaîne de caractères\n",
        "print(tuple(\"Python\"))    # Sortie : ('P', 'y', 't', 'h', 'o', 'n')\n"
      ]
    },
    {
      "cell_type": "markdown",
      "metadata": {
        "id": "orx_mdrPCCqx"
      },
      "source": [
        "## 3. La fonction **input()**\n",
        "Cette fonction est tres utile pour demander a l'utilisateur du programme d'entrer une valeur dans votre programme"
      ]
    },
    {
      "cell_type": "code",
      "execution_count": 19,
      "metadata": {
        "colab": {
          "base_uri": "https://localhost:8080/"
        },
        "id": "VRzdH0oeB3w8",
        "outputId": "bb68416a-50ea-4f59-e81a-dab382f1470d"
      },
      "outputs": [
        {
          "name": "stdout",
          "output_type": "stream",
          "text": [
            "quel age avez-vous ?10\n"
          ]
        }
      ],
      "source": [
        "age = input('quel age avez-vous ?')"
      ]
    },
    {
      "cell_type": "code",
      "execution_count": 20,
      "metadata": {
        "colab": {
          "base_uri": "https://localhost:8080/"
        },
        "id": "mR0irKo7CXFj",
        "outputId": "f13263bc-c356-43d6-a74e-268e346fd0fd"
      },
      "outputs": [
        {
          "output_type": "execute_result",
          "data": {
            "text/plain": [
              "str"
            ]
          },
          "metadata": {},
          "execution_count": 20
        }
      ],
      "source": [
        "type(age) # age est de type string. il faut penser a le convertir si on désire faire un calcul avec"
      ]
    },
    {
      "cell_type": "markdown",
      "metadata": {
        "id": "mNY3OSesPUlU"
      },
      "source": [
        "## 4. Conversions Binaires\n",
        "**4.1. bin() :**\n",
        "Convertit un nombre entier en sa représentation binaire sous forme de chaîne de caractères, précédée de 0b.\n",
        "\n",
        "Syntaxe : **bin(x)**"
      ]
    },
    {
      "cell_type": "code",
      "execution_count": 21,
      "metadata": {
        "colab": {
          "base_uri": "https://localhost:8080/"
        },
        "id": "MeDj5J7bPUlU",
        "outputId": "d255b930-0dbd-48ba-cc56-af144c44d753"
      },
      "outputs": [
        {
          "output_type": "stream",
          "name": "stdout",
          "text": [
            "0b1010\n",
            "0b11111111\n"
          ]
        }
      ],
      "source": [
        "print(bin(10))  # Sortie : '0b1010'\n",
        "print(bin(255)) # Sortie : '0b11111111'\n"
      ]
    },
    {
      "cell_type": "markdown",
      "metadata": {
        "id": "EcS_pTNYPUlU"
      },
      "source": [
        "**4.2. oct() :**\n",
        "Convertit un nombre entier en sa représentation octale sous forme de chaîne de caractères, précédée de 0o.\n",
        "\n",
        "Syntaxe : **oct(x)**"
      ]
    },
    {
      "cell_type": "code",
      "execution_count": 22,
      "metadata": {
        "colab": {
          "base_uri": "https://localhost:8080/"
        },
        "id": "w5QjMT7FPUlU",
        "outputId": "b46a82cb-d832-4a7d-ffd1-b680b23b176b"
      },
      "outputs": [
        {
          "output_type": "stream",
          "name": "stdout",
          "text": [
            "0o12\n",
            "0o377\n"
          ]
        }
      ],
      "source": [
        "print(oct(10))  # Sortie : '0o12'\n",
        "print(oct(255)) # Sortie : '0o377'\n"
      ]
    },
    {
      "cell_type": "markdown",
      "metadata": {
        "id": "Of_-dP83PUlV"
      },
      "source": [
        "**4.3. hex() :**\n",
        "Convertit un nombre entier en sa représentation hexadécimale sous forme de chaîne de caractères, précédée de 0x.\n",
        "\n",
        "Syntaxe : **hex(x)**"
      ]
    },
    {
      "cell_type": "code",
      "execution_count": 23,
      "metadata": {
        "colab": {
          "base_uri": "https://localhost:8080/"
        },
        "id": "MYy8PsSwPUlV",
        "outputId": "a9c5a394-d47a-4853-9ef2-7562ea7ff5ce"
      },
      "outputs": [
        {
          "output_type": "stream",
          "name": "stdout",
          "text": [
            "0xa\n",
            "0xff\n"
          ]
        }
      ],
      "source": [
        "print(hex(10))  # Sortie : '0xa'\n",
        "print(hex(255)) # Sortie : '0xff'\n"
      ]
    },
    {
      "cell_type": "markdown",
      "metadata": {
        "id": "ClGnpncTCpSh"
      },
      "source": [
        "## 4. La fonction **format()** f-strings\n",
        "Les f-strings permettent d'incorporer des expressions directement à l'intérieur des chaînes de caractères.\n",
        "\n",
        "Syntaxe : **f\"texte {expression}\"**"
      ]
    },
    {
      "cell_type": "code",
      "execution_count": 24,
      "metadata": {
        "colab": {
          "base_uri": "https://localhost:8080/"
        },
        "id": "YNo1gncmCZjb",
        "outputId": "c058e535-2578-4e55-e8d3-87b9850937c5"
      },
      "outputs": [
        {
          "output_type": "stream",
          "name": "stdout",
          "text": [
            "Bonjour, Alice. Vous avez 30 ans.\n",
            "Le double de 5 est 10.\n"
          ]
        }
      ],
      "source": [
        "# Variables\n",
        "nom = \"Alice\"\n",
        "age = 30\n",
        "\n",
        "# Formatage avec f-string\n",
        "message = f\"Bonjour, {nom}. Vous avez {age} ans.\"\n",
        "print(message)  # Sortie : Bonjour, Alice. Vous avez 30 ans.\n",
        "\n",
        "# Calculs et expressions dans les f-strings\n",
        "nombre = 5\n",
        "print(f\"Le double de {nombre} est {nombre * 2}.\")  # Sortie : Le double de 5 est 10.\n"
      ]
    },
    {
      "cell_type": "markdown",
      "metadata": {
        "id": "htlMtUcpPUlV"
      },
      "source": [
        "## 5. Fonction input()\n",
        "La fonction **input()** lit une ligne de l'entrée standard et renvoie une chaîne de caractères.\n",
        "\n",
        "Syntaxe : **input(prompt)**"
      ]
    },
    {
      "cell_type": "code",
      "execution_count": 25,
      "metadata": {
        "colab": {
          "base_uri": "https://localhost:8080/"
        },
        "id": "sRcVivd0PUlY",
        "outputId": "89f1c554-7c51-4532-ba1b-2ab9ca103610"
      },
      "outputs": [
        {
          "output_type": "stream",
          "name": "stdout",
          "text": [
            "Quel est votre nom ? Doowensky\n",
            "Bonjour, Doowensky!\n"
          ]
        }
      ],
      "source": [
        "nom = input(\"Quel est votre nom ? \")\n",
        "print(\"Bonjour, \" + nom + \"!\")"
      ]
    },
    {
      "cell_type": "markdown",
      "metadata": {
        "id": "PWFMzobFDkfP"
      },
      "source": [
        "## 6. La fonction **open()**\n",
        "La fonction **open()** est utilisée pour ouvrir un fichier et renvoie un objet fichier. Il est couramment utilisé pour lire, écrire ou modifier des fichiers.\n",
        "\n",
        "Syntaxe : **open(file, mode)**\n",
        "\n",
        "**file :** le nom ou le chemin du fichier à ouvrir.\n",
        "**mode :** le mode dans lequel ouvrir le fichier\n",
        "* **'r'** pour lire\n",
        "* **'w'** pour écrire\n",
        "* **'a'** pour ajouter\n",
        "* **'b'** pour mode binaire."
      ]
    },
    {
      "cell_type": "code",
      "execution_count": 26,
      "metadata": {
        "colab": {
          "base_uri": "https://localhost:8080/"
        },
        "id": "ovu_J5rhDS0-",
        "outputId": "ba7da4fc-8f9a-437f-c7bd-cbef2fcddffa"
      },
      "outputs": [
        {
          "output_type": "stream",
          "name": "stdout",
          "text": [
            "Bonjour, monde!\n"
          ]
        }
      ],
      "source": [
        "import os\n",
        "from pathlib import Path\n",
        "\n",
        "# Lecture d'un fichier texte\n",
        "with open(\"data/fichier.txt\", \"r\") as fichier:\n",
        "    contenu = fichier.read()\n",
        "    print(contenu)"
      ]
    },
    {
      "cell_type": "code",
      "execution_count": 27,
      "metadata": {
        "id": "3GjqncN3NvO8"
      },
      "outputs": [],
      "source": [
        "# Écriture dans un fichier texte\n",
        "with open(\"data/fichier.txt\", \"w\") as fichier:\n",
        "    fichier.write(\"Bonjour, monde!\")"
      ]
    },
    {
      "cell_type": "markdown",
      "metadata": {
        "id": "tjuY60QsN3Ax"
      },
      "source": [
        "Dans la pratique, on écrit plus souvent **with open() as f** pour ne pas avoir a fermer le fichier une fois le travail effectué :"
      ]
    },
    {
      "cell_type": "code",
      "execution_count": 28,
      "metadata": {
        "colab": {
          "base_uri": "https://localhost:8080/"
        },
        "id": "8NeneA9zNy6N",
        "outputId": "21e514c3-a650-4da9-ea9a-91b6470b63fc"
      },
      "outputs": [
        {
          "output_type": "stream",
          "name": "stdout",
          "text": [
            "Bonjour, monde!\n"
          ]
        }
      ],
      "source": [
        "with open('fichier.txt', 'r') as f:\n",
        "    print(f.read())"
      ]
    },
    {
      "cell_type": "markdown",
      "source": [
        "## Exercice Complet : Gestion d'une Liste de Notes d'Étudiants\n",
        "Créer un programme Python qui gère une liste de notes d'étudiants. Le programme doit permettre à l'utilisateur d'ajouter des notes, de les manipuler, et d'enregistrer les résultats dans un fichier.\n",
        "\n",
        "1.   **Étapes :Saisie des Notes :**\n",
        "* Demandez à l'utilisateur de saisir le nombre d'étudiants.\n",
        "* Pour chaque étudiant, demandez à l'utilisateur de saisir une note (un nombre flottant).\n",
        "\n",
        "2. **Calcul des Statistiques :**\n",
        "\n",
        "* Convertissez les notes en une liste.\n",
        "Utilisez les fonctions max(), min(), sum(), len() pour calculer le maximum, le minimum, la somme totale, et la moyenne des notes.\n",
        "Arrondissez la moyenne à deux décimales avec la fonction round().\n",
        "\n",
        "3. **Conversion et Manipulation :**\n",
        "\n",
        "* Convertissez la liste de notes en un tuple.\n",
        "Convertissez le tuple de notes en une chaîne de caractères où chaque note est séparée par une virgule.\n",
        "\n",
        "4. **Interaction avec l'Utilisateur :**\n",
        "\n",
        "* Affichez les statistiques calculées à l'aide de la fonction format() pour un affichage clair.\n",
        "* Demandez à l'utilisateur s'il souhaite enregistrer les résultats dans un fichier. Si oui, créez un fichier resultats.txt et écrivez les statistiques et les notes dans ce fichier.\n",
        "\n",
        "5. **Lecture des Résultats :**\n",
        "\n",
        "* Ouvrez le fichier resultats.txt en mode lecture et affichez son contenu."
      ],
      "metadata": {
        "id": "A47vSAPEQvOt"
      }
    },
    {
      "cell_type": "code",
      "execution_count": 29,
      "metadata": {
        "colab": {
          "base_uri": "https://localhost:8080/"
        },
        "id": "hpbjZcGaQQN1",
        "outputId": "1f23dfea-49d0-43c5-b83f-e8c89ee2c1e2"
      },
      "outputs": [
        {
          "output_type": "stream",
          "name": "stdout",
          "text": [
            "Combien d'étudiants ? 3\n",
            "Entrez la note de l'étudiant 1 : 15\n",
            "Entrez la note de l'étudiant 2 : 17\n",
            "Entrez la note de l'étudiant 3 : 13\n",
            "\n",
            "Statistiques des notes :\n",
            "Note maximale : 17.0\n",
            "Note minimale : 13.0\n",
            "Somme des notes : 45.0\n",
            "Moyenne des notes : 15.0\n",
            "\n",
            "Souhaitez-vous enregistrer les résultats dans un fichier ? (oui/non) oui\n",
            "\n",
            "Contenu du fichier 'resultats.txt' :\n",
            "Note maximale : 17.0\n",
            "Note minimale : 13.0\n",
            "Somme des notes : 45.0\n",
            "Moyenne des notes : 15.0\n",
            "Liste des notes : 15.0, 17.0, 13.0\n",
            "\n"
          ]
        }
      ],
      "source": [
        "# Étape 1 : Saisie des Notes\n",
        "n_etudiants = int(input(\"Combien d'étudiants ? \"))\n",
        "\n",
        "notes = []\n",
        "for i in range(n_etudiants):\n",
        "    while True:\n",
        "        try:\n",
        "            note = float(input(f\"Entrez la note de l'étudiant {i + 1} : \"))\n",
        "            notes.append(note)\n",
        "            break\n",
        "        except ValueError:\n",
        "            print(\"Veuillez entrer un nombre flottant valide.\")\n",
        "\n",
        "# Étape 2 : Calcul des Statistiques\n",
        "max_note = max(notes)\n",
        "min_note = min(notes)\n",
        "somme_notes = sum(notes)\n",
        "moyenne_notes = round(somme_notes / len(notes), 2)\n",
        "\n",
        "# Étape 3 : Conversion et Manipulation\n",
        "notes_tuple = tuple(notes)\n",
        "notes_str = \", \".join(map(str, notes_tuple))\n",
        "\n",
        "# Étape 4 : Interaction avec l'Utilisateur\n",
        "print(f\"\\nStatistiques des notes :\")\n",
        "print(f\"Note maximale : {max_note}\")\n",
        "print(f\"Note minimale : {min_note}\")\n",
        "print(f\"Somme des notes : {somme_notes}\")\n",
        "print(f\"Moyenne des notes : {moyenne_notes}\")\n",
        "\n",
        "enregistrer = input(\"\\nSouhaitez-vous enregistrer les résultats dans un fichier ? (oui/non) \").strip().lower()\n",
        "if enregistrer == \"oui\":\n",
        "    with open(\"data/resultats.txt\", \"w\") as fichier:\n",
        "        fichier.write(f\"Note maximale : {max_note}\\n\")\n",
        "        fichier.write(f\"Note minimale : {min_note}\\n\")\n",
        "        fichier.write(f\"Somme des notes : {somme_notes}\\n\")\n",
        "        fichier.write(f\"Moyenne des notes : {moyenne_notes}\\n\")\n",
        "        fichier.write(f\"Liste des notes : {notes_str}\\n\")\n",
        "\n",
        "# Étape 5 : Lecture des Résultats\n",
        "try:\n",
        "    with open(\"data/resultats.txt\", \"r\") as fichier:\n",
        "        contenu = fichier.read()\n",
        "        print(\"\\nContenu du fichier 'resultats.txt' :\")\n",
        "        print(contenu)\n",
        "except FileNotFoundError:\n",
        "    print(\"\\nLe fichier 'resultats.txt' n'existe pas encore.\")\n"
      ]
    }
  ],
  "metadata": {
    "colab": {
      "provenance": []
    },
    "kernelspec": {
      "display_name": "Python 3 (ipykernel)",
      "language": "python",
      "name": "python3"
    },
    "language_info": {
      "codemirror_mode": {
        "name": "ipython",
        "version": 3
      },
      "file_extension": ".py",
      "mimetype": "text/x-python",
      "name": "python",
      "nbconvert_exporter": "python",
      "pygments_lexer": "ipython3",
      "version": "3.11.5"
    }
  },
  "nbformat": 4,
  "nbformat_minor": 0
}