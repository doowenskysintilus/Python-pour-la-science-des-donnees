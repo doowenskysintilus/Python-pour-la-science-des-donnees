{
  "cells": [
    {
      "cell_type": "markdown",
      "metadata": {
        "id": "24WH3aU13JYd"
      },
      "source": [
        "## Pandas\n",
        "Pandas est une bibliothèque Python puissante et flexible pour la manipulation et l'analyse de données. Elle est particulièrement utile pour travailler avec des données tabulaires (comme des feuilles de calcul) et des séries temporelles.\n",
        "\n",
        "**Pourquoi utiliser Pandas ?**\n",
        "* **Manipulation de Données :** Pandas offre des structures de données robustes (DataFrame et Series) pour manipuler des données tabulaires.\n",
        "* **Nettoyage de Données :** Il permet de gérer facilement les valeurs manquantes et d'effectuer des opérations de nettoyage.\n",
        "* **Analyse Exploratoire :** Pandas facilite l'exploration des données grâce à des fonctions de groupement, de pivotement, et d'agrégation.\n",
        "* **Intégration avec d'autres Bibliothèques :** Pandas s'intègre bien avec NumPy, Matplotlib, et d'autres bibliothèques de data science en Python."
      ]
    },
    {
      "cell_type": "markdown",
      "metadata": {
        "id": "J6cjoX9v3JYj"
      },
      "source": [
        "## 1. Structures de Données de Pandas\n",
        "**Series :**\n",
        "Une Series est une structure de données unidimensionnelle similaire à une colonne dans une table. Elle peut contenir des données de n'importe quel type (entiers, chaînes de caractères, flottants, etc.)."
      ]
    },
    {
      "cell_type": "code",
      "execution_count": 1,
      "metadata": {
        "colab": {
          "base_uri": "https://localhost:8080/"
        },
        "id": "JfX_1wpd3JYk",
        "outputId": "512f0854-19c6-482e-ca94-2c5edab4b3fd"
      },
      "outputs": [
        {
          "output_type": "stream",
          "name": "stdout",
          "text": [
            "Requirement already satisfied: pandas in /usr/local/lib/python3.10/dist-packages (2.1.4)\n",
            "Requirement already satisfied: numpy<2,>=1.22.4 in /usr/local/lib/python3.10/dist-packages (from pandas) (1.26.4)\n",
            "Requirement already satisfied: python-dateutil>=2.8.2 in /usr/local/lib/python3.10/dist-packages (from pandas) (2.8.2)\n",
            "Requirement already satisfied: pytz>=2020.1 in /usr/local/lib/python3.10/dist-packages (from pandas) (2024.1)\n",
            "Requirement already satisfied: tzdata>=2022.1 in /usr/local/lib/python3.10/dist-packages (from pandas) (2024.1)\n",
            "Requirement already satisfied: six>=1.5 in /usr/local/lib/python3.10/dist-packages (from python-dateutil>=2.8.2->pandas) (1.16.0)\n"
          ]
        }
      ],
      "source": [
        "# installation du package pandas\n",
        "!pip install pandas"
      ]
    },
    {
      "cell_type": "code",
      "execution_count": 2,
      "metadata": {
        "colab": {
          "base_uri": "https://localhost:8080/"
        },
        "id": "mgnCNPcc3JYm",
        "outputId": "3406e620-b75a-4ff4-b0e2-661b21117194"
      },
      "outputs": [
        {
          "output_type": "stream",
          "name": "stdout",
          "text": [
            "0    1\n",
            "1    3\n",
            "2    5\n",
            "3    7\n",
            "4    9\n",
            "dtype: int64\n"
          ]
        }
      ],
      "source": [
        "import pandas as pd\n",
        "import numpy as np\n",
        "\n",
        "# Création d'une Series\n",
        "s = pd.Series([1, 3, 5, 7, 9])\n",
        "print(s)\n"
      ]
    },
    {
      "cell_type": "markdown",
      "metadata": {
        "id": "-mFqF_7I3JYn"
      },
      "source": [
        "**DataFrame :**\n",
        "Un DataFrame est une structure de données bidimensionnelle (comme une feuille de calcul) avec des colonnes de types de données potentiellement différents."
      ]
    },
    {
      "cell_type": "code",
      "execution_count": 3,
      "metadata": {
        "colab": {
          "base_uri": "https://localhost:8080/"
        },
        "id": "jVcLZi5n3JYn",
        "outputId": "23123308-13a3-422c-9442-ba33b9b601a6"
      },
      "outputs": [
        {
          "output_type": "stream",
          "name": "stdout",
          "text": [
            "       Nom   Age       Ville  Salaire  Années d'expérience        Date\n",
            "0    Alice  25.0       Paris  50000.0                  3.0  2024-08-01\n",
            "1      Bob  32.0        Lyon  54000.0                  8.0  2024-07-02\n",
            "2  Charlie  35.0   Marseille      NaN                 10.0  2024-08-03\n",
            "3    David   NaN         NaN  58000.0                 12.0  2024-06-04\n",
            "4      Eve  28.0    Toulouse  62000.0                  NaN         NaN\n",
            "5    Frank   NaN        Nice  48000.0                  5.0  2024-08-06\n",
            "6    Grace  40.0         NaN      NaN                 15.0         NaN\n",
            "7   Hannah  22.0      Nantes  55000.0                  1.0  2024-08-08\n",
            "8      Ivy   NaN  Strasbourg  51000.0                  NaN  2024-08-09\n",
            "9     Jack  30.0    Bordeaux      NaN                  7.0         NaN\n"
          ]
        }
      ],
      "source": [
        "# Création d'un DataFrame à partir d'un dictionnaire\n",
        "data = {\n",
        "    'Nom': ['Alice', 'Bob', 'Charlie', 'David', 'Eve', 'Frank', 'Grace', 'Hannah', 'Ivy', 'Jack'],\n",
        "    'Age': [25, 32, 35, np.nan, 28, np.nan, 40, 22, np.nan, 30],\n",
        "    'Ville': ['Paris', 'Lyon', 'Marseille', np.nan, 'Toulouse', 'Nice', np.nan, 'Nantes', 'Strasbourg', 'Bordeaux'],\n",
        "    'Salaire': [50000, 54000, np.nan, 58000, 62000, 48000, np.nan, 55000, 51000, np.nan],\n",
        "    'Années d\\'expérience': [3, 8, 10, 12, np.nan, 5, 15, 1, np.nan, 7],\n",
        "    'Date': ['2024-08-01', '2024-07-02', '2024-08-03', '2024-06-04', np.nan, '2024-08-06', np.nan, '2024-08-08', '2024-08-09', np.nan]\n",
        "}\n",
        "\n",
        "df = pd.DataFrame(data)\n",
        "\n",
        "df.to_csv('data/exo_pandas.csv', index=False)\n",
        "\n",
        "print(df)"
      ]
    },
    {
      "cell_type": "markdown",
      "metadata": {
        "id": "4K4NWpc43JYo"
      },
      "source": [
        "**Indexation et Slicing :**\n",
        "Vous pouvez accéder aux données dans une Series ou un DataFrame de manière similaire à NumPy, avec des opérations d'indexation et de slicing."
      ]
    },
    {
      "cell_type": "code",
      "execution_count": 4,
      "metadata": {
        "colab": {
          "base_uri": "https://localhost:8080/"
        },
        "id": "VRZj7YrR3JYo",
        "outputId": "b3627398-0876-44bf-be88-20bc82c12c0c"
      },
      "outputs": [
        {
          "output_type": "stream",
          "name": "stdout",
          "text": [
            "0    25.0\n",
            "1    32.0\n",
            "2    35.0\n",
            "3     NaN\n",
            "4    28.0\n",
            "5     NaN\n",
            "6    40.0\n",
            "7    22.0\n",
            "8     NaN\n",
            "9    30.0\n",
            "Name: Age, dtype: float64\n"
          ]
        }
      ],
      "source": [
        "# Accès à une colonne (Series)\n",
        "ages = df['Age']\n",
        "print(ages)"
      ]
    },
    {
      "cell_type": "code",
      "execution_count": 5,
      "metadata": {
        "colab": {
          "base_uri": "https://localhost:8080/"
        },
        "id": "_C7-uDRa3JYp",
        "outputId": "9e2fb76e-057d-468f-feb8-1193c7ad32f4"
      },
      "outputs": [
        {
          "output_type": "stream",
          "name": "stdout",
          "text": [
            "Nom                       Charlie\n",
            "Age                          35.0\n",
            "Ville                   Marseille\n",
            "Salaire                       NaN\n",
            "Années d'expérience          10.0\n",
            "Date                   2024-08-03\n",
            "Name: 2, dtype: object\n"
          ]
        }
      ],
      "source": [
        "# Accès à une ligne par son index\n",
        "row = df.iloc[2]  # Accès à la troisième ligne\n",
        "print(row)"
      ]
    },
    {
      "cell_type": "code",
      "execution_count": 6,
      "metadata": {
        "colab": {
          "base_uri": "https://localhost:8080/"
        },
        "id": "ir9dM3gn3JYp",
        "outputId": "5bb9153d-5569-4d8f-be17-09a337680df2"
      },
      "outputs": [
        {
          "output_type": "stream",
          "name": "stdout",
          "text": [
            "       Nom      Ville\n",
            "1      Bob       Lyon\n",
            "2  Charlie  Marseille\n",
            "3    David        NaN\n"
          ]
        }
      ],
      "source": [
        "# Slicing d'un DataFrame\n",
        "subset = df.loc[1:3, ['Nom', 'Ville']]  # Sous-ensemble du DataFrame\n",
        "print(subset)"
      ]
    },
    {
      "cell_type": "markdown",
      "metadata": {
        "id": "GI3ekubs3JYq"
      },
      "source": [
        "## 2. Manipulation de Données avec Pandas\n",
        "**Chargement et Sauvegarde de Données :**\n",
        "Pandas permet de lire et de sauvegarder des données à partir de différents formats tels que CSV, Excel, SQL, et JSON."
      ]
    },
    {
      "cell_type": "code",
      "execution_count": 7,
      "metadata": {
        "id": "Kd5RgphS3JYq"
      },
      "outputs": [],
      "source": [
        "# Lecture de données à partir d'un fichier CSV\n",
        "df = pd.read_csv('data/exo_pandas.csv')\n",
        "\n",
        "# Sauvegarde d'un DataFrame dans un fichier Excel\n",
        "df.to_excel('data/output.xlsx', index=False)\n"
      ]
    },
    {
      "cell_type": "markdown",
      "metadata": {
        "id": "hTBnRWVb3JYq"
      },
      "source": [
        "**Gestion des Valeurs Manquantes :**\n",
        "Les données réelles sont souvent incomplètes, et Pandas propose des outils pour identifier et traiter les valeurs manquantes."
      ]
    },
    {
      "cell_type": "code",
      "execution_count": 8,
      "metadata": {
        "colab": {
          "base_uri": "https://localhost:8080/"
        },
        "id": "ttOTVxwX3JYq",
        "outputId": "ece2550c-fe1b-4657-a86b-4c5df70f20ac"
      },
      "outputs": [
        {
          "output_type": "stream",
          "name": "stdout",
          "text": [
            "Nom                    0\n",
            "Age                    3\n",
            "Ville                  2\n",
            "Salaire                3\n",
            "Années d'expérience    2\n",
            "Date                   3\n",
            "dtype: int64\n"
          ]
        }
      ],
      "source": [
        "# Conversion du dictionnaire en DataFrame\n",
        "df = pd.DataFrame(data)\n",
        "\n",
        "# Identification des valeurs manquantes\n",
        "missing_data = df.isnull().sum()\n",
        "print(missing_data)"
      ]
    },
    {
      "cell_type": "code",
      "execution_count": 9,
      "metadata": {
        "colab": {
          "base_uri": "https://localhost:8080/"
        },
        "id": "tVHdI3gT3JYr",
        "outputId": "b6eb2540-de6e-4511-fc56-99c0ad978fa6"
      },
      "outputs": [
        {
          "output_type": "stream",
          "name": "stdout",
          "text": [
            "       Nom   Age       Ville  Salaire  Années d'expérience        Date\n",
            "0    Alice  25.0       Paris  50000.0                  3.0  2024-08-01\n",
            "1      Bob  32.0        Lyon  54000.0                  8.0  2024-07-02\n",
            "2  Charlie  35.0   Marseille      NaN                 10.0  2024-08-03\n",
            "3    David   0.0    Inconnue  58000.0                 12.0  2024-06-04\n",
            "4      Eve  28.0    Toulouse  62000.0                  NaN       0/0/0\n",
            "5    Frank   0.0        Nice  48000.0                  5.0  2024-08-06\n",
            "6    Grace  40.0    Inconnue      NaN                 15.0       0/0/0\n",
            "7   Hannah  22.0      Nantes  55000.0                  1.0  2024-08-08\n",
            "8      Ivy   0.0  Strasbourg  51000.0                  NaN  2024-08-09\n",
            "9     Jack  30.0    Bordeaux      NaN                  7.0       0/0/0\n"
          ]
        }
      ],
      "source": [
        "# Remplissage des valeurs manquantes avec une valeur spécifique\n",
        "df_filled = df.fillna({\n",
        "    'Nom': 'Inconnu',       # Remplace les NaN dans la colonne 'Nom' par 'Inconnu'\n",
        "    'Age': 0,               # Remplace les NaN dans la colonne 'Âge' par 0\n",
        "    'Ville': 'Inconnue',    # Remplace les NaN dans la colonne 'Ville' par 'Inconnue'\n",
        "    'Date': '0/0/0'         # Remplace les NaN dans la colonne 'Date' par '0/0/0'\n",
        "})\n",
        "\n",
        "# Affichage du DataFrame après remplissage\n",
        "print(df_filled)"
      ]
    },
    {
      "cell_type": "code",
      "execution_count": 10,
      "metadata": {
        "colab": {
          "base_uri": "https://localhost:8080/"
        },
        "id": "1OIcj8Qs3JYr",
        "outputId": "e84a2e9d-5efd-4e2c-ddb9-f9719ee51623"
      },
      "outputs": [
        {
          "output_type": "stream",
          "name": "stdout",
          "text": [
            "      Nom   Age   Ville  Salaire  Années d'expérience        Date\n",
            "0   Alice  25.0   Paris  50000.0                  3.0  2024-08-01\n",
            "1     Bob  32.0    Lyon  54000.0                  8.0  2024-07-02\n",
            "7  Hannah  22.0  Nantes  55000.0                  1.0  2024-08-08\n"
          ]
        }
      ],
      "source": [
        "# Suppression des lignes contenant des valeurs manquantes\n",
        "df_dropped = df.dropna()\n",
        "\n",
        "# Affichage du DataFrame après suppression\n",
        "print(df_dropped)"
      ]
    },
    {
      "cell_type": "markdown",
      "metadata": {
        "id": "0drnvru53JYr"
      },
      "source": [
        "**Filtrage et Sélection de Données :**\n",
        "Vous pouvez filtrer les données en fonction de conditions spécifiques."
      ]
    },
    {
      "cell_type": "code",
      "execution_count": 11,
      "metadata": {
        "colab": {
          "base_uri": "https://localhost:8080/"
        },
        "id": "RNIZvkXJ3JYr",
        "outputId": "ded86302-2d0c-4418-a542-2c9a525a4df8"
      },
      "outputs": [
        {
          "output_type": "stream",
          "name": "stdout",
          "text": [
            "       Nom   Age      Ville  Salaire  Années d'expérience        Date\n",
            "1      Bob  32.0       Lyon  54000.0                  8.0  2024-07-02\n",
            "2  Charlie  35.0  Marseille      NaN                 10.0  2024-08-03\n",
            "4      Eve  28.0   Toulouse  62000.0                  NaN         NaN\n",
            "6    Grace  40.0        NaN      NaN                 15.0         NaN\n",
            "9     Jack  30.0   Bordeaux      NaN                  7.0         NaN\n"
          ]
        }
      ],
      "source": [
        "# Filtrage des données : sélectionner les lignes où l'âge est supérieur à 25\n",
        "filtered_df = df[df['Age'] > 25]\n",
        "print(filtered_df)"
      ]
    },
    {
      "cell_type": "code",
      "execution_count": 12,
      "metadata": {
        "colab": {
          "base_uri": "https://localhost:8080/"
        },
        "id": "LCMKEjRa3JYs",
        "outputId": "c59d6db5-bbe9-4454-a653-2408d28c530c"
      },
      "outputs": [
        {
          "output_type": "stream",
          "name": "stdout",
          "text": [
            "       Nom       Ville\n",
            "0    Alice       Paris\n",
            "1      Bob        Lyon\n",
            "2  Charlie   Marseille\n",
            "3    David         NaN\n",
            "4      Eve    Toulouse\n",
            "5    Frank        Nice\n",
            "6    Grace         NaN\n",
            "7   Hannah      Nantes\n",
            "8      Ivy  Strasbourg\n",
            "9     Jack    Bordeaux\n"
          ]
        }
      ],
      "source": [
        "# Sélection des colonnes spécifiques\n",
        "selected_columns = df[['Nom', 'Ville']]\n",
        "print(selected_columns)"
      ]
    },
    {
      "cell_type": "markdown",
      "metadata": {
        "id": "M1L4EzLR3JYs"
      },
      "source": [
        "**Groupement et Agrégation :**\n",
        "Le groupement et l'agrégation sont essentiels pour l'analyse des données, permettant de résumer des données par groupes."
      ]
    },
    {
      "cell_type": "code",
      "execution_count": 13,
      "metadata": {
        "colab": {
          "base_uri": "https://localhost:8080/"
        },
        "id": "socuaKsO3JYs",
        "outputId": "c2ac382d-bf0e-4469-e9e5-911e117feb2a"
      },
      "outputs": [
        {
          "output_type": "stream",
          "name": "stdout",
          "text": [
            "Ville\n",
            "Bordeaux      30.0\n",
            "Lyon          32.0\n",
            "Marseille     35.0\n",
            "Nantes        22.0\n",
            "Nice           NaN\n",
            "Paris         25.0\n",
            "Strasbourg     NaN\n",
            "Toulouse      28.0\n",
            "Name: Age, dtype: float64\n"
          ]
        }
      ],
      "source": [
        "# Groupement par ville et calcul de l'âge moyen dans chaque ville\n",
        "grouped = df.groupby('Ville')['Age'].mean()\n",
        "print(grouped)"
      ]
    },
    {
      "cell_type": "code",
      "execution_count": 14,
      "metadata": {
        "colab": {
          "base_uri": "https://localhost:8080/"
        },
        "id": "HnQats5e3JYs",
        "outputId": "06be9df6-7f55-4ad7-ed3c-61a941062633"
      },
      "outputs": [
        {
          "output_type": "stream",
          "name": "stdout",
          "text": [
            "             Age            \n",
            "            mean   min   max\n",
            "Ville                       \n",
            "Bordeaux    30.0  30.0  30.0\n",
            "Lyon        32.0  32.0  32.0\n",
            "Marseille   35.0  35.0  35.0\n",
            "Nantes      22.0  22.0  22.0\n",
            "Nice         NaN   NaN   NaN\n",
            "Paris       25.0  25.0  25.0\n",
            "Strasbourg   NaN   NaN   NaN\n",
            "Toulouse    28.0  28.0  28.0\n"
          ]
        }
      ],
      "source": [
        "# Agrégation avec plusieurs fonctions\n",
        "aggregated = df.groupby('Ville').agg({'Age': ['mean', 'min', 'max']})\n",
        "print(aggregated)"
      ]
    },
    {
      "cell_type": "markdown",
      "metadata": {
        "id": "NLwf4RpF3JYs"
      },
      "source": [
        "**Fusion et Jointure de Données :**\n",
        "Pandas permet de fusionner plusieurs DataFrames en fonction d'une clé commune, similaire aux opérations de jointure en SQL."
      ]
    },
    {
      "cell_type": "code",
      "execution_count": 15,
      "metadata": {
        "colab": {
          "base_uri": "https://localhost:8080/"
        },
        "id": "FVWtOAeH3JYs",
        "outputId": "91f29e3e-0bba-43cc-e8de-be2d27c9f536"
      },
      "outputs": [
        {
          "output_type": "stream",
          "name": "stdout",
          "text": [
            "   Fruits  Quantité\n",
            "0  Ananas        24\n",
            "1  Orange        27\n",
            "2  Mangue        22\n"
          ]
        }
      ],
      "source": [
        "# Création de deux DataFrames pour la jointure\n",
        "df1 = pd.DataFrame({\n",
        "    'Fruits': ['Ananas', 'Orange', 'Mangue'],\n",
        "    'Quantité': [24, 27, 22]\n",
        "})\n",
        "print(df1)\n"
      ]
    },
    {
      "cell_type": "code",
      "execution_count": 16,
      "metadata": {
        "colab": {
          "base_uri": "https://localhost:8080/"
        },
        "id": "4Tq5LSVT3JYt",
        "outputId": "aedc2f9b-5583-4295-a53b-55273227d404"
      },
      "outputs": [
        {
          "output_type": "stream",
          "name": "stdout",
          "text": [
            "   Fruits      Origine\n",
            "0  Ananas     New York\n",
            "1  Orange  Los Angeles\n",
            "2  Mangue      Houston\n"
          ]
        }
      ],
      "source": [
        "df2 = pd.DataFrame({\n",
        "    'Fruits': ['Ananas', 'Orange', 'Mangue'],\n",
        "    'Origine': ['New York', 'Los Angeles', 'Houston']\n",
        "})\n",
        "print(df2)"
      ]
    },
    {
      "cell_type": "code",
      "execution_count": 17,
      "metadata": {
        "colab": {
          "base_uri": "https://localhost:8080/"
        },
        "id": "cBQqnulY3JYt",
        "outputId": "fe59a496-0113-40e3-a2fe-b93d9e222a2b"
      },
      "outputs": [
        {
          "output_type": "stream",
          "name": "stdout",
          "text": [
            "   Fruits  Quantité      Origine\n",
            "0  Ananas        24     New York\n",
            "1  Orange        27  Los Angeles\n",
            "2  Mangue        22      Houston\n"
          ]
        }
      ],
      "source": [
        "# Jointure des DataFrames sur la colonne 'Name'\n",
        "merged_df = pd.merge(df1, df2, on='Fruits', how='inner')\n",
        "print(merged_df)"
      ]
    },
    {
      "cell_type": "markdown",
      "metadata": {
        "id": "l_SWjtWb3JYt"
      },
      "source": [
        "## 3. Analyse Exploratoire des Données (EDA)\n",
        "**Analyse Statistique de Base :**\n",
        "Pandas propose des méthodes pour obtenir des statistiques descriptives rapidement."
      ]
    },
    {
      "cell_type": "code",
      "execution_count": 18,
      "metadata": {
        "colab": {
          "base_uri": "https://localhost:8080/"
        },
        "id": "aNwaP_fo3JYt",
        "outputId": "6c5291fd-abe0-4723-aad3-a2f9cbd82374"
      },
      "outputs": [
        {
          "output_type": "stream",
          "name": "stdout",
          "text": [
            "             Age      Salaire  Années d'expérience\n",
            "count   7.000000      7.00000             8.000000\n",
            "mean   30.285714  54000.00000             7.625000\n",
            "std     6.074929   4864.83984             4.657943\n",
            "min    22.000000  48000.00000             1.000000\n",
            "25%    26.500000  50500.00000             4.500000\n",
            "50%    30.000000  54000.00000             7.500000\n",
            "75%    33.500000  56500.00000            10.500000\n",
            "max    40.000000  62000.00000            15.000000\n"
          ]
        }
      ],
      "source": [
        "# Résumé statistique du DataFrame\n",
        "summary = df.describe()\n",
        "print(summary)"
      ]
    },
    {
      "cell_type": "code",
      "execution_count": 19,
      "metadata": {
        "colab": {
          "base_uri": "https://localhost:8080/"
        },
        "id": "sznRTZaF3JYt",
        "outputId": "5aff1300-d4b4-4e48-9f8c-b06fab968118"
      },
      "outputs": [
        {
          "output_type": "stream",
          "name": "stdout",
          "text": [
            "                          Age   Salaire  Années d'expérience\n",
            "Age                  1.000000  0.191487             0.996257\n",
            "Salaire              0.191487  1.000000             0.520309\n",
            "Années d'expérience  0.996257  0.520309             1.000000\n"
          ]
        }
      ],
      "source": [
        "# Sélectionner uniquement les colonnes numériques\n",
        "df_numeric = df.select_dtypes(include=[np.number])\n",
        "\n",
        "# Calcul de la corrélation entre colonnes numériques\n",
        "correlation = df_numeric.corr()\n",
        "print(correlation)"
      ]
    },
    {
      "cell_type": "markdown",
      "metadata": {
        "id": "v0hFpbsd3JYt"
      },
      "source": [
        "**Manipulation des Dates et Séries Temporelles :**\n",
        "Pandas dispose d'outils robustes pour travailler avec des données temporelles, y compris la conversion de chaînes en objets datetime, la gestion des fréquences et des décalages."
      ]
    },
    {
      "cell_type": "code",
      "execution_count": 20,
      "metadata": {
        "colab": {
          "base_uri": "https://localhost:8080/"
        },
        "id": "ELU2tWEg3JYt",
        "outputId": "c762d675-f7fc-4d69-b616-c335a6790758"
      },
      "outputs": [
        {
          "output_type": "stream",
          "name": "stdout",
          "text": [
            "DataFrame après conversion et extraction :\n",
            "       Nom   Age       Ville  Salaire  Années d'expérience       Date    Year  \\\n",
            "0    Alice  25.0       Paris  50000.0                  3.0 2024-08-01  2024.0   \n",
            "1      Bob  32.0        Lyon  54000.0                  8.0 2024-07-02  2024.0   \n",
            "2  Charlie  35.0   Marseille      NaN                 10.0 2024-08-03  2024.0   \n",
            "3    David   NaN         NaN  58000.0                 12.0 2024-06-04  2024.0   \n",
            "4      Eve  28.0    Toulouse  62000.0                  NaN        NaT     NaN   \n",
            "5    Frank   NaN        Nice  48000.0                  5.0 2024-08-06  2024.0   \n",
            "6    Grace  40.0         NaN      NaN                 15.0        NaT     NaN   \n",
            "7   Hannah  22.0      Nantes  55000.0                  1.0 2024-08-08  2024.0   \n",
            "8      Ivy   NaN  Strasbourg  51000.0                  NaN 2024-08-09  2024.0   \n",
            "9     Jack  30.0    Bordeaux      NaN                  7.0        NaT     NaN   \n",
            "\n",
            "   Month  \n",
            "0    8.0  \n",
            "1    7.0  \n",
            "2    8.0  \n",
            "3    6.0  \n",
            "4    NaN  \n",
            "5    8.0  \n",
            "6    NaN  \n",
            "7    8.0  \n",
            "8    8.0  \n",
            "9    NaN  \n"
          ]
        }
      ],
      "source": [
        "# Conversion de la colonne 'Date' en format datetime\n",
        "df['Date'] = pd.to_datetime(df['Date'], errors='coerce')\n",
        "\n",
        "# Extraction de l'année et du mois\n",
        "df['Year'] = df['Date'].dt.year\n",
        "df['Month'] = df['Date'].dt.month\n",
        "print(\"DataFrame après conversion et extraction :\")\n",
        "print(df)"
      ]
    },
    {
      "cell_type": "code",
      "source": [
        "# Définir la colonne 'Date' comme index\n",
        "df.set_index('Date', inplace=True)\n",
        "\n",
        "# Sélectionner uniquement les colonnes numériques pour l'opération de resampling\n",
        "df_numeric = df[['Year', 'Month']]\n",
        "\n",
        "# Resampling des données mensuellement\n",
        "monthly_data = df_numeric.resample('M').mean()\n",
        "\n",
        "print(\"\\nDonnées resamplées mensuellement :\")\n",
        "print(monthly_data)"
      ],
      "metadata": {
        "colab": {
          "base_uri": "https://localhost:8080/"
        },
        "id": "mnzJKFTl-1-k",
        "outputId": "26da1ef5-7f9f-4e7b-d666-bd78526f0ead"
      },
      "execution_count": 21,
      "outputs": [
        {
          "output_type": "stream",
          "name": "stdout",
          "text": [
            "\n",
            "Données resamplées mensuellement :\n",
            "              Year  Month\n",
            "Date                     \n",
            "2024-06-30  2024.0    6.0\n",
            "2024-07-31  2024.0    7.0\n",
            "2024-08-31  2024.0    8.0\n"
          ]
        }
      ]
    },
    {
      "cell_type": "markdown",
      "metadata": {
        "id": "ZDxAdGgh3JYu"
      },
      "source": [
        "## 4. Applications Avancées en Science des Données\n",
        "**Manipulation de Grandes Bases de Données :**\n",
        "Pandas est capable de traiter de grandes quantités de données, mais il peut être nécessaire d'optimiser l'utilisation de la mémoire et de la vitesse."
      ]
    },
    {
      "cell_type": "code",
      "execution_count": 22,
      "metadata": {
        "id": "RgNQx2Pn3JYu"
      },
      "outputs": [],
      "source": [
        "# Lecture d'un grand fichier CSV en spécifiant des types de données\n",
        "#df_large = pd.read_csv('data/exo_pandas.csv', dtype={'column1': 'int32', 'column2': 'float32'})\n",
        "\n",
        "# Utilisation de chunks pour traiter de gros fichiers en morceaux\n",
        "#chunks = pd.read_csv('data/exo_pandas.csv', chunksize=10000)\n",
        "#for chunk in chunks:\n",
        "    # Traitement sur chaque chunk\n",
        "    #process(chunk)\n"
      ]
    },
    {
      "cell_type": "markdown",
      "metadata": {
        "id": "BTztbxUG3JYv"
      },
      "source": [
        "**Application de Fonctions et de Méthodes Personnalisées :**\n",
        "Pandas permet d'appliquer des fonctions personnalisées à vos données grâce à apply et applymap."
      ]
    },
    {
      "cell_type": "code",
      "execution_count": 23,
      "metadata": {
        "colab": {
          "base_uri": "https://localhost:8080/"
        },
        "id": "XWTmb0Y-3JYv",
        "outputId": "c7747d84-b73c-459c-c969-0ec275c9182e"
      },
      "outputs": [
        {
          "output_type": "stream",
          "name": "stdout",
          "text": [
            "                Nom   Age       Ville  Salaire  Années d'expérience    Year  \\\n",
            "Date                                                                          \n",
            "2024-08-01    Alice  25.0       Paris  50000.0                  3.0  2024.0   \n",
            "2024-07-02      Bob  32.0        Lyon  54000.0                  8.0  2024.0   \n",
            "2024-08-03  Charlie  35.0   Marseille      NaN                 10.0  2024.0   \n",
            "2024-06-04    David   NaN         NaN  58000.0                 12.0  2024.0   \n",
            "NaT             Eve  28.0    Toulouse  62000.0                  NaN     NaN   \n",
            "2024-08-06    Frank   NaN        Nice  48000.0                  5.0  2024.0   \n",
            "NaT           Grace  40.0         NaN      NaN                 15.0     NaN   \n",
            "2024-08-08   Hannah  22.0      Nantes  55000.0                  1.0  2024.0   \n",
            "2024-08-09      Ivy   NaN  Strasbourg  51000.0                  NaN  2024.0   \n",
            "NaT            Jack  30.0    Bordeaux      NaN                  7.0     NaN   \n",
            "\n",
            "            Month Age_Category  \n",
            "Date                            \n",
            "2024-08-01    8.0       Adulte  \n",
            "2024-07-02    7.0       Adulte  \n",
            "2024-08-03    8.0       Senior  \n",
            "2024-06-04    6.0       Senior  \n",
            "NaT           NaN       Adulte  \n",
            "2024-08-06    8.0       Senior  \n",
            "NaT           NaN       Senior  \n",
            "2024-08-08    8.0        Jeune  \n",
            "2024-08-09    8.0       Senior  \n",
            "NaT           NaN       Adulte  \n"
          ]
        }
      ],
      "source": [
        "# Fonction personnalisée pour convertir l'âge en catégories\n",
        "def age_category(age):\n",
        "    if age < 25:\n",
        "        return 'Jeune'\n",
        "    elif age < 35:\n",
        "        return 'Adulte'\n",
        "    else:\n",
        "        return 'Senior'\n",
        "\n",
        "# Application de la fonction à la colonne 'Age'\n",
        "df['Age_Category'] = df['Age'].apply(age_category)\n",
        "print(df)"
      ]
    },
    {
      "cell_type": "code",
      "source": [
        "# Application de la fonction à toutes les valeurs du DataFrame\n",
        "df_applied = df.applymap(lambda x: x.upper() if isinstance(x, str) else x)\n",
        "print(df_applied)"
      ],
      "metadata": {
        "colab": {
          "base_uri": "https://localhost:8080/"
        },
        "id": "9SHK8mYMAj4F",
        "outputId": "729322e9-73d0-42b4-c386-ece7fa0f9655"
      },
      "execution_count": 24,
      "outputs": [
        {
          "output_type": "stream",
          "name": "stdout",
          "text": [
            "                Nom   Age       Ville  Salaire  Années d'expérience    Year  \\\n",
            "Date                                                                          \n",
            "2024-08-01    ALICE  25.0       PARIS  50000.0                  3.0  2024.0   \n",
            "2024-07-02      BOB  32.0        LYON  54000.0                  8.0  2024.0   \n",
            "2024-08-03  CHARLIE  35.0   MARSEILLE      NaN                 10.0  2024.0   \n",
            "2024-06-04    DAVID   NaN         NaN  58000.0                 12.0  2024.0   \n",
            "NaT             EVE  28.0    TOULOUSE  62000.0                  NaN     NaN   \n",
            "2024-08-06    FRANK   NaN        NICE  48000.0                  5.0  2024.0   \n",
            "NaT           GRACE  40.0         NaN      NaN                 15.0     NaN   \n",
            "2024-08-08   HANNAH  22.0      NANTES  55000.0                  1.0  2024.0   \n",
            "2024-08-09      IVY   NaN  STRASBOURG  51000.0                  NaN  2024.0   \n",
            "NaT            JACK  30.0    BORDEAUX      NaN                  7.0     NaN   \n",
            "\n",
            "            Month Age_Category  \n",
            "Date                            \n",
            "2024-08-01    8.0       ADULTE  \n",
            "2024-07-02    7.0       ADULTE  \n",
            "2024-08-03    8.0       SENIOR  \n",
            "2024-06-04    6.0       SENIOR  \n",
            "NaT           NaN       ADULTE  \n",
            "2024-08-06    8.0       SENIOR  \n",
            "NaT           NaN       SENIOR  \n",
            "2024-08-08    8.0        JEUNE  \n",
            "2024-08-09    8.0       SENIOR  \n",
            "NaT           NaN       ADULTE  \n"
          ]
        },
        {
          "output_type": "stream",
          "name": "stderr",
          "text": [
            "<ipython-input-24-0bf561338758>:2: FutureWarning: DataFrame.applymap has been deprecated. Use DataFrame.map instead.\n",
            "  df_applied = df.applymap(lambda x: x.upper() if isinstance(x, str) else x)\n"
          ]
        }
      ]
    },
    {
      "cell_type": "markdown",
      "metadata": {
        "id": "od_i8eIj3JYu"
      },
      "source": [
        "**Traitement des Données Textuelles :**\n",
        "Pandas permet de traiter et d'analyser des données textuelles avec des fonctions de string intégrées."
      ]
    },
    {
      "cell_type": "code",
      "execution_count": 36,
      "metadata": {
        "colab": {
          "base_uri": "https://localhost:8080/"
        },
        "id": "M8kSRnLB3JYu",
        "outputId": "7b381517-c38d-48a5-d9d6-51734fadb82f"
      },
      "outputs": [
        {
          "output_type": "stream",
          "name": "stdout",
          "text": [
            "                                                Text  \\\n",
            "0                         Bonjour   tout le  monde     \n",
            "1                        Je suis Doowensky SINTILUS    \n",
            "2                                  Data scientist      \n",
            "3  Je vous souhaite la bienvenue dans ma formatio...   \n",
            "\n",
            "                         Email  \n",
            "0  doowenskysintilus@gmail.com  \n",
            "1           bob.smith@yahoo.fr  \n",
            "2       charlie.doe@domain.net  \n",
            "3            david@example.com  \n"
          ]
        }
      ],
      "source": [
        "import pandas as pd\n",
        "\n",
        "# Création d'un DataFrame avec des colonnes 'Text' et 'Email'\n",
        "data = {\n",
        "    'Text': [\n",
        "        '  Bonjour   tout le  monde  ',\n",
        "        'Je suis Doowensky SINTILUS ',\n",
        "        '   Data scientist   ',\n",
        "        'Je vous souhaite la bienvenue dans ma formation   ',\n",
        "    ],\n",
        "    'Email': [\n",
        "        'doowenskysintilus@gmail.com',\n",
        "        'bob.smith@yahoo.fr',\n",
        "        'charlie.doe@domain.net',\n",
        "        'david@example.com',\n",
        "    ]\n",
        "}\n",
        "\n",
        "df = pd.DataFrame(data)\n",
        "\n",
        "print(df)\n"
      ]
    },
    {
      "cell_type": "code",
      "source": [
        "# Nettoyage de texte : suppression des espaces en trop\n",
        "df['Text'] = df['Text'].str.strip()\n",
        "print(df)"
      ],
      "metadata": {
        "colab": {
          "base_uri": "https://localhost:8080/"
        },
        "id": "qoSQHanyA8Dj",
        "outputId": "e370d5c6-a020-4afc-ed00-22724b85db62"
      },
      "execution_count": 37,
      "outputs": [
        {
          "output_type": "stream",
          "name": "stdout",
          "text": [
            "                                              Text  \\\n",
            "0                         Bonjour   tout le  monde   \n",
            "1                       Je suis Doowensky SINTILUS   \n",
            "2                                   Data scientist   \n",
            "3  Je vous souhaite la bienvenue dans ma formation   \n",
            "\n",
            "                         Email  \n",
            "0  doowenskysintilus@gmail.com  \n",
            "1           bob.smith@yahoo.fr  \n",
            "2       charlie.doe@domain.net  \n",
            "3            david@example.com  \n"
          ]
        }
      ]
    },
    {
      "cell_type": "code",
      "source": [
        "# Extraction de parties spécifiques du texte (domaine des emails)\n",
        "df['Domain'] = df['Email'].str.split('@').str[1]\n",
        "print(df)"
      ],
      "metadata": {
        "colab": {
          "base_uri": "https://localhost:8080/"
        },
        "id": "231OPIA8BE2y",
        "outputId": "4fc3f775-f3e2-48c0-d6fe-f8c04a839d6e"
      },
      "execution_count": 38,
      "outputs": [
        {
          "output_type": "stream",
          "name": "stdout",
          "text": [
            "                                              Text  \\\n",
            "0                         Bonjour   tout le  monde   \n",
            "1                       Je suis Doowensky SINTILUS   \n",
            "2                                   Data scientist   \n",
            "3  Je vous souhaite la bienvenue dans ma formation   \n",
            "\n",
            "                         Email       Domain  \n",
            "0  doowenskysintilus@gmail.com    gmail.com  \n",
            "1           bob.smith@yahoo.fr     yahoo.fr  \n",
            "2       charlie.doe@domain.net   domain.net  \n",
            "3            david@example.com  example.com  \n"
          ]
        }
      ]
    },
    {
      "cell_type": "code",
      "source": [
        "# Comptage de la fréquence de mots\n",
        "word_count = df['Text'].str.split(expand=True).stack().value_counts()\n",
        "print(word_count)"
      ],
      "metadata": {
        "colab": {
          "base_uri": "https://localhost:8080/"
        },
        "id": "VPJlxYI7BJPa",
        "outputId": "9d064dec-fabb-46ad-a1da-cb1561f9f160"
      },
      "execution_count": 39,
      "outputs": [
        {
          "output_type": "stream",
          "name": "stdout",
          "text": [
            "Je           2\n",
            "Bonjour      1\n",
            "scientist    1\n",
            "ma           1\n",
            "dans         1\n",
            "bienvenue    1\n",
            "la           1\n",
            "souhaite     1\n",
            "vous         1\n",
            "Data         1\n",
            "tout         1\n",
            "SINTILUS     1\n",
            "Doowensky    1\n",
            "suis         1\n",
            "monde        1\n",
            "le           1\n",
            "formation    1\n",
            "Name: count, dtype: int64\n"
          ]
        }
      ]
    },
    {
      "cell_type": "markdown",
      "metadata": {
        "id": "KtYtXlFm3JYv"
      },
      "source": [
        "## Exercices et corrections\n",
        "\n",
        "**Exercice 1 : Nettoyage de Données**\n",
        "\n",
        "* Chargez vos données dans un dataframe.\n",
        "* Identifiez et traitez les valeurs manquantes.\n",
        "* Créez une nouvelle colonne calculant le montant total des ventes (quantité * prix unitaire).\n",
        "* Filtrez les ventes pour un produit spécifique et calculez les ventes totales pour ce produit."
      ]
    },
    {
      "cell_type": "code",
      "execution_count": 40,
      "metadata": {
        "id": "ibDTTFL73JY0"
      },
      "outputs": [],
      "source": [
        "import pandas as pd\n",
        "import numpy as np\n",
        "\n",
        "# Création du DataFrame\n",
        "data = {\n",
        "    'Produit': ['A', 'B', 'C', 'A', 'B', 'C', 'A', 'C', 'B', 'A'],\n",
        "    'Quantité': [10, 15, 7, 8, 12, np.nan, 10, 14, 13, 9],\n",
        "    'Prix_Unitaire': [5.5, 3.0, 9.75, 5.5, 3.0, 9.75, 5.5, 9.75, 3.0, 5.5]\n",
        "}\n",
        "\n",
        "df = pd.DataFrame(data)"
      ]
    },
    {
      "cell_type": "code",
      "execution_count": 41,
      "metadata": {
        "id": "d3_3ZOzX3JY0"
      },
      "outputs": [],
      "source": [
        "# Étape 2 : Identification et traitement des valeurs manquantes\n",
        "df['Quantité'] = df['Quantité'].fillna(df['Quantité'].mean())"
      ]
    },
    {
      "cell_type": "code",
      "execution_count": 42,
      "metadata": {
        "colab": {
          "base_uri": "https://localhost:8080/"
        },
        "id": "xaPBFuq23JY0",
        "outputId": "9a772619-ad26-4aa0-bc22-f8236d2b3d11"
      },
      "outputs": [
        {
          "output_type": "stream",
          "name": "stdout",
          "text": [
            "  Produit   Quantité  Prix_Unitaire  Montant_Total\n",
            "0       A  10.000000           5.50      55.000000\n",
            "1       B  15.000000           3.00      45.000000\n",
            "2       C   7.000000           9.75      68.250000\n",
            "3       A   8.000000           5.50      44.000000\n",
            "4       B  12.000000           3.00      36.000000\n",
            "5       C  10.888889           9.75     106.166667\n",
            "6       A  10.000000           5.50      55.000000\n",
            "7       C  14.000000           9.75     136.500000\n",
            "8       B  13.000000           3.00      39.000000\n",
            "9       A   9.000000           5.50      49.500000\n"
          ]
        }
      ],
      "source": [
        "# Étape 3 : Calcul du montant total des ventes\n",
        "df['Montant_Total'] = df['Quantité'] * df['Prix_Unitaire']\n",
        "print(df)"
      ]
    },
    {
      "cell_type": "code",
      "execution_count": 44,
      "metadata": {
        "colab": {
          "base_uri": "https://localhost:8080/"
        },
        "id": "tbchxl4U3JY0",
        "outputId": "d5632d8f-4193-438b-c519-68b71f97baa1"
      },
      "outputs": [
        {
          "output_type": "stream",
          "name": "stdout",
          "text": [
            "Ventes totales pour le produit C : 310.9166666666667\n"
          ]
        }
      ],
      "source": [
        "# Étape 4 : Filtrage des ventes pour un produit spécifique\n",
        "produit_c = df[df['Produit'] == 'C']\n",
        "ventes_totales_c = produit_c['Montant_Total'].sum()\n",
        "print(\"Ventes totales pour le produit C :\", ventes_totales_c)"
      ]
    },
    {
      "cell_type": "markdown",
      "metadata": {
        "id": "g710nanE3JY1"
      },
      "source": [
        "**Exercice 2 : Analyse de Séries Temporelles**\n",
        "\n",
        "\n",
        "* Convertissez la colonne Date en datetime et rééchantillonnez les données mensuellement.\n",
        "* Tracez un graphique en ligne des ventes mensuelles.\n",
        "* Calculez la moyenne mobile des ventes sur une fenêtre de 3 mois."
      ]
    },
    {
      "cell_type": "code",
      "execution_count": 47,
      "metadata": {
        "colab": {
          "base_uri": "https://localhost:8080/"
        },
        "id": "1bu4Hl5Y3JY1",
        "outputId": "874b34a4-b67a-4d72-e688-09e0bd45f59c"
      },
      "outputs": [
        {
          "output_type": "stream",
          "name": "stdout",
          "text": [
            "         Date  Ventes\n",
            "0  2023-01-31     703\n",
            "1  2023-02-28     676\n",
            "2  2023-03-31     305\n",
            "3  2023-04-30     288\n",
            "4  2023-05-31     522\n",
            "5  2023-06-30     613\n",
            "6  2023-07-31     849\n",
            "7  2023-08-31     372\n",
            "8  2023-09-30     474\n",
            "9  2023-10-31     379\n",
            "10 2023-11-30     947\n",
            "11 2023-12-31     980\n"
          ]
        }
      ],
      "source": [
        "import matplotlib.pyplot as plt\n",
        "\n",
        "# Génération de données synthétiques\n",
        "dates = pd.date_range(start='2023-01-01', periods=12, freq='M')\n",
        "ventes = np.random.randint(200, 1000, size=12)\n",
        "\n",
        "df = pd.DataFrame({\n",
        "    'Date': dates,\n",
        "    'Ventes': ventes\n",
        "})\n",
        "print(df)"
      ]
    },
    {
      "cell_type": "code",
      "execution_count": 49,
      "metadata": {
        "id": "Xh4oiLfN3JY1"
      },
      "outputs": [],
      "source": [
        "# Étape 2 : Conversion de la colonne Date en datetime\n",
        "df['Date'] = pd.to_datetime(df['Date'])\n"
      ]
    },
    {
      "cell_type": "code",
      "execution_count": 50,
      "metadata": {
        "colab": {
          "base_uri": "https://localhost:8080/",
          "height": 488
        },
        "id": "CKWEvwC03JY1",
        "outputId": "248638b0-7f57-4258-cfd1-4a727c2252df"
      },
      "outputs": [
        {
          "output_type": "display_data",
          "data": {
            "text/plain": [
              "<Figure size 640x480 with 1 Axes>"
            ],
            "image/png": "[encoded data removed]"
          },
          "metadata": {}
        }
      ],
      "source": [
        "# Étape 3 : Rééchantillonnage mensuel (déjà mensuel dans cet exemple)\n",
        "df.set_index('Date', inplace=True)\n",
        "\n",
        "# Tracé des ventes mensuelles\n",
        "df['Ventes'].plot(kind='line')\n",
        "plt.title(\"Ventes Mensuelles\")\n",
        "plt.ylabel(\"Ventes\")\n",
        "plt.show()"
      ]
    },
    {
      "cell_type": "code",
      "execution_count": 51,
      "metadata": {
        "colab": {
          "base_uri": "https://localhost:8080/"
        },
        "id": "GYCyRwDn3JY1",
        "outputId": "d6f38027-bc10-4b2e-be1c-fb0847be9644"
      },
      "outputs": [
        {
          "output_type": "stream",
          "name": "stdout",
          "text": [
            "            Ventes  Moyenne_Mobile\n",
            "Date                              \n",
            "2023-01-31     703             NaN\n",
            "2023-02-28     676             NaN\n",
            "2023-03-31     305      561.333333\n",
            "2023-04-30     288      423.000000\n",
            "2023-05-31     522      371.666667\n",
            "2023-06-30     613      474.333333\n",
            "2023-07-31     849      661.333333\n",
            "2023-08-31     372      611.333333\n",
            "2023-09-30     474      565.000000\n",
            "2023-10-31     379      408.333333\n",
            "2023-11-30     947      600.000000\n",
            "2023-12-31     980      768.666667\n"
          ]
        }
      ],
      "source": [
        "# Étape 4 : Calcul de la moyenne mobile sur une fenêtre de 3 mois\n",
        "df['Moyenne_Mobile'] = df['Ventes'].rolling(window=3).mean()\n",
        "print(df)"
      ]
    },
    {
      "cell_type": "markdown",
      "metadata": {
        "id": "vsmwJTRJ3JY2"
      },
      "source": [
        "**Exercice 3 : Analyse Exploratoire**\n",
        "\n",
        "* Chargez un fichier CSV contenant des données démographiques.\n",
        "* Calculez les statistiques descriptives pour chaque colonne numérique.\n",
        "* Identifiez les corrélations entre les différentes variables.\n",
        "* Créez un graphique pour visualiser la distribution des âges."
      ]
    },
    {
      "cell_type": "code",
      "execution_count": 54,
      "metadata": {
        "colab": {
          "base_uri": "https://localhost:8080/"
        },
        "id": "XVMpPAhJ3JY2",
        "outputId": "9b367cc8-636b-406b-8969-c77708df623c"
      },
      "outputs": [
        {
          "output_type": "stream",
          "name": "stdout",
          "text": [
            "       Nom  Âge  Revenu      Ville\n",
            "0    Alice   24   50000      Paris\n",
            "1      Bob   27   54000       Lyon\n",
            "2  Charlie   22   48000  Marseille\n",
            "3    David   32   62000      Lille\n",
            "4      Eva   29   59000   Bordeaux\n"
          ]
        }
      ],
      "source": [
        "import matplotlib.pyplot as plt\n",
        "\n",
        "# Création de données synthétiques\n",
        "data = {\n",
        "    'Nom': ['Alice', 'Bob', 'Charlie', 'David', 'Eva'],\n",
        "    'Âge': [24, 27, 22, 32, 29],\n",
        "    'Revenu': [50000, 54000, 48000, 62000, 59000],\n",
        "    'Ville': ['Paris', 'Lyon', 'Marseille', 'Lille', 'Bordeaux']\n",
        "}\n",
        "\n",
        "df = pd.DataFrame(data)\n",
        "print(df)"
      ]
    },
    {
      "cell_type": "code",
      "execution_count": 53,
      "metadata": {
        "colab": {
          "base_uri": "https://localhost:8080/"
        },
        "id": "bes20GUg3JY2",
        "outputId": "61eb259a-10e7-4602-9cd0-0138a35a3052"
      },
      "outputs": [
        {
          "output_type": "stream",
          "name": "stdout",
          "text": [
            "Statistiques descriptives :\n",
            "              Âge        Revenu\n",
            "count   5.000000      5.000000\n",
            "mean   26.800000  54600.000000\n",
            "std     3.962323   5899.152482\n",
            "min    22.000000  48000.000000\n",
            "25%    24.000000  50000.000000\n",
            "50%    27.000000  54000.000000\n",
            "75%    29.000000  59000.000000\n",
            "max    32.000000  62000.000000\n"
          ]
        }
      ],
      "source": [
        "# Étape 2 : Calcul des statistiques descriptives\n",
        "print(\"Statistiques descriptives :\\n\", df.describe())"
      ]
    },
    {
      "cell_type": "code",
      "execution_count": 55,
      "metadata": {
        "colab": {
          "base_uri": "https://localhost:8080/"
        },
        "id": "mQ1Iv4dM3JY2",
        "outputId": "e77085f9-2e46-4407-ebfc-53a24edfee71"
      },
      "outputs": [
        {
          "output_type": "stream",
          "name": "stdout",
          "text": [
            "Matrice de corrélation :\n",
            "              Âge    Revenu\n",
            "Âge     1.000000  0.990402\n",
            "Revenu  0.990402  1.000000\n"
          ]
        }
      ],
      "source": [
        "# Étape 3 : Identification des corrélations\n",
        "correlation_matrix = df[['Âge', 'Revenu']].corr()\n",
        "print(\"Matrice de corrélation :\\n\", correlation_matrix)"
      ]
    },
    {
      "cell_type": "code",
      "execution_count": 56,
      "metadata": {
        "colab": {
          "base_uri": "https://localhost:8080/",
          "height": 477
        },
        "id": "BN_qF_Pe3JY2",
        "outputId": "3b03ff20-af4f-41d7-b207-27f916763879"
      },
      "outputs": [
        {
          "output_type": "display_data",
          "data": {
            "text/plain": [
              "<Figure size 640x480 with 1 Axes>"
            ],
            "image/png": "[encoded data removed]"
          },
          "metadata": {}
        }
      ],
      "source": [
        "# Étape 4 : Visualisation de la distribution des âges\n",
        "df['Âge'].hist()\n",
        "plt.title(\"Distribution des Âges\")\n",
        "plt.xlabel(\"Âge\")\n",
        "plt.ylabel(\"Fréquence\")\n",
        "plt.show()"
      ]
    }
  ],
  "metadata": {
    "kernelspec": {
      "display_name": "Python 3 (ipykernel)",
      "language": "python",
      "name": "python3"
    },
    "language_info": {
      "codemirror_mode": {
        "name": "ipython",
        "version": 3
      },
      "file_extension": ".py",
      "mimetype": "text/x-python",
      "name": "python",
      "nbconvert_exporter": "python",
      "pygments_lexer": "ipython3",
      "version": "3.11.5"
    },
    "colab": {
      "provenance": []
    }
  },
  "nbformat": 4,
  "nbformat_minor": 0
}