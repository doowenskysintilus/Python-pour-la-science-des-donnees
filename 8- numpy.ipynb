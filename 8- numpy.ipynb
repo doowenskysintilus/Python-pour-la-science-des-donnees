{
 "cells": [
  {
   "cell_type": "markdown",
   "metadata": {},
   "source": [
    "## Introduction à NumPy\n",
    "NumPy est une bibliothèque de calcul numérique pour Python. NumPy permet de manipuler des tableaux multidimensionnels de manière efficace et offre une large gamme de fonctions mathématiques pour effectuer des opérations sur ces tableaux.\n",
    "\n",
    "**Pourquoi utiliser NumPy?**\n",
    "* **Performance :** NumPy est bien plus rapide que les listes Python natives pour les opérations mathématiques, grâce à sa gestion optimisée des tableaux en mémoire et à son implémentation en C.\n",
    "* **Fonctionnalités étendues :** Il offre un vaste ensemble d'opérations mathématiques, algébriques, statistiques, et logiques.\n",
    "* **Compatibilité :** NumPy est le fondement de nombreuses autres bibliothèques de machine learning et de traitement des données."
   ]
  },
  {
   "cell_type": "markdown",
   "metadata": {},
   "source": [
    "## 1. Création de Tableaux NumPy\n",
    "\n",
    "Vous pouvez créer des tableaux NumPy à partir de listes Python ou en utilisant des fonctions spécifiques pour générer des tableaux de manière plus contrôlée."
   ]
  },
  {
   "cell_type": "code",
   "execution_count": 271,
   "metadata": {},
   "outputs": [
    {
     "name": "stdout",
     "output_type": "stream",
     "text": [
      "Requirement already satisfied: numpy in c:\\users\\tilus\\anaconda3\\lib\\site-packages (1.24.3)\n",
      "Note: you may need to restart the kernel to use updated packages.\n"
     ]
    }
   ],
   "source": [
    "pip install numpy"
   ]
  },
  {
   "cell_type": "code",
   "execution_count": 272,
   "metadata": {},
   "outputs": [
    {
     "name": "stdout",
     "output_type": "stream",
     "text": [
      "[1 2 3 4 5]\n"
     ]
    }
   ],
   "source": [
    "import numpy as np\n",
    "\n",
    "# tableau à une dimension\n",
    "array_1d = np.array([1, 2, 3, 4, 5])\n",
    "print(array_1d)"
   ]
  },
  {
   "cell_type": "code",
   "execution_count": 273,
   "metadata": {},
   "outputs": [
    {
     "name": "stdout",
     "output_type": "stream",
     "text": [
      "[[1 2 3]\n",
      " [4 5 6]]\n"
     ]
    }
   ],
   "source": [
    "# Tableau à deux dimensions\n",
    "array_2d = np.array([[1, 2, 3], [4, 5, 6]])\n",
    "print(array_2d)"
   ]
  },
  {
   "cell_type": "code",
   "execution_count": 274,
   "metadata": {},
   "outputs": [
    {
     "name": "stdout",
     "output_type": "stream",
     "text": [
      "[[0. 0. 0.]\n",
      " [0. 0. 0.]]\n"
     ]
    }
   ],
   "source": [
    "# Tableau 2x3 rempli de zéros\n",
    "zeros_array = np.zeros((2, 3))       \n",
    "print(zeros_array)"
   ]
  },
  {
   "cell_type": "code",
   "execution_count": 275,
   "metadata": {},
   "outputs": [
    {
     "name": "stdout",
     "output_type": "stream",
     "text": [
      "[[1. 1. 1. 1.]\n",
      " [1. 1. 1. 1.]\n",
      " [1. 1. 1. 1.]]\n"
     ]
    }
   ],
   "source": [
    " # Tableau 3x4 rempli de uns\n",
    "ones_array = np.ones((3, 4))\n",
    "print(ones_array)"
   ]
  },
  {
   "cell_type": "code",
   "execution_count": 276,
   "metadata": {},
   "outputs": [
    {
     "name": "stdout",
     "output_type": "stream",
     "text": [
      "[[0.34492472 0.01851647]\n",
      " [0.23927557 0.2320051 ]]\n"
     ]
    }
   ],
   "source": [
    "# Tableau 2x2 avec des valeurs aléatoires entre 0 et 1\n",
    "random_array = np.random.random((2, 2))\n",
    "print(random_array)"
   ]
  },
  {
   "cell_type": "markdown",
   "metadata": {},
   "source": [
    "**Propriétés des Tableaux NumPy**\n",
    "\n",
    "Un tableau NumPy possède plusieurs propriétés importantes :"
   ]
  },
  {
   "cell_type": "code",
   "execution_count": 277,
   "metadata": {},
   "outputs": [
    {
     "name": "stdout",
     "output_type": "stream",
     "text": [
      "Shape: (2, 3)\n",
      "Size: 6\n",
      "Data type: int32\n",
      "Number of dimensions: 2\n"
     ]
    }
   ],
   "source": [
    "array = np.array([[1, 2, 3], [4, 5, 6]])\n",
    "\n",
    "print(\"Shape:\", array.shape)        # Dimensions du tableau\n",
    "print(\"Size:\", array.size)          # Nombre total d'éléments\n",
    "print(\"Data type:\", array.dtype)    # Type des éléments\n",
    "print(\"Number of dimensions:\", array.ndim)  # Nombre de dimensions\n"
   ]
  },
  {
   "cell_type": "markdown",
   "metadata": {},
   "source": [
    "**Indexation et Slicing**\n",
    "\n",
    "L'indexation et le slicing permettent d'accéder aux éléments d'un tableau ou d'en extraire des sous-tableaux."
   ]
  },
  {
   "cell_type": "code",
   "execution_count": 278,
   "metadata": {},
   "outputs": [
    {
     "name": "stdout",
     "output_type": "stream",
     "text": [
      "2\n",
      "[2 5 8]\n",
      "[[4 5]\n",
      " [7 8]]\n"
     ]
    }
   ],
   "source": [
    "array = np.array([[1, 2, 3], [4, 5, 6], [7, 8, 9]])\n",
    "\n",
    "print(array[0, 1])    # Accès à l'élément de la première ligne, deuxième colonne\n",
    "print(array[:, 1])    # Extraction de la deuxième colonne\n",
    "print(array[1:, :2])  # Extraction d'un sous-tableau\n"
   ]
  },
  {
   "cell_type": "markdown",
   "metadata": {},
   "source": [
    "**Manipulation de la Forme**\n",
    "\n",
    "Il est possible de changer la forme (shape) d'un tableau sans modifier les données sous-jacentes."
   ]
  },
  {
   "cell_type": "code",
   "execution_count": 279,
   "metadata": {},
   "outputs": [
    {
     "name": "stdout",
     "output_type": "stream",
     "text": [
      "[[1 2]\n",
      " [3 4]\n",
      " [5 6]]\n",
      "[1 2 3 4 5 6]\n"
     ]
    }
   ],
   "source": [
    "array = np.array([[1, 2, 3], [4, 5, 6]])\n",
    "\n",
    "reshaped_array = array.reshape((3, 2))  # Reshape en 3x2\n",
    "flattened_array = array.flatten()       # Aplatissement en 1D\n",
    "\n",
    "print(reshaped_array)\n",
    "print(flattened_array)\n"
   ]
  },
  {
   "cell_type": "markdown",
   "metadata": {},
   "source": [
    "**Fusion et Division de Tableaux**\n",
    "\n",
    "NumPy permet de fusionner ou de diviser des tableaux en utilisant différentes fonctions de concatenation."
   ]
  },
  {
   "cell_type": "code",
   "execution_count": 280,
   "metadata": {},
   "outputs": [
    {
     "name": "stdout",
     "output_type": "stream",
     "text": [
      "[[1 2 5 6]\n",
      " [3 4 7 8]]\n",
      "[[1 2]\n",
      " [3 4]\n",
      " [5 6]\n",
      " [7 8]]\n",
      "[array([[1, 2],\n",
      "       [3, 4]]), array([[5, 6],\n",
      "       [7, 8]])]\n"
     ]
    }
   ],
   "source": [
    "array1 = np.array([[1, 2], [3, 4]])\n",
    "array2 = np.array([[5, 6], [7, 8]])\n",
    "\n",
    "# Concatenation horizontale et verticale\n",
    "concat_h = np.hstack((array1, array2))\n",
    "concat_v = np.vstack((array1, array2))\n",
    "\n",
    "print(concat_h)\n",
    "print(concat_v)\n",
    "\n",
    "# Division du tableau en sous-tableaux\n",
    "split_array = np.hsplit(concat_h, 2)\n",
    "print(split_array)\n"
   ]
  },
  {
   "cell_type": "markdown",
   "metadata": {},
   "source": [
    "## 2. Opérations Mathématiques et Statistiques\n",
    "NumPy offre des fonctions pour effectuer des opérations mathématiques élémentaires, de l'algèbre linéaire et des statistiques.\n",
    "\n",
    "**Opérations Élémentaires**\n",
    "\n",
    "Les opérations sur les tableaux NumPy sont élément par élément par défaut."
   ]
  },
  {
   "cell_type": "code",
   "execution_count": 281,
   "metadata": {},
   "outputs": [
    {
     "name": "stdout",
     "output_type": "stream",
     "text": [
      "[5 7 9]\n",
      "[ 4 10 18]\n"
     ]
    }
   ],
   "source": [
    "array1 = np.array([1, 2, 3])\n",
    "array2 = np.array([4, 5, 6])\n",
    "\n",
    "add_result = array1 + array2  # Addition\n",
    "mul_result = array1 * array2  # Multiplication\n",
    "\n",
    "print(add_result)\n",
    "print(mul_result)\n"
   ]
  },
  {
   "cell_type": "markdown",
   "metadata": {},
   "source": [
    "**Algèbre Linéaire**\n",
    "\n",
    "NumPy intègre des fonctions pour effectuer des opérations d'algèbre linéaire comme les produits matriciels."
   ]
  },
  {
   "cell_type": "code",
   "execution_count": 282,
   "metadata": {},
   "outputs": [
    {
     "name": "stdout",
     "output_type": "stream",
     "text": [
      "[[19 22]\n",
      " [43 50]]\n"
     ]
    }
   ],
   "source": [
    "A = np.array([[1, 2], [3, 4]])\n",
    "B = np.array([[5, 6], [7, 8]])\n",
    "\n",
    "dot_product = np.dot(A, B)  # Produit matriciel\n",
    "\n",
    "print(dot_product)\n"
   ]
  },
  {
   "cell_type": "markdown",
   "metadata": {},
   "source": [
    "**Statistiques Descriptives**\n",
    "\n",
    "NumPy propose des fonctions pour calculer des statistiques descriptives sur les tableaux."
   ]
  },
  {
   "cell_type": "code",
   "execution_count": 283,
   "metadata": {},
   "outputs": [
    {
     "name": "stdout",
     "output_type": "stream",
     "text": [
      "Mean: 5.5\n",
      "Median: 5.5\n",
      "Standard Deviation: 2.8722813232690143\n",
      "Variance: 8.25\n",
      "Quartiles: [3.25 5.5  7.75]\n"
     ]
    }
   ],
   "source": [
    "data = np.array([1, 2, 3, 4, 5, 6, 7, 8, 9, 10])\n",
    "\n",
    "mean = np.mean(data)          # Moyenne\n",
    "median = np.median(data)      # Médiane\n",
    "std_dev = np.std(data)        # Écart-type\n",
    "variance = np.var(data)       # Variance\n",
    "quartiles = np.percentile(data, [25, 50, 75])  # Quartiles\n",
    "\n",
    "print(\"Mean:\", mean)\n",
    "print(\"Median:\", median)\n",
    "print(\"Standard Deviation:\", std_dev)\n",
    "print(\"Variance:\", variance)\n",
    "print(\"Quartiles:\", quartiles)\n"
   ]
  },
  {
   "cell_type": "markdown",
   "metadata": {},
   "source": [
    "## 3. Manipulation des Données\n",
    "**Traitement des Données Manquantes**\n",
    "\n",
    "En science des données, il est fréquent de devoir traiter des valeurs manquantes dans un jeu de données."
   ]
  },
  {
   "cell_type": "code",
   "execution_count": 284,
   "metadata": {},
   "outputs": [
    {
     "name": "stdout",
     "output_type": "stream",
     "text": [
      "Données après remplissage: [1.   2.   3.25 4.   3.25 6.  ]\n"
     ]
    }
   ],
   "source": [
    "data = np.array([1, 2, np.nan, 4, np.nan, 6])\n",
    "\n",
    "nan_mask = np.isnan(data)\n",
    "filled_data = np.where(nan_mask, np.nanmean(data), data)  # Remplacement des NaN par la moyenne\n",
    "\n",
    "print(\"Données après remplissage:\", filled_data)\n"
   ]
  },
  {
   "cell_type": "markdown",
   "metadata": {},
   "source": [
    "**Génération de Données Aléatoires**\n",
    "\n",
    "NumPy permet de générer des données aléatoires, ce qui est essentiel pour la modélisation et la simulation."
   ]
  },
  {
   "cell_type": "code",
   "execution_count": 285,
   "metadata": {},
   "outputs": [
    {
     "name": "stdout",
     "output_type": "stream",
     "text": [
      "[[4 3 8]\n",
      " [1 8 8]]\n",
      "[[0.30855773 0.37719782 0.74566556]\n",
      " [0.54682062 0.656457   0.15707378]\n",
      " [0.84278834 0.52166932 0.31352583]]\n"
     ]
    }
   ],
   "source": [
    "random_integers = np.random.randint(1, 10, size=(2, 3))  # Entiers aléatoires entre 1 et 9\n",
    "random_floats = np.random.random((3, 3))                 # Flottants aléatoires entre 0 et 1\n",
    "normal_distribution = np.random.normal(0, 1, 1000)       # Distribution normale\n",
    "\n",
    "print(random_integers)\n",
    "print(random_floats)\n"
   ]
  },
  {
   "cell_type": "markdown",
   "metadata": {},
   "source": [
    "## 4. Applications Avancées en Science des Données\n",
    "**Manipulation de Données Multidimensionnelles**\n",
    "\n",
    "Pour les jeux de données multidimensionnels, la manipulation des axes est cruciale."
   ]
  },
  {
   "cell_type": "code",
   "execution_count": 286,
   "metadata": {},
   "outputs": [
    {
     "name": "stdout",
     "output_type": "stream",
     "text": [
      "Original array shape: (2, 3, 4)\n",
      "Transposed array shape: (3, 4, 2)\n"
     ]
    }
   ],
   "source": [
    "array = np.arange(24).reshape((2, 3, 4))  # Tableau 3D\n",
    "\n",
    "# Transposition des axes\n",
    "transposed_array = np.transpose(array, (1, 2, 0))\n",
    "\n",
    "print(\"Original array shape:\", array.shape)\n",
    "print(\"Transposed array shape:\", transposed_array.shape)\n"
   ]
  },
  {
   "cell_type": "markdown",
   "metadata": {},
   "source": [
    "## 5. Exercices Pratiques\n",
    "\n",
    "**Exercice 1 : Création et Manipulation de Tableaux**\n",
    "\n",
    "Créer et manipuler des tableaux NumPy de manière efficace.\n",
    "Énoncé :\n",
    "\n",
    "* Créez un tableau 1D de 20 éléments contenant des valeurs aléatoires entières entre 1 et 100.\n",
    "* Reshapez ce tableau en un tableau 2D de 4x5.\n",
    "* Extrayez la deuxième ligne et la troisième colonne du tableau 2D.\n",
    "* Multipliez chaque élément du tableau par 10.\n",
    "* Calculez la somme de tous les éléments du tableau."
   ]
  },
  {
   "cell_type": "code",
   "execution_count": 287,
   "metadata": {},
   "outputs": [
    {
     "name": "stdout",
     "output_type": "stream",
     "text": [
      "Tableau 1D : [ 8 32 91 17 10 68 70  2 68 65 90 40 86 32 24 89 16 56 33 24]\n",
      "Tableau 2D :\n",
      " [[ 8 32 91 17 10]\n",
      " [68 70  2 68 65]\n",
      " [90 40 86 32 24]\n",
      " [89 16 56 33 24]]\n",
      "Deuxième ligne : [68 70  2 68 65]\n",
      "Troisième colonne : [91  2 86 56]\n",
      "Tableau multiplié par 10 :\n",
      " [[ 80 320 910 170 100]\n",
      " [680 700  20 680 650]\n",
      " [900 400 860 320 240]\n",
      " [890 160 560 330 240]]\n",
      "Somme totale des éléments : 9210\n"
     ]
    }
   ],
   "source": [
    "import numpy as np\n",
    "\n",
    "# Étape 1 : Création du tableau 1D\n",
    "array_1d = np.random.randint(1, 101, size=20)\n",
    "print(\"Tableau 1D :\", array_1d)\n",
    "\n",
    "# Étape 2 : Reshape en tableau 2D de 4x5\n",
    "array_2d = array_1d.reshape(4, 5)\n",
    "print(\"Tableau 2D :\\n\", array_2d)\n",
    "\n",
    "# Étape 3 : Extraction de la deuxième ligne et troisième colonne\n",
    "second_row = array_2d[1, :]\n",
    "third_column = array_2d[:, 2]\n",
    "print(\"Deuxième ligne :\", second_row)\n",
    "print(\"Troisième colonne :\", third_column)\n",
    "\n",
    "# Étape 4 : Multiplication par 10\n",
    "multiplied_array = array_2d * 10\n",
    "print(\"Tableau multiplié par 10 :\\n\", multiplied_array)\n",
    "\n",
    "# Étape 5 : Somme de tous les éléments\n",
    "total_sum = np.sum(multiplied_array)\n",
    "print(\"Somme totale des éléments :\", total_sum)\n"
   ]
  },
  {
   "cell_type": "markdown",
   "metadata": {},
   "source": [
    "**Exercice 2 : Statistiques Descriptives**\n",
    "\n",
    "Calculer des statistiques descriptives simples à partir d'un tableau NumPy.\n",
    "Énoncé :\n",
    "\n",
    "* Créez un tableau 1D de 50 éléments contenant des valeurs aléatoires flottantes entre 0 et 1.\n",
    "* Calculez la moyenne, la médiane, et l'écart-type des valeurs du tableau.\n",
    "* Identifiez l'élément maximum et minimum dans le tableau.\n",
    "* Calculez les quartiles (Q1, Q2, Q3) du tableau."
   ]
  },
  {
   "cell_type": "code",
   "execution_count": 288,
   "metadata": {},
   "outputs": [
    {
     "name": "stdout",
     "output_type": "stream",
     "text": [
      "Données :\n",
      " [0.49261534 0.54395029 0.95742755 0.15687059 0.75001894 0.6644093\n",
      " 0.90125635 0.1750321  0.01766401 0.72857934 0.64427849 0.68277385\n",
      " 0.9747353  0.31604343 0.36379951 0.93465994 0.16826535 0.7408171\n",
      " 0.83193869 0.78997824 0.11987087 0.06167251 0.58798662 0.91349173\n",
      " 0.78866088 0.02607756 0.32883993 0.58322262 0.68712852 0.40546377\n",
      " 0.00280978 0.55867655 0.52029884 0.35661348 0.95929186 0.28759159\n",
      " 0.5580964  0.63440532 0.9713092  0.89463074 0.24624203 0.91237538\n",
      " 0.38502867 0.461408   0.75251837 0.96483997 0.2769434  0.04091381\n",
      " 0.92022354 0.91030678]\n",
      "Moyenne : 0.5590410485702513\n",
      "Médiane : 0.5856046182711425\n",
      "Écart-type : 0.3047566517141641\n",
      "Maximum : 0.9747353028566542\n",
      "Minimum : 0.0028097764220431642\n",
      "1er Quartile (Q1) : 0.31924255602859536\n",
      "2ème Quartile (Q2) : 0.5856046182711425\n",
      "3ème Quartile (Q3) : 0.821448575267923\n"
     ]
    }
   ],
   "source": [
    "import numpy as np\n",
    "\n",
    "# Étape 1 : Création du tableau 1D\n",
    "data = np.random.random(50)\n",
    "print(\"Données :\\n\", data)\n",
    "\n",
    "# Étape 2 : Calcul des statistiques descriptives\n",
    "mean_value = np.mean(data)\n",
    "median_value = np.median(data)\n",
    "std_dev_value = np.std(data)\n",
    "print(\"Moyenne :\", mean_value)\n",
    "print(\"Médiane :\", median_value)\n",
    "print(\"Écart-type :\", std_dev_value)\n",
    "\n",
    "# Étape 3 : Identification des éléments maximum et minimum\n",
    "max_value = np.max(data)\n",
    "min_value = np.min(data)\n",
    "print(\"Maximum :\", max_value)\n",
    "print(\"Minimum :\", min_value)\n",
    "\n",
    "# Étape 4 : Calcul des quartiles\n",
    "q1 = np.percentile(data, 25)\n",
    "q2 = np.percentile(data, 50)  # Q2 est la médiane\n",
    "q3 = np.percentile(data, 75)\n",
    "print(\"1er Quartile (Q1) :\", q1)\n",
    "print(\"2ème Quartile (Q2) :\", q2)\n",
    "print(\"3ème Quartile (Q3) :\", q3)\n"
   ]
  },
  {
   "cell_type": "markdown",
   "metadata": {},
   "source": [
    "**Exercice 3 : Manipulation de Données Multidimensionnelles**\n",
    "\n",
    "Travailler avec des tableaux multidimensionnels, en utilisant des opérations de slicing, reshaping, et de calcul sur les axes.\n",
    "Énoncé :\n",
    "\n",
    "* Créez un tableau 3D de taille 3x4x5 avec des valeurs aléatoires entières entre 1 et 50.\n",
    "* Accédez et imprimez le sous-tableau constitué des deux premières \"tranches\" du tableau original (axe 0).\n",
    "* Calculez la somme des éléments le long de l'axe 1 (pour chaque \"tranche\").\n",
    "* Reshapez le tableau en 2D tout en préservant l'ordre des éléments."
   ]
  },
  {
   "cell_type": "code",
   "execution_count": 289,
   "metadata": {},
   "outputs": [
    {
     "name": "stdout",
     "output_type": "stream",
     "text": [
      "Tableau 3D :\n",
      " [[[21 48  4 27 45]\n",
      "  [ 1 46 10 12 26]\n",
      "  [34 48 47 36 27]\n",
      "  [10  8 22 34 45]]\n",
      "\n",
      " [[43 29 33 38 42]\n",
      "  [36  6 37 15 46]\n",
      "  [37 38 49 28  5]\n",
      "  [17 50  6 36 33]]\n",
      "\n",
      " [[34 22 19 34 43]\n",
      "  [32 32  2 42 17]\n",
      "  [ 9  9 33 19 25]\n",
      "  [46 23 48 40 15]]]\n",
      "Sous-tableau (2 premières tranches) :\n",
      " [[[21 48  4 27 45]\n",
      "  [ 1 46 10 12 26]\n",
      "  [34 48 47 36 27]\n",
      "  [10  8 22 34 45]]\n",
      "\n",
      " [[43 29 33 38 42]\n",
      "  [36  6 37 15 46]\n",
      "  [37 38 49 28  5]\n",
      "  [17 50  6 36 33]]]\n",
      "Somme le long de l'axe 1 :\n",
      " [[ 66 150  83 109 143]\n",
      " [133 123 125 117 126]\n",
      " [121  86 102 135 100]]\n",
      "Tableau reshaped en 2D :\n",
      " [[21 48  4 27 45]\n",
      " [ 1 46 10 12 26]\n",
      " [34 48 47 36 27]\n",
      " [10  8 22 34 45]\n",
      " [43 29 33 38 42]\n",
      " [36  6 37 15 46]\n",
      " [37 38 49 28  5]\n",
      " [17 50  6 36 33]\n",
      " [34 22 19 34 43]\n",
      " [32 32  2 42 17]\n",
      " [ 9  9 33 19 25]\n",
      " [46 23 48 40 15]]\n"
     ]
    }
   ],
   "source": [
    "import numpy as np\n",
    "\n",
    "# Étape 1 : Création du tableau 3D\n",
    "array_3d = np.random.randint(1, 51, size=(3, 4, 5))\n",
    "print(\"Tableau 3D :\\n\", array_3d)\n",
    "\n",
    "# Étape 2 : Extraction du sous-tableau\n",
    "sub_array = array_3d[:2, :, :]\n",
    "print(\"Sous-tableau (2 premières tranches) :\\n\", sub_array)\n",
    "\n",
    "# Étape 3 : Somme le long de l'axe 1\n",
    "sum_along_axis1 = np.sum(array_3d, axis=1)\n",
    "print(\"Somme le long de l'axe 1 :\\n\", sum_along_axis1)\n",
    "\n",
    "# Étape 4 : Reshape en 2D\n",
    "reshaped_array_2d = array_3d.reshape(12, 5)\n",
    "print(\"Tableau reshaped en 2D :\\n\", reshaped_array_2d)\n"
   ]
  },
  {
   "cell_type": "markdown",
   "metadata": {},
   "source": [
    "**Exercice 4 : Génération de Données Synthétiques**\n",
    "\n",
    "Générer des données synthétiques pour des analyses ou des simulations.\n",
    "Énoncé :\n",
    "\n",
    "* Générez un tableau de 1000 valeurs suivant une distribution normale avec une moyenne de 0 et un écart-type de 1.\n",
    "* Créez un autre tableau de 1000 valeurs suivant une distribution uniforme entre -1 et 1.\n",
    "* Combinez ces deux tableaux en une seule matrice 2D de taille 1000x2.\n",
    "* Calculez la covariance entre les deux colonnes de la matrice."
   ]
  },
  {
   "cell_type": "code",
   "execution_count": 290,
   "metadata": {},
   "outputs": [
    {
     "name": "stdout",
     "output_type": "stream",
     "text": [
      "Matrice combinée :\n",
      " [[-1.8865517  -0.66211988]\n",
      " [ 0.03223021  0.30655096]\n",
      " [-0.43888618  0.35627818]\n",
      " ...\n",
      " [ 0.98445313  0.71011648]\n",
      " [ 0.63354531  0.72410609]\n",
      " [-1.29306908 -0.94398835]]\n",
      "Matrice de covariance :\n",
      " [[ 0.99259449 -0.00963987]\n",
      " [-0.00963987  0.34132758]]\n"
     ]
    }
   ],
   "source": [
    "import numpy as np\n",
    "\n",
    "# Étape 1 : Génération des données suivant une distribution normale\n",
    "normal_data = np.random.normal(0, 1, 1000)\n",
    "\n",
    "# Étape 2 : Génération des données suivant une distribution uniforme\n",
    "uniform_data = np.random.uniform(-1, 1, 1000)\n",
    "\n",
    "# Étape 3 : Combinaison des deux tableaux en une matrice 2D\n",
    "combined_data = np.column_stack((normal_data, uniform_data))\n",
    "print(\"Matrice combinée :\\n\", combined_data)\n",
    "\n",
    "# Étape 4 : Calcul de la covariance\n",
    "covariance_matrix = np.cov(combined_data, rowvar=False)\n",
    "print(\"Matrice de covariance :\\n\", covariance_matrix)\n"
   ]
  },
  {
   "cell_type": "markdown",
   "metadata": {},
   "source": [
    "**Exercice 5 : Opérations Avancées sur les Tableaux**\n",
    "\n",
    "Effectuer des opérations avancées comme la création de masques booléens et l'application de fonctions mathématiques.\n",
    "Énoncé :\n",
    "\n",
    "* Créez un tableau 1D de 20 valeurs aléatoires entières entre 10 et 50.\n",
    "* Utilisez un masque booléen pour extraire tous les éléments du tableau qui sont des multiples de 5.\n",
    "* Appliquez la fonction sinus (np.sin()) sur tous les éléments du tableau.\n",
    "* Calculez la somme de tous les éléments du tableau après application de la fonction sinus."
   ]
  },
  {
   "cell_type": "code",
   "execution_count": 291,
   "metadata": {},
   "outputs": [
    {
     "name": "stdout",
     "output_type": "stream",
     "text": [
      "Tableau 1D :\n",
      " [48 35 17 40 27 20 50 40 48 26 28 10 18 39 18 13 49 19 33 26]\n",
      "Multiples de 5 : [35 40 20 50 40 10]\n",
      "Tableau après application de sin :\n",
      " [-0.76825466 -0.42818267 -0.96139749  0.74511316  0.95637593  0.91294525\n",
      " -0.26237485  0.74511316 -0.76825466  0.76255845  0.27090579 -0.54402111\n",
      " -0.75098725  0.96379539 -0.75098725  0.42016704 -0.95375265  0.14987721\n",
      "  0.99991186  0.76255845]\n",
      "Somme après application de sin : 1.5011090873196868\n"
     ]
    }
   ],
   "source": [
    "import numpy as np\n",
    "\n",
    "# Étape 1 : Création du tableau 1D\n",
    "array = np.random.randint(10, 51, size=20)\n",
    "print(\"Tableau 1D :\\n\", array)\n",
    "\n",
    "# Étape 2 : Extraction des multiples de 5\n",
    "multiples_of_5 = array[array % 5 == 0]\n",
    "print(\"Multiples de 5 :\", multiples_of_5)\n",
    "\n",
    "# Étape 3 : Application de la fonction sinus\n",
    "sin_array = np.sin(array)\n",
    "print(\"Tableau après application de sin :\\n\", sin_array)\n",
    "\n",
    "# Étape 4 : Somme des éléments après application de sin\n",
    "sum_sin_array = np.sum(sin_array)\n",
    "print(\"Somme après application de sin :\", sum_sin_array)\n"
   ]
  }
 ],
 "metadata": {
  "kernelspec": {
   "display_name": "Python 3 (ipykernel)",
   "language": "python",
   "name": "python3"
  },
  "language_info": {
   "codemirror_mode": {
    "name": "ipython",
    "version": 3
   },
   "file_extension": ".py",
   "mimetype": "text/x-python",
   "name": "python",
   "nbconvert_exporter": "python",
   "pygments_lexer": "ipython3",
   "version": "3.11.5"
  }
 },
 "nbformat": 4,
 "nbformat_minor": 2
}
