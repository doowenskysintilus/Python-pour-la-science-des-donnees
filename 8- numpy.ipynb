{
 "cells": [
  {
   "cell_type": "markdown",
   "metadata": {},
   "source": [
    "## Introduction à NumPy\n",
    "NumPy est une bibliothèque de calcul numérique pour Python. NumPy permet de manipuler des tableaux multidimensionnels de manière efficace et offre une large gamme de fonctions mathématiques pour effectuer des opérations sur ces tableaux.\n",
    "\n",
    "**Pourquoi utiliser NumPy?**\n",
    "* **Performance :** NumPy est bien plus rapide que les listes Python natives pour les opérations mathématiques, grâce à sa gestion optimisée des tableaux en mémoire et à son implémentation en C.\n",
    "* **Fonctionnalités étendues :** Il offre un vaste ensemble d'opérations mathématiques, algébriques, statistiques, et logiques.\n",
    "* **Compatibilité :** NumPy est le fondement de nombreuses autres bibliothèques de machine learning et de traitement des données."
   ]
  },
  {
   "cell_type": "markdown",
   "metadata": {},
   "source": [
    "## 1. Création de Tableaux NumPy\n",
    "\n",
    "Vous pouvez créer des tableaux NumPy à partir de listes Python ou en utilisant des fonctions spécifiques pour générer des tableaux de manière plus contrôlée."
   ]
  },
  {
   "cell_type": "code",
   "execution_count": 271,
   "metadata": {},
   "outputs": [
    {
     "name": "stdout",
     "output_type": "stream",
     "text": [
      "Requirement already satisfied: numpy in c:\\users\\tilus\\anaconda3\\lib\\site-packages (1.24.3)\n",
      "Note: you may need to restart the kernel to use updated packages.\n"
     ]
    }
   ],
   "source": [
    "pip install numpy"
   ]
  },
  {
   "cell_type": "markdown",
   "metadata": {},
   "source": [
    "La fonction **alias.array()** est utilisée pour créer un tableau NumPy"
   ]
  },
  {
   "cell_type": "code",
   "execution_count": 272,
   "metadata": {},
   "outputs": [
    {
     "name": "stdout",
     "output_type": "stream",
     "text": [
      "[1 2 3 4 5]\n"
     ]
    }
   ],
   "source": [
    "import numpy as np\n",
    "\n",
    "# tableau à une dimension\n",
    "array_1d = np.array([1, 2, 3, 4, 5])\n",
    "print(array_1d)"
   ]
  },
  {
   "cell_type": "code",
   "execution_count": 273,
   "metadata": {},
   "outputs": [
    {
     "name": "stdout",
     "output_type": "stream",
     "text": [
      "[[1 2 3]\n",
      " [4 5 6]]\n"
     ]
    }
   ],
   "source": [
    "# Tableau à deux dimensions\n",
    "array_2d = np.array([[1, 2, 3], [4, 5, 6]])\n",
    "print(array_2d)"
   ]
  },
  {
   "cell_type": "markdown",
   "metadata": {},
   "source": [
    "La fonction **alias.zeros()** est utilisée pour créer un tableau NumPy rempli de zéros"
   ]
  },
  {
   "cell_type": "code",
   "execution_count": 274,
   "metadata": {},
   "outputs": [
    {
     "name": "stdout",
     "output_type": "stream",
     "text": [
      "[[0. 0. 0.]\n",
      " [0. 0. 0.]]\n"
     ]
    }
   ],
   "source": [
    "# Tableau 2x3 rempli de zéros\n",
    "zeros_array = np.zeros((2, 3))       \n",
    "print(zeros_array)"
   ]
  },
  {
   "cell_type": "markdown",
   "metadata": {},
   "source": [
    "La fonction **alias.ones()** est utilisée pour créer un tableau NumPy rempli de uns"
   ]
  },
  {
   "cell_type": "code",
   "execution_count": 275,
   "metadata": {},
   "outputs": [
    {
     "name": "stdout",
     "output_type": "stream",
     "text": [
      "[[1. 1. 1. 1.]\n",
      " [1. 1. 1. 1.]\n",
      " [1. 1. 1. 1.]]\n"
     ]
    }
   ],
   "source": [
    " # Tableau 3x4 rempli de uns\n",
    "ones_array = np.ones((3, 4))\n",
    "print(ones_array)"
   ]
  },
  {
   "cell_type": "markdown",
   "metadata": {},
   "source": [
    "La fonction **alias.random.random()** est utilisée pour créer un tableau NumPy contenant des valeurs aléatoire entre 0 et 1"
   ]
  },
  {
   "cell_type": "code",
   "execution_count": 276,
   "metadata": {},
   "outputs": [
    {
     "name": "stdout",
     "output_type": "stream",
     "text": [
      "[[0.34492472 0.01851647]\n",
      " [0.23927557 0.2320051 ]]\n"
     ]
    }
   ],
   "source": [
    "# Tableau 2x2 avec des valeurs aléatoires entre 0 et 1\n",
    "random_array = np.random.random((2, 2))\n",
    "print(random_array)"
   ]
  },
  {
   "cell_type": "markdown",
   "metadata": {},
   "source": [
    "**Propriétés des Tableaux NumPy**\n",
    "\n",
    "Un tableau NumPy possède plusieurs propriétés importantes :"
   ]
  },
  {
   "cell_type": "code",
   "execution_count": 277,
   "metadata": {},
   "outputs": [
    {
     "name": "stdout",
     "output_type": "stream",
     "text": [
      "Shape: (2, 3)\n",
      "Size: 6\n",
      "Data type: int32\n",
      "Number of dimensions: 2\n"
     ]
    }
   ],
   "source": [
    "array = np.array([[1, 2, 3], [4, 5, 6]])\n",
    "\n",
    "print(\"Shape:\", array.shape)        # Dimensions du tableau\n",
    "print(\"Size:\", array.size)          # Nombre total d'éléments\n",
    "print(\"Data type:\", array.dtype)    # Type des éléments\n",
    "print(\"Number of dimensions:\", array.ndim)  # Nombre de dimensions\n"
   ]
  },
  {
   "cell_type": "markdown",
   "metadata": {},
   "source": [
    "**Indexation et Slicing**\n",
    "\n",
    "L'indexation et le slicing permettent d'accéder aux éléments d'un tableau ou d'en extraire des sous-tableaux."
   ]
  },
  {
   "cell_type": "code",
   "execution_count": 278,
   "metadata": {},
   "outputs": [
    {
     "name": "stdout",
     "output_type": "stream",
     "text": [
      "2\n",
      "[2 5 8]\n",
      "[[4 5]\n",
      " [7 8]]\n"
     ]
    }
   ],
   "source": [
    "array = np.array([[1, 2, 3], [4, 5, 6], [7, 8, 9]])\n",
    "\n",
    "print(array[0, 1])    # Accès à l'élément de la première ligne, deuxième colonne\n",
    "print(array[:, 1])    # Extraction de la deuxième colonne\n",
    "print(array[1:, :2])  # Extraction d'un sous-tableau\n"
   ]
  },
  {
   "cell_type": "markdown",
   "metadata": {},
   "source": [
    "**Manipulation de la Forme**\n",
    "\n",
    "Il est possible de changer la forme (shape) d'un tableau sans modifier les données sous-jacentes."
   ]
  },
  {
   "cell_type": "code",
   "execution_count": 279,
   "metadata": {},
   "outputs": [
    {
     "name": "stdout",
     "output_type": "stream",
     "text": [
      "[[1 2]\n",
      " [3 4]\n",
      " [5 6]]\n",
      "[1 2 3 4 5 6]\n"
     ]
    }
   ],
   "source": [
    "array = np.array([[1, 2, 3], [4, 5, 6]])\n",
    "\n",
    "reshaped_array = array.reshape((3, 2))  # Reshape en 3x2\n",
    "flattened_array = array.flatten()       # Aplatissement en 1D\n",
    "\n",
    "print(reshaped_array)\n",
    "print(flattened_array)\n"
   ]
  },
  {
   "cell_type": "markdown",
   "metadata": {},
   "source": [
    "**Fusion et Division de Tableaux**\n",
    "\n",
    "NumPy permet de fusionner ou de diviser des tableaux en utilisant différentes fonctions de concatenation."
   ]
  },
  {
   "cell_type": "code",
   "execution_count": 295,
   "metadata": {},
   "outputs": [
    {
     "name": "stdout",
     "output_type": "stream",
     "text": [
      "[[1 2 5 6]\n",
      " [3 4 7 8]]\n"
     ]
    }
   ],
   "source": [
    "array1 = np.array([[1, 2], [3, 4]])\n",
    "array2 = np.array([[5, 6], [7, 8]])\n",
    "\n",
    "# Concatenation horizontale\n",
    "concat_h = np.hstack((array1, array2))\n",
    "print(concat_h)"
   ]
  },
  {
   "cell_type": "code",
   "execution_count": 296,
   "metadata": {},
   "outputs": [
    {
     "name": "stdout",
     "output_type": "stream",
     "text": [
      "[[1 2]\n",
      " [3 4]\n",
      " [5 6]\n",
      " [7 8]]\n"
     ]
    }
   ],
   "source": [
    "# Concatenation verticale\n",
    "concat_v = np.vstack((array1, array2))\n",
    "print(concat_v)"
   ]
  },
  {
   "cell_type": "code",
   "execution_count": 297,
   "metadata": {},
   "outputs": [
    {
     "name": "stdout",
     "output_type": "stream",
     "text": [
      "[array([[1, 2],\n",
      "       [3, 4]]), array([[5, 6],\n",
      "       [7, 8]])]\n"
     ]
    }
   ],
   "source": [
    "# Division du tableau en sous-tableaux\n",
    "split_array = np.hsplit(concat_h, 2)\n",
    "print(split_array)"
   ]
  },
  {
   "cell_type": "markdown",
   "metadata": {},
   "source": [
    "## 2. Opérations Mathématiques et Statistiques\n",
    "NumPy offre des fonctions pour effectuer des opérations mathématiques élémentaires, de l'algèbre linéaire et des statistiques.\n",
    "\n",
    "**Opérations Élémentaires**\n",
    "\n",
    "Les opérations sur les tableaux NumPy sont élément par élément par défaut."
   ]
  },
  {
   "cell_type": "code",
   "execution_count": 298,
   "metadata": {},
   "outputs": [
    {
     "name": "stdout",
     "output_type": "stream",
     "text": [
      "[5 7 9]\n"
     ]
    }
   ],
   "source": [
    "array1 = np.array([1, 2, 3])\n",
    "array2 = np.array([4, 5, 6])\n",
    "\n",
    "add_result = array1 + array2  # Addition\n",
    "print(add_result)"
   ]
  },
  {
   "cell_type": "code",
   "execution_count": 299,
   "metadata": {},
   "outputs": [
    {
     "name": "stdout",
     "output_type": "stream",
     "text": [
      "[ 4 10 18]\n"
     ]
    }
   ],
   "source": [
    "mul_result = array1 * array2  # Multiplication\n",
    "print(mul_result)"
   ]
  },
  {
   "cell_type": "markdown",
   "metadata": {},
   "source": [
    "**Algèbre Linéaire**\n",
    "\n",
    "NumPy intègre des fonctions pour effectuer des opérations d'algèbre linéaire comme les produits matriciels."
   ]
  },
  {
   "cell_type": "code",
   "execution_count": 300,
   "metadata": {},
   "outputs": [
    {
     "name": "stdout",
     "output_type": "stream",
     "text": [
      "[[19 22]\n",
      " [43 50]]\n"
     ]
    }
   ],
   "source": [
    "A = np.array([[1, 2], [3, 4]])\n",
    "B = np.array([[5, 6], [7, 8]])\n",
    "\n",
    "# La fonction dot permet de faire le produit matriciel\n",
    "dot_product = np.dot(A, B)  # Produit matriciel\n",
    "print(dot_product)"
   ]
  },
  {
   "cell_type": "markdown",
   "metadata": {},
   "source": [
    "**Statistiques Descriptives**\n",
    "\n",
    "NumPy propose des fonctions pour calculer des statistiques descriptives sur les tableaux."
   ]
  },
  {
   "cell_type": "code",
   "execution_count": 283,
   "metadata": {},
   "outputs": [
    {
     "name": "stdout",
     "output_type": "stream",
     "text": [
      "Mean: 5.5\n",
      "Median: 5.5\n",
      "Standard Deviation: 2.8722813232690143\n",
      "Variance: 8.25\n",
      "Quartiles: [3.25 5.5  7.75]\n"
     ]
    }
   ],
   "source": [
    "data = np.array([1, 2, 3, 4, 5, 6, 7, 8, 9, 10])\n",
    "\n",
    "mean = np.mean(data)          # Moyenne\n",
    "median = np.median(data)      # Médiane\n",
    "std_dev = np.std(data)        # Écart-type\n",
    "variance = np.var(data)       # Variance\n",
    "quartiles = np.percentile(data, [25, 50, 75])  # Quartiles\n",
    "\n",
    "print(\"Mean:\", mean)\n",
    "print(\"Median:\", median)\n",
    "print(\"Standard Deviation:\", std_dev)\n",
    "print(\"Variance:\", variance)\n",
    "print(\"Quartiles:\", quartiles)\n"
   ]
  },
  {
   "cell_type": "markdown",
   "metadata": {},
   "source": [
    "## 3. Manipulation des Données\n",
    "**Traitement des Données Manquantes**\n",
    "\n",
    "En science des données, il est fréquent de devoir traiter des valeurs manquantes dans un jeu de données."
   ]
  },
  {
   "cell_type": "code",
   "execution_count": 303,
   "metadata": {},
   "outputs": [
    {
     "name": "stdout",
     "output_type": "stream",
     "text": [
      "Données avant remplissage: [ 1.  2. nan  4. nan  6.]\n",
      "Données après remplissage: [1.   2.   3.25 4.   3.25 6.  ]\n"
     ]
    }
   ],
   "source": [
    "data = np.array([1, 2, np.nan, 4, np.nan, 6])\n",
    "\n",
    "nan_mask = np.isnan(data)\n",
    "filled_data = np.where(nan_mask, np.nanmean(data), data)  # Remplacement des NaN par la moyenne\n",
    "\n",
    "print(\"Données avant remplissage:\", data)\n",
    "print(\"Données après remplissage:\", filled_data)"
   ]
  },
  {
   "cell_type": "markdown",
   "metadata": {},
   "source": [
    "**Génération de Données Aléatoires**\n",
    "\n",
    "NumPy permet de générer des données aléatoires, ce qui est essentiel pour la modélisation et la simulation."
   ]
  },
  {
   "cell_type": "code",
   "execution_count": 306,
   "metadata": {},
   "outputs": [
    {
     "name": "stdout",
     "output_type": "stream",
     "text": [
      "[[5 8 5]\n",
      " [9 9 2]]\n"
     ]
    }
   ],
   "source": [
    "random_integers = np.random.randint(1, 10, size=(2, 3))  # Entiers aléatoires entre 1 et 9\n",
    "print(random_integers)"
   ]
  },
  {
   "cell_type": "code",
   "execution_count": 307,
   "metadata": {},
   "outputs": [
    {
     "name": "stdout",
     "output_type": "stream",
     "text": [
      "[[0.97178586 0.27001635 0.97088395]\n",
      " [0.72630274 0.70229408 0.05597308]\n",
      " [0.5200717  0.07846989 0.37073914]]\n"
     ]
    }
   ],
   "source": [
    "random_floats = np.random.random((3, 3))                 # Flottants aléatoires entre 0 et 1\n",
    "print(random_floats)"
   ]
  },
  {
   "cell_type": "code",
   "execution_count": 309,
   "metadata": {},
   "outputs": [
    {
     "name": "stdout",
     "output_type": "stream",
     "text": [
      "[ 0.60525215  0.38907137 -0.33792437  0.93723438  1.44315835  0.15258538\n",
      " -0.05107028 -0.78377719 -1.00204305  0.413223  ]\n"
     ]
    }
   ],
   "source": [
    "normal_distribution = np.random.normal(0, 1, 10)       # Distribution normale\n",
    "print(normal_distribution)"
   ]
  },
  {
   "cell_type": "markdown",
   "metadata": {},
   "source": [
    "## 4. Applications Avancées en Science des Données\n",
    "**Manipulation de Données Multidimensionnelles**\n",
    "\n",
    "Pour les jeux de données multidimensionnels, la manipulation des axes est cruciale."
   ]
  },
  {
   "cell_type": "code",
   "execution_count": 315,
   "metadata": {},
   "outputs": [
    {
     "name": "stdout",
     "output_type": "stream",
     "text": [
      "Original array shape: (2, 3, 4)\n",
      "Transposed array shape 1: (4, 3, 2)\n",
      "Transposed array shape 2: (3, 4, 2)\n"
     ]
    }
   ],
   "source": [
    "array = np.arange(24).reshape((2, 3, 4))  # Tableau 3D\n",
    "\n",
    "# Transposition des axes\n",
    "transposed_array1 = np.transpose(array)\n",
    "\n",
    "transposed_array2 = np.transpose(array, (1, 2, 0))\n",
    "\n",
    "\n",
    "print(\"Original array shape:\", array.shape)\n",
    "print(\"Transposed array shape 1:\", transposed_array1.shape)\n",
    "print(\"Transposed array shape 2:\", transposed_array2.shape)"
   ]
  },
  {
   "cell_type": "markdown",
   "metadata": {},
   "source": [
    "## 5. Exercices Pratiques\n",
    "\n",
    "**Exercice 1 : Création et Manipulation de Tableaux**\n",
    "\n",
    "Créer et manipuler des tableaux NumPy de manière efficace.\n",
    "Énoncé :\n",
    "\n",
    "* Créez un tableau 1D de 20 éléments contenant des valeurs aléatoires entières entre 1 et 100.\n",
    "* Reshapez ce tableau en un tableau 2D de 4x5.\n",
    "* Extrayez la deuxième ligne et la troisième colonne du tableau 2D.\n",
    "* Multipliez chaque élément du tableau par 10.\n",
    "* Calculez la somme de tous les éléments du tableau."
   ]
  },
  {
   "cell_type": "code",
   "execution_count": 316,
   "metadata": {},
   "outputs": [
    {
     "name": "stdout",
     "output_type": "stream",
     "text": [
      "Tableau 1D : [51 29 12 20 87 22 72  5  9 50 85 20 46 70 51 16 71 78 47  9]\n"
     ]
    }
   ],
   "source": [
    "import numpy as np\n",
    "\n",
    "# Étape 1 : Création du tableau 1D\n",
    "array_1d = np.random.randint(1, 101, size=20)\n",
    "print(\"Tableau 1D :\", array_1d)"
   ]
  },
  {
   "cell_type": "code",
   "execution_count": 317,
   "metadata": {},
   "outputs": [
    {
     "name": "stdout",
     "output_type": "stream",
     "text": [
      "Tableau 2D :\n",
      " [[51 29 12 20 87]\n",
      " [22 72  5  9 50]\n",
      " [85 20 46 70 51]\n",
      " [16 71 78 47  9]]\n"
     ]
    }
   ],
   "source": [
    "# Étape 2 : Reshape en tableau 2D de 4x5\n",
    "array_2d = array_1d.reshape(4, 5)\n",
    "print(\"Tableau 2D :\\n\", array_2d)"
   ]
  },
  {
   "cell_type": "code",
   "execution_count": 318,
   "metadata": {},
   "outputs": [
    {
     "name": "stdout",
     "output_type": "stream",
     "text": [
      "Deuxième ligne : [22 72  5  9 50]\n",
      "Troisième colonne : [12  5 46 78]\n"
     ]
    }
   ],
   "source": [
    "# Étape 3 : Extraction de la deuxième ligne et troisième colonne\n",
    "second_row = array_2d[1, :]\n",
    "third_column = array_2d[:, 2]\n",
    "print(\"Deuxième ligne :\", second_row)\n",
    "print(\"Troisième colonne :\", third_column)"
   ]
  },
  {
   "cell_type": "code",
   "execution_count": 319,
   "metadata": {},
   "outputs": [
    {
     "name": "stdout",
     "output_type": "stream",
     "text": [
      "Tableau multiplié par 10 :\n",
      " [[510 290 120 200 870]\n",
      " [220 720  50  90 500]\n",
      " [850 200 460 700 510]\n",
      " [160 710 780 470  90]]\n"
     ]
    }
   ],
   "source": [
    "# Étape 4 : Multiplication par 10\n",
    "multiplied_array = array_2d * 10\n",
    "print(\"Tableau multiplié par 10 :\\n\", multiplied_array)"
   ]
  },
  {
   "cell_type": "code",
   "execution_count": 320,
   "metadata": {},
   "outputs": [
    {
     "name": "stdout",
     "output_type": "stream",
     "text": [
      "Somme totale des éléments : 8500\n"
     ]
    }
   ],
   "source": [
    "# Étape 5 : Somme de tous les éléments\n",
    "total_sum = np.sum(multiplied_array)\n",
    "print(\"Somme totale des éléments :\", total_sum)"
   ]
  },
  {
   "cell_type": "markdown",
   "metadata": {},
   "source": [
    "**Exercice 2 : Statistiques Descriptives**\n",
    "\n",
    "Calculer des statistiques descriptives simples à partir d'un tableau NumPy.\n",
    "Énoncé :\n",
    "\n",
    "* Créez un tableau 1D de 50 éléments contenant des valeurs aléatoires flottantes entre 0 et 1.\n",
    "* Calculez la moyenne, la médiane, et l'écart-type des valeurs du tableau.\n",
    "* Identifiez l'élément maximum et minimum dans le tableau.\n",
    "* Calculez les quartiles (Q1, Q2, Q3) du tableau."
   ]
  },
  {
   "cell_type": "code",
   "execution_count": 321,
   "metadata": {},
   "outputs": [
    {
     "name": "stdout",
     "output_type": "stream",
     "text": [
      "Données :\n",
      " [0.9379817  0.36197065 0.91845554 0.86056814 0.85602111 0.67355654\n",
      " 0.83172407 0.55182808 0.12979183 0.49218439 0.76263699 0.49580186\n",
      " 0.17541321 0.28413728 0.05083366 0.1208654  0.38788876 0.04047075\n",
      " 0.94057927 0.88502152 0.44127844 0.49003836 0.75102594 0.43768994\n",
      " 0.5071933  0.4530313  0.11817836 0.3391772  0.19330129 0.14537148\n",
      " 0.83923579 0.34455065 0.5597985  0.01982841 0.38743691 0.97756988\n",
      " 0.42390686 0.51642605 0.51534408 0.26633318 0.84962905 0.28926186\n",
      " 0.95115876 0.55388588 0.92800969 0.88720342 0.13724852 0.51798337\n",
      " 0.42418869 0.35255676]\n"
     ]
    }
   ],
   "source": [
    "import numpy as np\n",
    "\n",
    "# Étape 1 : Création du tableau 1D\n",
    "data = np.random.random(50)\n",
    "print(\"Données :\\n\", data)"
   ]
  },
  {
   "cell_type": "code",
   "execution_count": 322,
   "metadata": {},
   "outputs": [
    {
     "name": "stdout",
     "output_type": "stream",
     "text": [
      "Moyenne : 0.5075114540358358\n",
      "Médiane : 0.4911113715324666\n",
      "Écart-type : 0.2848592474286731\n"
     ]
    }
   ],
   "source": [
    "# Étape 2 : Calcul des statistiques descriptives\n",
    "mean_value = np.mean(data)\n",
    "median_value = np.median(data)\n",
    "std_dev_value = np.std(data)\n",
    "print(\"Moyenne :\", mean_value)\n",
    "print(\"Médiane :\", median_value)\n",
    "print(\"Écart-type :\", std_dev_value)"
   ]
  },
  {
   "cell_type": "code",
   "execution_count": null,
   "metadata": {},
   "outputs": [],
   "source": [
    "# Étape 3 : Identification des éléments maximum et minimum\n",
    "max_value = np.max(data)\n",
    "min_value = np.min(data)\n",
    "print(\"Maximum :\", max_value)\n",
    "print(\"Minimum :\", min_value)"
   ]
  },
  {
   "cell_type": "code",
   "execution_count": null,
   "metadata": {},
   "outputs": [],
   "source": [
    "# Étape 4 : Calcul des quartiles\n",
    "q1 = np.percentile(data, 25)\n",
    "q2 = np.percentile(data, 50)  # Q2 est la médiane\n",
    "q3 = np.percentile(data, 75)\n",
    "print(\"1er Quartile (Q1) :\", q1)\n",
    "print(\"2ème Quartile (Q2) :\", q2)\n",
    "print(\"3ème Quartile (Q3) :\", q3)"
   ]
  },
  {
   "cell_type": "markdown",
   "metadata": {},
   "source": [
    "**Exercice 3 : Manipulation de Données Multidimensionnelles**\n",
    "\n",
    "Travailler avec des tableaux multidimensionnels, en utilisant des opérations de slicing, reshaping, et de calcul sur les axes.\n",
    "Énoncé :\n",
    "\n",
    "* Créez un tableau 3D de taille 3x4x5 avec des valeurs aléatoires entières entre 1 et 50.\n",
    "* Accédez et imprimez le sous-tableau constitué des deux premières \"tranches\" du tableau original (axe 0).\n",
    "* Calculez la somme des éléments le long de l'axe 1 (pour chaque \"tranche\").\n",
    "* Reshapez le tableau en 2D tout en préservant l'ordre des éléments."
   ]
  },
  {
   "cell_type": "code",
   "execution_count": 323,
   "metadata": {},
   "outputs": [
    {
     "name": "stdout",
     "output_type": "stream",
     "text": [
      "Tableau 3D :\n",
      " [[[35 11 29 27 26]\n",
      "  [ 7  1 39 31 22]\n",
      "  [33 44 12 46 40]\n",
      "  [32 13  5 18 30]]\n",
      "\n",
      " [[30  9 43 11 40]\n",
      "  [34 32 30 49  9]\n",
      "  [28 25 38 44 34]\n",
      "  [ 2 46 13  4 43]]\n",
      "\n",
      " [[38 10  1 32 14]\n",
      "  [23 42 29 19 32]\n",
      "  [21 34  9 22 39]\n",
      "  [ 7  1 42 29 43]]]\n"
     ]
    }
   ],
   "source": [
    "import numpy as np\n",
    "\n",
    "# Étape 1 : Création du tableau 3D\n",
    "array_3d = np.random.randint(1, 51, size=(3, 4, 5))\n",
    "print(\"Tableau 3D :\\n\", array_3d)"
   ]
  },
  {
   "cell_type": "code",
   "execution_count": 324,
   "metadata": {},
   "outputs": [
    {
     "name": "stdout",
     "output_type": "stream",
     "text": [
      "Sous-tableau (2 premières tranches) :\n",
      " [[[35 11 29 27 26]\n",
      "  [ 7  1 39 31 22]\n",
      "  [33 44 12 46 40]\n",
      "  [32 13  5 18 30]]\n",
      "\n",
      " [[30  9 43 11 40]\n",
      "  [34 32 30 49  9]\n",
      "  [28 25 38 44 34]\n",
      "  [ 2 46 13  4 43]]]\n"
     ]
    }
   ],
   "source": [
    "# Étape 2 : Extraction du sous-tableau\n",
    "sub_array = array_3d[:2, :, :]\n",
    "print(\"Sous-tableau (2 premières tranches) :\\n\", sub_array)"
   ]
  },
  {
   "cell_type": "code",
   "execution_count": 325,
   "metadata": {},
   "outputs": [
    {
     "name": "stdout",
     "output_type": "stream",
     "text": [
      "Somme le long de l'axe 1 :\n",
      " [[107  69  85 122 118]\n",
      " [ 94 112 124 108 126]\n",
      " [ 89  87  81 102 128]]\n"
     ]
    }
   ],
   "source": [
    "# Étape 3 : Somme le long de l'axe 1\n",
    "sum_along_axis1 = np.sum(array_3d, axis=1)\n",
    "print(\"Somme le long de l'axe 1 :\\n\", sum_along_axis1)"
   ]
  },
  {
   "cell_type": "code",
   "execution_count": 326,
   "metadata": {},
   "outputs": [
    {
     "name": "stdout",
     "output_type": "stream",
     "text": [
      "Tableau reshaped en 2D :\n",
      " [[35 11 29 27 26]\n",
      " [ 7  1 39 31 22]\n",
      " [33 44 12 46 40]\n",
      " [32 13  5 18 30]\n",
      " [30  9 43 11 40]\n",
      " [34 32 30 49  9]\n",
      " [28 25 38 44 34]\n",
      " [ 2 46 13  4 43]\n",
      " [38 10  1 32 14]\n",
      " [23 42 29 19 32]\n",
      " [21 34  9 22 39]\n",
      " [ 7  1 42 29 43]]\n"
     ]
    }
   ],
   "source": [
    "# Étape 4 : Reshape en 2D\n",
    "reshaped_array_2d = array_3d.reshape(12, 5)\n",
    "print(\"Tableau reshaped en 2D :\\n\", reshaped_array_2d)"
   ]
  },
  {
   "cell_type": "markdown",
   "metadata": {},
   "source": [
    "**Exercice 4 : Génération de Données Synthétiques**\n",
    "\n",
    "Générer des données synthétiques pour des analyses ou des simulations.\n",
    "Énoncé :\n",
    "\n",
    "* Générez un tableau de 1000 valeurs suivant une distribution normale avec une moyenne de 0 et un écart-type de 1.\n",
    "* Créez un autre tableau de 1000 valeurs suivant une distribution uniforme entre -1 et 1.\n",
    "* Combinez ces deux tableaux en une seule matrice 2D de taille 1000x2.\n",
    "* Calculez la covariance entre les deux colonnes de la matrice."
   ]
  },
  {
   "cell_type": "code",
   "execution_count": 327,
   "metadata": {},
   "outputs": [],
   "source": [
    "import numpy as np\n",
    "\n",
    "# Étape 1 : Génération des données suivant une distribution normale\n",
    "normal_data = np.random.normal(0, 1, 1000)"
   ]
  },
  {
   "cell_type": "code",
   "execution_count": 328,
   "metadata": {},
   "outputs": [],
   "source": [
    "# Étape 2 : Génération des données suivant une distribution uniforme\n",
    "uniform_data = np.random.uniform(-1, 1, 1000)"
   ]
  },
  {
   "cell_type": "code",
   "execution_count": 329,
   "metadata": {},
   "outputs": [
    {
     "name": "stdout",
     "output_type": "stream",
     "text": [
      "Matrice combinée :\n",
      " [[ 2.02428506  0.00357882]\n",
      " [ 0.09699588  0.91219585]\n",
      " [ 0.35668533 -0.71042537]\n",
      " ...\n",
      " [-0.51451461  0.06843799]\n",
      " [-0.01269637  0.66114447]\n",
      " [-0.08670875 -0.92750201]]\n"
     ]
    }
   ],
   "source": [
    "# Étape 3 : Combinaison des deux tableaux en une matrice 2D\n",
    "combined_data = np.column_stack((normal_data, uniform_data))\n",
    "print(\"Matrice combinée :\\n\", combined_data)"
   ]
  },
  {
   "cell_type": "code",
   "execution_count": 330,
   "metadata": {},
   "outputs": [
    {
     "name": "stdout",
     "output_type": "stream",
     "text": [
      "Matrice de covariance :\n",
      " [[ 0.93114868 -0.01664916]\n",
      " [-0.01664916  0.34303043]]\n"
     ]
    }
   ],
   "source": [
    "# Étape 4 : Calcul de la covariance\n",
    "covariance_matrix = np.cov(combined_data, rowvar=False)\n",
    "print(\"Matrice de covariance :\\n\", covariance_matrix)"
   ]
  },
  {
   "cell_type": "markdown",
   "metadata": {},
   "source": [
    "**Exercice 5 : Opérations Avancées sur les Tableaux**\n",
    "\n",
    "Effectuer des opérations avancées comme la création de masques booléens et l'application de fonctions mathématiques.\n",
    "Énoncé :\n",
    "\n",
    "* Créez un tableau 1D de 20 valeurs aléatoires entières entre 10 et 50.\n",
    "* Utilisez un masque booléen pour extraire tous les éléments du tableau qui sont des multiples de 5.\n",
    "* Appliquez la fonction sinus (np.sin()) sur tous les éléments du tableau.\n",
    "* Calculez la somme de tous les éléments du tableau après application de la fonction sinus."
   ]
  },
  {
   "cell_type": "code",
   "execution_count": 331,
   "metadata": {},
   "outputs": [
    {
     "name": "stdout",
     "output_type": "stream",
     "text": [
      "Tableau 1D :\n",
      " [10 35 30 11 34 46 21 25 20 41 45 42 47 23 30 44 42 19 28 48]\n"
     ]
    }
   ],
   "source": [
    "import numpy as np\n",
    "\n",
    "# Étape 1 : Création du tableau 1D\n",
    "array = np.random.randint(10, 51, size=20)\n",
    "print(\"Tableau 1D :\\n\", array)"
   ]
  },
  {
   "cell_type": "code",
   "execution_count": 332,
   "metadata": {},
   "outputs": [
    {
     "name": "stdout",
     "output_type": "stream",
     "text": [
      "Multiples de 5 : [10 35 30 25 20 45 30]\n"
     ]
    }
   ],
   "source": [
    "# Étape 2 : Extraction des multiples de 5\n",
    "multiples_of_5 = array[array % 5 == 0]\n",
    "print(\"Multiples de 5 :\", multiples_of_5)"
   ]
  },
  {
   "cell_type": "code",
   "execution_count": 333,
   "metadata": {},
   "outputs": [
    {
     "name": "stdout",
     "output_type": "stream",
     "text": [
      "Tableau après application de sin :\n",
      " [-0.54402111 -0.42818267 -0.98803162 -0.99999021  0.52908269  0.90178835\n",
      "  0.83665564 -0.13235175  0.91294525 -0.15862267  0.85090352 -0.91652155\n",
      "  0.12357312 -0.8462204  -0.98803162  0.01770193 -0.91652155  0.14987721\n",
      "  0.27090579 -0.76825466]\n"
     ]
    }
   ],
   "source": [
    "# Étape 3 : Application de la fonction sinus\n",
    "sin_array = np.sin(array)\n",
    "print(\"Tableau après application de sin :\\n\", sin_array)"
   ]
  },
  {
   "cell_type": "code",
   "execution_count": 334,
   "metadata": {},
   "outputs": [
    {
     "name": "stdout",
     "output_type": "stream",
     "text": [
      "Somme après application de sin : -3.0933163219664404\n"
     ]
    }
   ],
   "source": [
    "# Étape 4 : Somme des éléments après application de sin\n",
    "sum_sin_array = np.sum(sin_array)\n",
    "print(\"Somme après application de sin :\", sum_sin_array)"
   ]
  }
 ],
 "metadata": {
  "kernelspec": {
   "display_name": "Python 3 (ipykernel)",
   "language": "python",
   "name": "python3"
  },
  "language_info": {
   "codemirror_mode": {
    "name": "ipython",
    "version": 3
   },
   "file_extension": ".py",
   "mimetype": "text/x-python",
   "name": "python",
   "nbconvert_exporter": "python",
   "pygments_lexer": "ipython3",
   "version": "3.11.5"
  }
 },
 "nbformat": 4,
 "nbformat_minor": 2
}
