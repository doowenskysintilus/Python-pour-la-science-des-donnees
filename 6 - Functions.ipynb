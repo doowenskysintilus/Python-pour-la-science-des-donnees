{
  "cells": [
    {
      "cell_type": "markdown",
      "metadata": {
        "colab_type": "text",
        "id": "pLJYfhleZRqo"
      },
      "source": [
        "## 2. Fonctions\n",
        "les fonctions sont des blocs de code réutilisables qui effectuent une tâche spécifique. Elles permettent d'organiser, de structurer, et de réutiliser le code efficacement. Voici une vue d'ensemble des concepts et des fonctionnalités liés aux fonctions en Python :\n",
        "\n",
        "**Définition et Utilisation des Fonctions**\n",
        "\n",
        "1. **Définition d'une Fonction :**\n",
        "Une fonction est définie à l'aide du mot-clé **def**, suivi du nom de la fonction, de parenthèses et de deux points. Le corps de la fonction est ensuite indenté."
      ]
    },
    {
      "cell_type": "code",
      "execution_count": 213,
      "metadata": {
        "colab": {
          "base_uri": "https://localhost:8080/",
          "height": 34
        },
        "colab_type": "code",
        "id": "n15GdMX1ZdjW",
        "outputId": "f36347e2-6c28-42e5-d416-9b3799b09fde"
      },
      "outputs": [],
      "source": [
        "##def addition(a, b):\n",
        "  ##  return a + b\n",
        "\n",
        "def ma_fonction():\n",
        "    print(\"Ma première fonction\")"
      ]
    },
    {
      "cell_type": "markdown",
      "metadata": {
        "colab_type": "text",
        "id": "YjgH-JfFajmb"
      },
      "source": [
        "2. **Appel d'une Fonction :**\n",
        "Pour utiliser une fonction, vous l'appelez en utilisant son nom suivi des arguments entre parenthèses."
      ]
    },
    {
      "cell_type": "code",
      "execution_count": 214,
      "metadata": {
        "colab": {
          "base_uri": "https://localhost:8080/",
          "height": 34
        },
        "colab_type": "code",
        "id": "kgDxdfuIadt1",
        "outputId": "32a0469a-d856-4206-931c-b013ae387720"
      },
      "outputs": [
        {
          "name": "stdout",
          "output_type": "stream",
          "text": [
            "Ma première fonction\n"
          ]
        }
      ],
      "source": [
        "ma_fonction()"
      ]
    },
    {
      "cell_type": "markdown",
      "metadata": {},
      "source": [
        "**Paramètres et Arguments :**\n",
        "Les fonctions peuvent accepter des paramètres (ou arguments) qui permettent de passer des valeurs à la fonction.\n",
        "\n",
        "1. Paramètres Positifs"
      ]
    },
    {
      "cell_type": "code",
      "execution_count": 215,
      "metadata": {
        "colab": {
          "base_uri": "https://localhost:8080/",
          "height": 34
        },
        "colab_type": "code",
        "id": "rB-yIhFxbUPa",
        "outputId": "77716e9a-5364-4be9-dec0-c8c750ac0f46"
      },
      "outputs": [
        {
          "name": "stdout",
          "output_type": "stream",
          "text": [
            "Bonjour, Alice!\n"
          ]
        }
      ],
      "source": [
        "def saluer(nom):\n",
        "    print(f\"Bonjour, {nom}!\")\n",
        "\n",
        "saluer(\"Alice\")  # Sortie : Bonjour, Alice!"
      ]
    },
    {
      "cell_type": "markdown",
      "metadata": {},
      "source": [
        "2. Paramètres par Défaut\n",
        "   \n",
        "Vous pouvez définir des valeurs par défaut pour les paramètres de votre fonction."
      ]
    },
    {
      "cell_type": "code",
      "execution_count": 216,
      "metadata": {},
      "outputs": [
        {
          "name": "stdout",
          "output_type": "stream",
          "text": [
            "Bonjour, inconnu!\n",
            "Bonjour, Bob!\n"
          ]
        }
      ],
      "source": [
        "def saluer(nom=\"inconnu\"):\n",
        "    print(f\"Bonjour, {nom}!\")\n",
        "\n",
        "saluer()         # Sortie : Bonjour, inconnu!\n",
        "saluer(\"Bob\")    # Sortie : Bonjour, Bob!\n"
      ]
    },
    {
      "cell_type": "markdown",
      "metadata": {},
      "source": [
        "3. **Paramètres Variables :**\n",
        "Vous pouvez utiliser (***args**) pour un nombre variable d'arguments positionnels et (****kwargs**) pour un nombre variable d'arguments nommés."
      ]
    },
    {
      "cell_type": "code",
      "execution_count": 217,
      "metadata": {},
      "outputs": [
        {
          "name": "stdout",
          "output_type": "stream",
          "text": [
            "1\n",
            "2\n",
            "3\n",
            "4\n"
          ]
        }
      ],
      "source": [
        "# Exemple avec *args :\n",
        "\n",
        "def afficher_nombres(*nombres):\n",
        "    for nombre in nombres:\n",
        "        print(nombre)\n",
        "\n",
        "afficher_nombres(1, 2, 3, 4)  # Sortie : 1 2 3 4\n"
      ]
    },
    {
      "cell_type": "code",
      "execution_count": 218,
      "metadata": {},
      "outputs": [
        {
          "name": "stdout",
          "output_type": "stream",
          "text": [
            "nom : Alice\n",
            "age : 25\n"
          ]
        }
      ],
      "source": [
        "# Exemple avec **kwargs :\n",
        "\n",
        "def afficher_infos(**infos):\n",
        "    for cle, valeur in infos.items():\n",
        "        print(f\"{cle} : {valeur}\")\n",
        "\n",
        "afficher_infos(nom=\"Alice\", age=25)  # Sortie : nom : Alice  age : 25\n"
      ]
    },
    {
      "cell_type": "markdown",
      "metadata": {},
      "source": [
        "**Valeurs de Retour :**\n",
        "Les fonctions peuvent renvoyer des valeurs à l'aide du mot-clé **return**. Si **return** n'est pas utilisé, la fonction renvoie None par défaut."
      ]
    },
    {
      "cell_type": "code",
      "execution_count": 223,
      "metadata": {},
      "outputs": [
        {
          "data": {
            "text/plain": [
              "16"
            ]
          },
          "execution_count": 223,
          "metadata": {},
          "output_type": "execute_result"
        }
      ],
      "source": [
        "def carre(x):\n",
        "    return x * x\n",
        "\n",
        "#resultat = carre(4)\n",
        "#print(resultat)  # Sortie : 16\n",
        "# ou\n",
        "#print(carre(4))  # Sortie : 16\n",
        "# ou\n",
        "carre(4)\n"
      ]
    },
    {
      "cell_type": "markdown",
      "metadata": {},
      "source": [
        "**Fonctions Lambda :**\n",
        "Les fonctions lambda sont des fonctions anonymes (sans nom) utilisées pour des opérations simples et courtes. Elles sont définies avec le mot-clé **lambda**.\n",
        "\n",
        "Syntaxe : **lambda arguments: expression**"
      ]
    },
    {
      "cell_type": "code",
      "execution_count": 224,
      "metadata": {},
      "outputs": [
        {
          "name": "stdout",
          "output_type": "stream",
          "text": [
            "8\n"
          ]
        }
      ],
      "source": [
        "# Fonction lambda pour additionner deux nombres\n",
        "addition = lambda a, b: a + b\n",
        "\n",
        "print(addition(5, 3))  # Sortie : 8\n"
      ]
    },
    {
      "cell_type": "markdown",
      "metadata": {},
      "source": [
        "Il est recommandé de documenter vos fonctions en utilisant des chaînes de documentation (docstrings). Les docstrings sont des chaînes de caractères qui décrivent la fonction et sont placées immédiatement après la définition de la fonction."
      ]
    },
    {
      "cell_type": "code",
      "execution_count": 225,
      "metadata": {},
      "outputs": [],
      "source": [
        "def addition(a, b):\n",
        "    \"\"\"\n",
        "    Ajoute deux nombres et retourne le résultat.\n",
        "\n",
        "    :param a: Le premier nombre.\n",
        "    :param b: Le deuxième nombre.\n",
        "    :return: La somme des deux nombres.\n",
        "    \"\"\"\n",
        "    return a + b\n"
      ]
    },
    {
      "cell_type": "markdown",
      "metadata": {
        "colab_type": "text",
        "id": "32X3vNS3cbfE"
      },
      "source": [
        "## 3. Exercice et Solution\n",
        "**Exercice 1 : Calcul de la Factorielle**\n",
        "\n",
        "Créez une fonction factorielle(n) qui calcule la factorielle d'un nombre entier n (n!). La factorielle de n est le produit de tous les entiers positifs inférieurs ou égaux à n."
      ]
    },
    {
      "cell_type": "code",
      "execution_count": 226,
      "metadata": {},
      "outputs": [
        {
          "name": "stdout",
          "output_type": "stream",
          "text": [
            "120\n"
          ]
        }
      ],
      "source": [
        "def factorielle(n):\n",
        "    if n == 0:\n",
        "        return 1\n",
        "    else:\n",
        "        return n * factorielle(n - 1)\n",
        "\n",
        "# Test\n",
        "print(factorielle(5))  # Sortie : 120\n"
      ]
    },
    {
      "cell_type": "markdown",
      "metadata": {},
      "source": [
        "**Exercice 2 : Vérification de Palindrome**\n",
        "\n",
        "Créez une fonction est_palindrome(chaine) qui vérifie si une chaîne de caractères est un palindrome (se lit de la même manière dans les deux sens)."
      ]
    },
    {
      "cell_type": "code",
      "execution_count": 227,
      "metadata": {},
      "outputs": [
        {
          "name": "stdout",
          "output_type": "stream",
          "text": [
            "True\n",
            "False\n"
          ]
        }
      ],
      "source": [
        "def est_palindrome(chaine):\n",
        "    chaine = chaine.replace(\" \", \"\").lower()  # Retirer les espaces et convertir en minuscule\n",
        "    return chaine == chaine[::-1]  # Vérifier si la chaîne est égale à son inverse\n",
        "\n",
        "# Test\n",
        "print(est_palindrome(\"Radar\"))  # Sortie : True\n",
        "print(est_palindrome(\"Python\")) # Sortie : False\n"
      ]
    },
    {
      "cell_type": "markdown",
      "metadata": {},
      "source": [
        "**Exercice 3 : Tri et Filtrage**\n",
        "\n",
        "Créez une fonction filtrer_et_trier(liste, seuil) qui prend une liste de nombres et un seuil, filtre les nombres qui sont au-dessus du seuil et renvoie une liste triée de ces nombres."
      ]
    },
    {
      "cell_type": "code",
      "execution_count": 228,
      "metadata": {
        "colab": {
          "base_uri": "https://localhost:8080/",
          "height": 34
        },
        "colab_type": "code",
        "id": "l3SvJ0k_cVUA",
        "outputId": "e1a10282-d73d-434a-a04a-80a6698a67a5"
      },
      "outputs": [
        {
          "name": "stdout",
          "output_type": "stream",
          "text": [
            "[7, 10, 15]\n"
          ]
        }
      ],
      "source": [
        "def filtrer_et_trier(liste, seuil):\n",
        "    filtrer = [x for x in liste if x > seuil]\n",
        "    return sorted(filtrer)\n",
        "\n",
        "# Test\n",
        "print(filtrer_et_trier([10, 3, 7, 6, 15], 6))  # Sortie : [7, 10, 15]\n"
      ]
    }
  ],
  "metadata": {
    "colab": {
      "authorship_tag": "ABX9TyMFLkJWjpS73et8V2y/zKv/",
      "include_colab_link": true,
      "name": "Untitled2.ipynb",
      "provenance": []
    },
    "kernelspec": {
      "display_name": "Python 3 (ipykernel)",
      "language": "python",
      "name": "python3"
    },
    "language_info": {
      "codemirror_mode": {
        "name": "ipython",
        "version": 3
      },
      "file_extension": ".py",
      "mimetype": "text/x-python",
      "name": "python",
      "nbconvert_exporter": "python",
      "pygments_lexer": "ipython3",
      "version": "3.11.5"
    }
  },
  "nbformat": 4,
  "nbformat_minor": 0
}
