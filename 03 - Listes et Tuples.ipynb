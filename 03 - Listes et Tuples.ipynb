{
  "cells": [
    {
      "cell_type": "markdown",
      "metadata": {
        "colab_type": "text",
        "id": "zZAigZmjo-Eu"
      },
      "source": [
        "# 3. Structure de données (Listes et Tuples)\n",
        "\n",
        "Les listes et les tuples sont deux des structures de données les plus utilisées en Python. Elles permettent de stocker des collections d'éléments, mais elles ont des caractéristiques et des comportements différents."
      ]
    },
    {
      "cell_type": "markdown",
      "metadata": {
        "colab_type": "text",
        "id": "GYmh0u3Gp2vR"
      },
      "source": [
        "## 1. Création de Listes \n",
        "\n",
        "Une liste est une collection ordonnée et modifiable d'éléments. Les listes sont définies par des crochets **[ ]** et peuvent contenir des éléments de types différents.\n",
        "\n",
        "**Caractéristiques des Listes**\n",
        "* **Modifiables :** Vous pouvez changer les éléments d'une liste après sa création.\n",
        "* **Ordonnées :** Les éléments ont un ordre défini, et cet ordre est maintenu.\n",
        "* **Peuvent contenir des types différents :** Les éléments d'une liste peuvent être de différents types de données."
      ]
    },
    {
      "cell_type": "code",
      "execution_count": 41,
      "metadata": {
        "colab": {},
        "colab_type": "code",
        "id": "lMrHIDBro9Ul"
      },
      "outputs": [],
      "source": [
        "# Création d'une liste vide\n",
        "ma_liste = []\n",
        "\n",
        "# Création d'une liste avec des éléments\n",
        "fruits = [\"pomme\", \"banane\", \"cerise\"]"
      ]
    },
    {
      "cell_type": "markdown",
      "metadata": {},
      "source": [
        "**Accès aux Éléments d'une Liste**\n",
        "\n",
        "L'indexation et le slicing sont des concepts essentiels pour manipuler des séquences en Python telles que les listes, les chaînes de caractères (strings), et les tuples. Ils permettent d'accéder et de manipuler des éléments individuels ou des sous-ensembles d'une séquence.\n",
        "\n",
        "**Indexation :**\n",
        "L'indexation permet d'accéder à un élément spécifique d'une séquence en utilisant son indice. Les indices commencent à 0, ce qui signifie que le premier élément a l'indice 0, le deuxième a l'indice 1, et ainsi de suite. Les indices négatifs peuvent également être utilisés pour accéder aux éléments en commençant par la fin de la séquence."
      ]
    },
    {
      "cell_type": "code",
      "execution_count": 42,
      "metadata": {
        "colab": {
          "base_uri": "https://localhost:8080/",
          "height": 34
        },
        "colab_type": "code",
        "id": "6fmme6vsq9mp",
        "outputId": "9eb5c9e1-ecef-4560-8e22-318e683a3d9d"
      },
      "outputs": [
        {
          "name": "stdout",
          "output_type": "stream",
          "text": [
            "pomme\n",
            "cerise\n",
            "datte\n",
            "cerise\n"
          ]
        }
      ],
      "source": [
        "# Liste d'exemple\n",
        "fruits = [\"pomme\", \"banane\", \"cerise\", \"datte\"]\n",
        "\n",
        "# Accéder au premier élément\n",
        "print(fruits[0])  # Sortie : \"pomme\"\n",
        "\n",
        "# Accéder au troisième élément\n",
        "print(fruits[2])  # Sortie : \"cerise\"\n",
        "\n",
        "# Accéder au dernier élément\n",
        "print(fruits[-1])  # Sortie : \"datte\"\n",
        "\n",
        "# Accéder à l'avant-dernier élément\n",
        "print(fruits[-2])  # Sortie : \"cerise\"\n"
      ]
    },
    {
      "cell_type": "code",
      "execution_count": 43,
      "metadata": {},
      "outputs": [
        {
          "name": "stdout",
          "output_type": "stream",
          "text": [
            "p\n",
            "e\n"
          ]
        }
      ],
      "source": [
        "# Chaîne de caractères d'exemple\n",
        "texte = \"pomme\"\n",
        "\n",
        "# Accéder au premier caractère\n",
        "print(texte[0])  # Sortie : \"P\"\n",
        "\n",
        "# Accéder au dernier caractère\n",
        "print(texte[-1])  # Sortie : \"e\"\n"
      ]
    },
    {
      "cell_type": "markdown",
      "metadata": {},
      "source": [
        "**Slicing :**\n",
        "Le slicing (ou découpage) permet d'extraire une sous-séquence d'une séquence. Il est effectué en spécifiant un indice de début, un indice de fin (non inclus) et éventuellement un pas.\n",
        "\n",
        "La syntaxe de base pour le slicing est : **sequence[start:end:step]**.\n",
        "\n",
        "* **start :** L'indice de début (inclus). Si omis, le slicing commence au début de la séquence.\n",
        "* **end :** L'indice de fin (non inclus). Si omis, le slicing continue jusqu'à la fin de la séquence.\n",
        "* **step :** Le pas à utiliser pour le slicing. Si omis, le pas par défaut est 1."
      ]
    },
    {
      "cell_type": "code",
      "execution_count": 44,
      "metadata": {},
      "outputs": [
        {
          "name": "stdout",
          "output_type": "stream",
          "text": [
            "les trois premiers éléments : ['pomme', 'banane', 'cerise']\n",
            "les éléments du deuxième au quatrième : ['banane', 'cerise', 'datte']\n",
            "les éléments du début jusqu'à l'indice 3 : ['pomme', 'banane', 'cerise']\n",
            "les éléments de l'indice 3 jusqu'à la fin : ['datte', 'figue', 'grenade']\n",
            "tous les éléments avec un pas de 2 : ['pomme', 'cerise', 'figue']\n",
            "les éléments en ordre inverse : ['grenade', 'figue', 'datte', 'cerise', 'banane', 'pomme']\n"
          ]
        }
      ],
      "source": [
        "# Liste d'exemple\n",
        "fruits = [\"pomme\", \"banane\", \"cerise\", \"datte\", \"figue\", \"grenade\"]\n",
        "\n",
        "# Extraire les trois premiers éléments\n",
        "print(\"les trois premiers éléments :\",fruits[0:3])  # Sortie : [\"pomme\", \"banane\", \"cerise\"]\n",
        "\n",
        "# Extraire les éléments du deuxième au quatrième\n",
        "print(\"les éléments du deuxième au quatrième :\",fruits[1:4])  # Sortie : [\"banane\", \"cerise\", \"datte\"]\n",
        "\n",
        "# Extraire les éléments du début jusqu'à l'indice 3 (exclu)\n",
        "print(\"les éléments du début jusqu'à l'indice 3 :\",fruits[:3])  # Sortie : [\"pomme\", \"banane\", \"cerise\"]\n",
        "\n",
        "# Extraire les éléments de l'indice 3 jusqu'à la fin\n",
        "print(\"les éléments de l'indice 3 jusqu'à la fin :\",fruits[3:])  # Sortie : [\"datte\", \"figue\", \"grenade\"]\n",
        "\n",
        "# Extraire tous les éléments avec un pas de 2\n",
        "print(\"tous les éléments avec un pas de 2 :\",fruits[::2])  # Sortie : [\"pomme\", \"cerise\", \"figue\"]\n",
        "\n",
        "# Extraire les éléments en ordre inverse\n",
        "print(\"les éléments en ordre inverse :\",fruits[::-1])  # Sortie : [\"grenade\", \"figue\", \"datte\", \"cerise\", \"banane\", \"pomme\"]\n"
      ]
    },
    {
      "cell_type": "markdown",
      "metadata": {},
      "source": [
        "**Modifier les Éléments d'une Liste**\n",
        "\n",
        "Les listes étant modifiables, vous pouvez changer la valeur d'un élément à un index donné."
      ]
    },
    {
      "cell_type": "code",
      "execution_count": 45,
      "metadata": {},
      "outputs": [
        {
          "name": "stdout",
          "output_type": "stream",
          "text": [
            "['pomme', 'orange', 'cerise']\n"
          ]
        }
      ],
      "source": [
        "fruits = [\"pomme\", \"banane\", \"cerise\"]\n",
        "\n",
        "# Modifier le deuxième élément\n",
        "fruits[1] = \"orange\"\n",
        "print(fruits)  # Affiche [\"pomme\", \"orange\", \"cerise\"]\n"
      ]
    },
    {
      "cell_type": "markdown",
      "metadata": {},
      "source": [
        "**Ajouter des Éléments à une Liste**\n",
        "\n",
        "Il existe plusieurs méthodes pour ajouter des éléments à une liste.\n",
        "\n",
        "**1. Ajouter un Élément à la Fin**\n",
        "\n",
        "Utilisez la méthode **append()** pour ajouter un élément à la fin de la liste."
      ]
    },
    {
      "cell_type": "code",
      "execution_count": 46,
      "metadata": {},
      "outputs": [
        {
          "name": "stdout",
          "output_type": "stream",
          "text": [
            "['pomme', 'banane', 'cerise', 'orange']\n"
          ]
        }
      ],
      "source": [
        "fruits = [\"pomme\", \"banane\", \"cerise\"]\n",
        "\n",
        "# Ajouter un élément à la fin\n",
        "fruits.append(\"orange\")\n",
        "print(fruits)  # Affiche [\"pomme\", \"banane\", \"cerise\", \"orange\"]\n"
      ]
    },
    {
      "cell_type": "markdown",
      "metadata": {},
      "source": [
        "**2. Insérer un Élément à un Index Spécifique**\n",
        "\n",
        "Utilisez la méthode **insert()** pour insérer un élément à un index spécifique."
      ]
    },
    {
      "cell_type": "code",
      "execution_count": 47,
      "metadata": {},
      "outputs": [
        {
          "name": "stdout",
          "output_type": "stream",
          "text": [
            "['pomme', 'orange', 'banane', 'cerise']\n"
          ]
        }
      ],
      "source": [
        "fruits = [\"pomme\", \"banane\", \"cerise\"]\n",
        "\n",
        "# Insérer un élément à l'index 1\n",
        "fruits.insert(1, \"orange\")\n",
        "print(fruits)  # Affiche [\"pomme\", \"orange\", \"banane\", \"cerise\"]\n"
      ]
    },
    {
      "cell_type": "markdown",
      "metadata": {},
      "source": [
        "**Supprimer des Éléments d'une Liste**\n",
        "\n",
        "Il existe plusieurs façons de supprimer des éléments d'une liste.\n",
        "\n",
        "**1. Supprimer un Élément par Valeur**\n",
        "\n",
        "Utilisez la méthode **remove()** pour supprimer un élément par sa valeur."
      ]
    },
    {
      "cell_type": "code",
      "execution_count": 48,
      "metadata": {},
      "outputs": [
        {
          "name": "stdout",
          "output_type": "stream",
          "text": [
            "['pomme', 'cerise']\n"
          ]
        }
      ],
      "source": [
        "fruits = [\"pomme\", \"banane\", \"cerise\"]\n",
        "\n",
        "# Supprimer un élément par valeur\n",
        "fruits.remove(\"banane\")\n",
        "print(fruits)  # Affiche [\"pomme\", \"cerise\"]\n"
      ]
    },
    {
      "cell_type": "markdown",
      "metadata": {},
      "source": [
        "**2. Supprimer un Élément par Index**\n",
        "\n",
        "Utilisez la méthode **pop()** pour supprimer un élément à un index donné. Si aucun index n'est spécifié, **pop()** supprime le dernier élément."
      ]
    },
    {
      "cell_type": "code",
      "execution_count": 49,
      "metadata": {},
      "outputs": [
        {
          "name": "stdout",
          "output_type": "stream",
          "text": [
            "['pomme', 'cerise']\n",
            "['pomme']\n"
          ]
        }
      ],
      "source": [
        "fruits = [\"pomme\", \"banane\", \"cerise\"]\n",
        "\n",
        "# Supprimer l'élément à l'index 1\n",
        "fruits.pop(1)\n",
        "print(fruits)  # Affiche [\"pomme\", \"cerise\"]\n",
        "\n",
        "# Supprimer le dernier élément\n",
        "fruits.pop()\n",
        "print(fruits)  # Affiche [\"pomme\"]\n"
      ]
    },
    {
      "cell_type": "markdown",
      "metadata": {},
      "source": [
        "**3. Supprimer Tous les Éléments**\n",
        "\n",
        "Utilisez la méthode **clear()** pour supprimer tous les éléments de la liste."
      ]
    },
    {
      "cell_type": "code",
      "execution_count": 50,
      "metadata": {},
      "outputs": [
        {
          "name": "stdout",
          "output_type": "stream",
          "text": [
            "[]\n"
          ]
        }
      ],
      "source": [
        "fruits = [\"pomme\", \"banane\", \"cerise\"]\n",
        "\n",
        "# Supprimer tous les éléments\n",
        "fruits.clear()\n",
        "print(fruits)  # Affiche []\n"
      ]
    },
    {
      "cell_type": "markdown",
      "metadata": {},
      "source": [
        "**Autres Méthodes Utiles pour les Listes**\n",
        "\n",
        "**-len() :** Retourne la longueur de la liste.\n",
        "\n",
        "**-sort() :** Trie les éléments de la liste en place.\n",
        "\n",
        "**-reverse() :** Inverse l'ordre des éléments de la liste."
      ]
    },
    {
      "cell_type": "code",
      "execution_count": 51,
      "metadata": {},
      "outputs": [
        {
          "name": "stdout",
          "output_type": "stream",
          "text": [
            "La longueur : 4\n",
            "Tri croissant: [1, 2, 3, 4]\n",
            "Tri décroissant: [4, 3, 2, 1]\n"
          ]
        }
      ],
      "source": [
        "nombres = [3, 1, 4, 2]\n",
        "\n",
        "print(\"La longueur :\",len(nombres))  # Affiche 3\n",
        "\n",
        "nombres.sort()\n",
        "print(\"Tri croissant:\",nombres)  # Affiche [1, 2, 3, 4]\n",
        "\n",
        "nombres.reverse()\n",
        "print(\"Tri décroissant:\",nombres)  # Affiche [2, 4, 1, 3]\n"
      ]
    },
    {
      "cell_type": "markdown",
      "metadata": {},
      "source": [
        "## Ajouter une liste à l'intérieur d'une autre liste\n",
        "En Python, une liste peut contenir des éléments de différents types, y compris d'autres listes. Ajouter une liste à l'intérieur d'une autre liste est une opération courante qui peut être réalisée de différentes manières en fonction de ce que vous souhaitez accomplir.\n",
        "\n",
        "Voici quelques méthodes pour ajouter une liste à l'intérieur d'une autre liste :\n",
        "\n",
        "* **1. Ajouter une liste comme un élément individuel :**\n",
        "Si vous voulez que la liste entière devienne un élément de la liste extérieure, vous pouvez utiliser la méthode **append()**."
      ]
    },
    {
      "cell_type": "code",
      "execution_count": 52,
      "metadata": {},
      "outputs": [
        {
          "name": "stdout",
          "output_type": "stream",
          "text": [
            "[1, 2, 3, [4, 5, 6]]\n"
          ]
        }
      ],
      "source": [
        "# Liste principale\n",
        "ma_liste = [1, 2, 3]\n",
        "\n",
        "# Liste à ajouter\n",
        "sous_liste = [4, 5, 6]\n",
        "\n",
        "# Ajout de la sous-liste comme un élément unique\n",
        "ma_liste.append(sous_liste)\n",
        "\n",
        "print(ma_liste)  # Sortie : [1, 2, 3, [4, 5, 6]]\n"
      ]
    },
    {
      "cell_type": "markdown",
      "metadata": {},
      "source": [
        "* **2. Étendre la liste avec les éléments d'une autre liste :**\n",
        "Si vous souhaitez ajouter les éléments de la sous-liste à la liste principale de manière individuelle, vous pouvez utiliser la méthode **extend()**."
      ]
    },
    {
      "cell_type": "code",
      "execution_count": 53,
      "metadata": {},
      "outputs": [
        {
          "name": "stdout",
          "output_type": "stream",
          "text": [
            "[1, 2, 3, 4, 5, 6]\n"
          ]
        }
      ],
      "source": [
        "# Liste principale\n",
        "ma_liste = [1, 2, 3]\n",
        "\n",
        "# Liste à ajouter\n",
        "sous_liste = [4, 5, 6]\n",
        "\n",
        "# Ajout des éléments de la sous-liste individuellement\n",
        "ma_liste.extend(sous_liste)\n",
        "\n",
        "print(ma_liste)  # Sortie : [1, 2, 3, 4, 5, 6]\n"
      ]
    },
    {
      "cell_type": "markdown",
      "metadata": {},
      "source": [
        "* **3. Utiliser l'opérateur + pour la concaténation :**\n",
        "Une autre façon d'ajouter une liste à l'intérieur d'une autre liste est d'utiliser l'opérateur **+** pour concaténer les listes."
      ]
    },
    {
      "cell_type": "code",
      "execution_count": 54,
      "metadata": {},
      "outputs": [
        {
          "name": "stdout",
          "output_type": "stream",
          "text": [
            "[1, 2, 3, 4, 5, 6]\n"
          ]
        }
      ],
      "source": [
        "# Liste principale\n",
        "ma_liste = [1, 2, 3]\n",
        "\n",
        "# Liste à ajouter\n",
        "sous_liste = [4, 5, 6]\n",
        "\n",
        "# Concaténation des listes\n",
        "ma_liste = ma_liste + sous_liste\n",
        "\n",
        "print(ma_liste)  # Sortie : [1, 2, 3, 4, 5, 6]\n"
      ]
    },
    {
      "cell_type": "markdown",
      "metadata": {},
      "source": [
        "* **4. Insertion d'une liste à une position spécifique :**\n",
        "Vous pouvez insérer une liste à une position spécifique dans une autre liste en utilisant la méthode **insert()**."
      ]
    },
    {
      "cell_type": "code",
      "execution_count": 55,
      "metadata": {},
      "outputs": [
        {
          "name": "stdout",
          "output_type": "stream",
          "text": [
            "[1, [4, 5, 6], 2, 3]\n"
          ]
        }
      ],
      "source": [
        "# Liste principale\n",
        "ma_liste = [1, 2, 3]\n",
        "\n",
        "# Liste à ajouter\n",
        "sous_liste = [4, 5, 6]\n",
        "\n",
        "# Insertion de la sous-liste à l'index 1\n",
        "ma_liste.insert(1, sous_liste)\n",
        "\n",
        "print(ma_liste)  # Sortie : [1, [4, 5, 6], 2, 3]\n"
      ]
    },
    {
      "cell_type": "markdown",
      "metadata": {},
      "source": [
        "* **5. Utiliser des boucles pour ajouter des éléments de la sous-liste :**\n",
        "Si vous souhaitez insérer les éléments d'une sous-liste un par un à une position spécifique, vous pouvez le faire en utilisant une boucle."
      ]
    },
    {
      "cell_type": "code",
      "execution_count": 56,
      "metadata": {},
      "outputs": [
        {
          "name": "stdout",
          "output_type": "stream",
          "text": [
            "[1, 4, 5, 6, 2, 3]\n"
          ]
        }
      ],
      "source": [
        "# Liste principale\n",
        "ma_liste = [1, 2, 3]\n",
        "\n",
        "# Liste à ajouter\n",
        "sous_liste = [4, 5, 6]\n",
        "\n",
        "# Insérer chaque élément de la sous-liste à l'index 1\n",
        "for i, element in enumerate(sous_liste):\n",
        "    ma_liste.insert(i + 1, element)\n",
        "\n",
        "print(ma_liste)  # Sortie : [1, 4, 5, 6, 2, 3]\n"
      ]
    },
    {
      "cell_type": "markdown",
      "metadata": {},
      "source": [
        "## Tuples\n",
        "Un tuple est une collection ordonnée et immuable d'éléments. Les tuples sont définis par des parenthèses () et peuvent contenir des éléments de types différents.\n",
        "\n",
        "**Caractéristiques des Tuples**\n",
        "* **Immuables :** Une fois créés, les éléments d'un tuple ne peuvent pas être modifiés.\n",
        "* **Ordonnés :** Les éléments ont un ordre défini, et cet ordre est maintenu.\n",
        "* **Peuvent contenir des types différents :** Les éléments d'un tuple peuvent être de différents types de données."
      ]
    },
    {
      "cell_type": "code",
      "execution_count": 57,
      "metadata": {},
      "outputs": [],
      "source": [
        "# Création d'un tuple vide\n",
        "mon_tuple = ()\n",
        "\n",
        "# Création d'un tuple avec des éléments\n",
        "animaux = (\"chien\", \"chat\", \"oiseau\")\n"
      ]
    },
    {
      "cell_type": "markdown",
      "metadata": {},
      "source": [
        "Pour créer un tuple avec un seul élément, vous devez ajouter une virgule après l'élément, sinon Python le considère comme un type de donnée simple."
      ]
    },
    {
      "cell_type": "code",
      "execution_count": 58,
      "metadata": {},
      "outputs": [
        {
          "name": "stdout",
          "output_type": "stream",
          "text": [
            "<class 'tuple'>\n",
            "<class 'int'>\n"
          ]
        }
      ],
      "source": [
        "# Tuple avec un seul élément\n",
        "singleton = (5,)\n",
        "\n",
        "# Sans virgule, c'est un entier\n",
        "non_tuple = (5)\n",
        "print(type(singleton))  # Affiche <class 'tuple'>\n",
        "print(type(non_tuple))  # Affiche <class 'int'>\n"
      ]
    },
    {
      "cell_type": "markdown",
      "metadata": {},
      "source": [
        "**Accès aux Éléments d'un Tuple**\n",
        "\n",
        "L'accès aux éléments d'un tuple est similaire à l'accès aux éléments d'une liste.\n",
        "\n",
        "**Indexation**"
      ]
    },
    {
      "cell_type": "code",
      "execution_count": 59,
      "metadata": {},
      "outputs": [
        {
          "name": "stdout",
          "output_type": "stream",
          "text": [
            "chien\n",
            "oiseau\n"
          ]
        }
      ],
      "source": [
        "animaux = (\"chien\", \"chat\", \"oiseau\")\n",
        "\n",
        "# Accéder au premier élément\n",
        "print(animaux[0])  # Affiche \"chien\"\n",
        "\n",
        "# Accéder au dernier élément\n",
        "print(animaux[-1])  # Affiche \"oiseau\"\n"
      ]
    },
    {
      "cell_type": "markdown",
      "metadata": {},
      "source": [
        "**slicing**"
      ]
    },
    {
      "cell_type": "code",
      "execution_count": 68,
      "metadata": {},
      "outputs": [
        {
          "name": "stdout",
          "output_type": "stream",
          "text": [
            "(10, 20)\n",
            "(20, 30, 40)\n",
            "(10, 30, 50)\n",
            "(50, 40, 30, 20, 10)\n"
          ]
        }
      ],
      "source": [
        "# Tuple d'exemple\n",
        "coordonnees = (10, 20, 30, 40, 50)\n",
        "\n",
        "# Extraire les deux premiers éléments\n",
        "print(coordonnees[:2])  # Sortie : (10, 20)\n",
        "\n",
        "# Extraire les éléments du deuxième au quatrième\n",
        "print(coordonnees[1:4])  # Sortie : (20, 30, 40)\n",
        "\n",
        "# Extraire tous les éléments avec un pas de 2\n",
        "print(coordonnees[::2])  # Sortie : (10, 30, 50)\n",
        "\n",
        "# Extraire les éléments en ordre inverse\n",
        "print(coordonnees[::-1])  # Sortie : (50, 40, 30, 20, 10)\n"
      ]
    },
    {
      "cell_type": "markdown",
      "metadata": {},
      "source": [
        "**Tentative de Modifier un Tuple**\n",
        "\n",
        "Étant donné que les tuples sont immuables, toute tentative de modification de leur contenu génère une erreur."
      ]
    },
    {
      "cell_type": "code",
      "execution_count": 60,
      "metadata": {},
      "outputs": [],
      "source": [
        "animaux = (\"chien\", \"chat\", \"oiseau\")\n",
        "\n",
        "# Tentative de modification\n",
        "# animaux[1] = \"tigre\"  # Provoque une erreur TypeError\n"
      ]
    },
    {
      "cell_type": "markdown",
      "metadata": {},
      "source": [
        "**Utilisation des Tuples**\n",
        "\n",
        "Les tuples sont souvent utilisés lorsque vous souhaitez assurer que les données ne seront pas modifiées accidentellement.\n",
        "\n",
        "**Exemple : Coordonner des Points**\n",
        "Les tuples sont parfaits pour représenter des points dans un espace à deux ou trois dimensions."
      ]
    },
    {
      "cell_type": "code",
      "execution_count": 70,
      "metadata": {},
      "outputs": [
        {
          "name": "stdout",
          "output_type": "stream",
          "text": [
            "(3, 4)\n",
            "(3, 4, 5)\n"
          ]
        }
      ],
      "source": [
        "# Point en 2D\n",
        "point_2d = (3, 4)\n",
        "print(point_2d)\n",
        "\n",
        "# Point en 3D\n",
        "point_3d = (3, 4, 5)\n",
        "print(point_3d)"
      ]
    },
    {
      "cell_type": "markdown",
      "metadata": {},
      "source": [
        "**Déballage des Tuples**\n",
        "\n",
        "Les tuples permettent un déballage, c'est-à-dire l'affectation des éléments du tuple à plusieurs variables en une seule ligne."
      ]
    },
    {
      "cell_type": "code",
      "execution_count": 62,
      "metadata": {},
      "outputs": [
        {
          "name": "stdout",
          "output_type": "stream",
          "text": [
            "10\n",
            "20\n"
          ]
        }
      ],
      "source": [
        "coordonnees = (10, 20)\n",
        "\n",
        "x, y = coordonnees\n",
        "print(x)  # Affiche 10\n",
        "print(y)  # Affiche 20\n"
      ]
    },
    {
      "cell_type": "markdown",
      "metadata": {},
      "source": [
        "**Conversion entre Listes et Tuples**\n",
        "\n",
        "Vous pouvez convertir une liste en tuple et vice versa en utilisant les fonctions **list()** et **tuple()**."
      ]
    },
    {
      "cell_type": "code",
      "execution_count": 63,
      "metadata": {},
      "outputs": [
        {
          "name": "stdout",
          "output_type": "stream",
          "text": [
            "('pomme', 'banane', 'cerise')\n"
          ]
        }
      ],
      "source": [
        "fruits = [\"pomme\", \"banane\", \"cerise\"]\n",
        "\n",
        "# Conversion en tuple\n",
        "fruits_tuple = tuple(fruits)\n",
        "print(fruits_tuple)  # Affiche ('pomme', 'banane', 'cerise')\n"
      ]
    },
    {
      "cell_type": "markdown",
      "metadata": {},
      "source": [
        "**Conversion d'un Tuple en Liste**"
      ]
    },
    {
      "cell_type": "code",
      "execution_count": 64,
      "metadata": {},
      "outputs": [
        {
          "name": "stdout",
          "output_type": "stream",
          "text": [
            "['chien', 'chat', 'oiseau']\n"
          ]
        }
      ],
      "source": [
        "animaux = (\"chien\", \"chat\", \"oiseau\")\n",
        "\n",
        "# Conversion en liste\n",
        "animaux_liste = list(animaux)\n",
        "print(animaux_liste)  # Affiche [\"chien\", \"chat\", \"oiseau\"]\n"
      ]
    },
    {
      "cell_type": "markdown",
      "metadata": {
        "colab_type": "text",
        "id": "z8o9svv2v88a"
      },
      "source": [
        "La fonction **enumerate** est tres utile pour sortir a la fois les éléments d'une liste et leurs **index**. C'est une fonction tres utilisée en datascience"
      ]
    },
    {
      "cell_type": "code",
      "execution_count": 71,
      "metadata": {
        "colab": {
          "base_uri": "https://localhost:8080/",
          "height": 153
        },
        "colab_type": "code",
        "id": "w9t8cMPzv1Ug",
        "outputId": "579039b4-91a6-4f8a-bfcd-e9d2adee574d"
      },
      "outputs": [
        {
          "name": "stdout",
          "output_type": "stream",
          "text": [
            "0 chien\n",
            "1 chat\n",
            "2 oiseau\n"
          ]
        }
      ],
      "source": [
        "for index, element in enumerate(animaux):\n",
        "  print(index, element)"
      ]
    },
    {
      "cell_type": "markdown",
      "metadata": {
        "colab_type": "text",
        "id": "r7pQ6Yl_wd-B"
      },
      "source": [
        "La fonction **zip** est aussi tres utile pour itérée a travers 2 listes en paralleles. Si une liste est plus courte que l'autre, la boucle for s'arrete a la liste la plus courte"
      ]
    },
    {
      "cell_type": "code",
      "execution_count": 73,
      "metadata": {
        "colab": {
          "base_uri": "https://localhost:8080/",
          "height": 136
        },
        "colab_type": "code",
        "id": "Ej3rTRqawN2i",
        "outputId": "48fc7aec-a096-4582-ae47-27eb0973b522"
      },
      "outputs": [
        {
          "name": "stdout",
          "output_type": "stream",
          "text": [
            "chien 312\n",
            "chat 52\n",
            "oiseau 654\n"
          ]
        }
      ],
      "source": [
        "quantité = [312, 52, 654, 23, 65, 12, 678]\n",
        "for element_1, element_2 in zip(animaux, quantité):\n",
        "  print(element_1, element_2)"
      ]
    },
    {
      "cell_type": "markdown",
      "metadata": {},
      "source": [
        "## Exercice 1 : Chaînes de caractères\n",
        "* Créez une variable phrase contenant la chaîne \"Bonjour, comment ça va aujourd'hui ?\".\n",
        "* Utilisez l'indexation pour extraire la première lettre.\n",
        "* Utilisez le slicing pour extraire le mot \"comment\".\n",
        "* Utilisez le slicing pour extraire les mots \"ça va\"."
      ]
    },
    {
      "cell_type": "code",
      "execution_count": 74,
      "metadata": {},
      "outputs": [
        {
          "name": "stdout",
          "output_type": "stream",
          "text": [
            "B\n",
            "comment\n",
            "a va \n"
          ]
        }
      ],
      "source": [
        "# Chaîne de caractères\n",
        "phrase = \"Bonjour, comment ça va aujourd'hui ?\"\n",
        "\n",
        "# Extraire la première lettre\n",
        "premiere_lettre = phrase[0]\n",
        "print(premiere_lettre)  # Sortie : \"B\"\n",
        "\n",
        "# Extraire le mot \"comment\"\n",
        "mot_comment = phrase[9:16]\n",
        "print(mot_comment)  # Sortie : \"comment\"\n",
        "\n",
        "# Extraire les mots \"ça va\"\n",
        "mots_ca_va = phrase[18:23]\n",
        "print(mots_ca_va)  # Sortie : \"ça va\"\n"
      ]
    },
    {
      "cell_type": "markdown",
      "metadata": {},
      "source": [
        "## Exercice 2 : Listes\n",
        "* Créez une liste nombres contenant les éléments [10, 20, 30, 40, 50, 60, 70, 80, 90].\n",
        "* Utilisez le slicing pour extraire les trois premiers éléments.\n",
        "* Utilisez le slicing pour extraire les éléments aux indices pairs.\n",
        "* Utilisez le slicing pour inverser la liste."
      ]
    },
    {
      "cell_type": "code",
      "execution_count": 75,
      "metadata": {},
      "outputs": [
        {
          "name": "stdout",
          "output_type": "stream",
          "text": [
            "[10, 20, 30]\n",
            "[10, 30, 50, 70, 90]\n",
            "[90, 80, 70, 60, 50, 40, 30, 20, 10]\n"
          ]
        }
      ],
      "source": [
        "# Liste de nombres\n",
        "nombres = [10, 20, 30, 40, 50, 60, 70, 80, 90]\n",
        "\n",
        "# Extraire les trois premiers éléments\n",
        "premiers_trois = nombres[:3]\n",
        "print(premiers_trois)  # Sortie : [10, 20, 30]\n",
        "\n",
        "# Extraire les éléments aux indices pairs\n",
        "indices_pairs = nombres[::2]\n",
        "print(indices_pairs)  # Sortie : [10, 30, 50, 70, 90]\n",
        "\n",
        "# Inverser la liste\n",
        "inverse = nombres[::-1]\n",
        "print(inverse)  # Sortie : [90, 80, 70, 60, 50, 40, 30, 20, 10]"
      ]
    },
    {
      "cell_type": "markdown",
      "metadata": {},
      "source": [
        "## Exercice 3 : Tuples\n",
        "* Créez un tuple couleurs contenant les éléments (\"rouge\", \"vert\", \"bleu\", \"jaune\", \"orange\").\n",
        "* Utilisez le slicing pour extraire les deux premiers éléments.\n",
        "* Utilisez le slicing pour extraire les deux derniers éléments.\n",
        "* Utilisez le slicing pour extraire tous les éléments sauf le premier."
      ]
    },
    {
      "cell_type": "code",
      "execution_count": 76,
      "metadata": {},
      "outputs": [
        {
          "name": "stdout",
          "output_type": "stream",
          "text": [
            "('rouge', 'vert')\n",
            "('jaune', 'orange')\n",
            "('vert', 'bleu', 'jaune', 'orange')\n"
          ]
        }
      ],
      "source": [
        "# Tuple de couleurs\n",
        "couleurs = (\"rouge\", \"vert\", \"bleu\", \"jaune\", \"orange\")\n",
        "\n",
        "# Extraire les deux premiers éléments\n",
        "deux_premiers = couleurs[:2]\n",
        "print(deux_premiers)  # Sortie : (\"rouge\", \"vert\")\n",
        "\n",
        "# Extraire les deux derniers éléments\n",
        "deux_derniers = couleurs[-2:]\n",
        "print(deux_derniers)  # Sortie : (\"jaune\", \"orange\")\n",
        "\n",
        "# Extraire tous les éléments sauf le premier\n",
        "sauf_premier = couleurs[1:]\n",
        "print(sauf_premier)  # Sortie : (\"vert\", \"bleu\", \"jaune\", \"orange\")\n"
      ]
    },
    {
      "cell_type": "markdown",
      "metadata": {
        "colab_type": "text",
        "id": "vvjPq9a8w80t"
      },
      "source": [
        "## Exercice 4 : Gestion d'un Inventaire de Magasin\n",
        "L'objectif de cet exercice est de créer un programme Python qui gère un inventaire de produits dans un magasin. Vous allez utiliser des listes et des tuples pour effectuer des opérations telles que l'ajout, la suppression, la mise à jour et la recherche de produits.\n",
        "\n",
        "**Étapes à Suivre**\n",
        "* **Créer un inventaire initial :** Utilisez une liste de tuples pour représenter l'inventaire du magasin. Chaque tuple doit contenir le nom du produit, le prix, et la quantité en stock.\n",
        "\n",
        "* **Afficher l'inventaire :** Parcourez la liste et affichez tous les produits.\n",
        "\n",
        "* **Ajouter un produit :** Ajoutez un nouveau produit à l'inventaire. Si le produit existe déjà, mettez à jour la quantité en stock.\n",
        "\n",
        "* **Supprimer un produit :** Supprimez un produit de l'inventaire basé sur le nom.\n",
        "\n",
        "* **Mettre à jour le prix :** Modifiez le prix d'un produit basé sur le nom.\n",
        "\n",
        "* **Rechercher des produits :** Affichez les produits dont la quantité est inférieure à un certain seuil.\n",
        "\n",
        "* **Calculer la valeur totale de l'inventaire :** Calculez et affichez la valeur totale des produits en stock."
      ]
    },
    {
      "cell_type": "code",
      "execution_count": 67,
      "metadata": {},
      "outputs": [
        {
          "name": "stdout",
          "output_type": "stream",
          "text": [
            "Inventaire du magasin :\n",
            "-----------------------\n",
            "Produit: Pommes, Prix: 2.5 €, Quantité: 100\n",
            "Produit: Bananes, Prix: 1.0 €, Quantité: 150\n",
            "Produit: Cerises, Prix: 3.0 €, Quantité: 200\n",
            "Produit: Oranges, Prix: 2.0 €, Quantité: 50\n",
            "\n",
            "Inventaire après ajout/mise à jour :\n",
            "------------------------------------\n",
            "Produit: Pommes, Prix: 2.5 €, Quantité: 100\n",
            "Produit: Bananes, Prix: 1.0 €, Quantité: 200\n",
            "Produit: Cerises, Prix: 3.0 €, Quantité: 200\n",
            "Produit: Oranges, Prix: 2.0 €, Quantité: 50\n",
            "\n",
            "Inventaire après suppression :\n",
            "------------------------------\n",
            "Produit: Pommes, Prix: 2.5 €, Quantité: 100\n",
            "Produit: Bananes, Prix: 1.0 €, Quantité: 200\n",
            "Produit: Oranges, Prix: 2.0 €, Quantité: 50\n",
            "\n",
            "Inventaire après mise à jour du prix :\n",
            "--------------------------------------\n",
            "Produit: Pommes, Prix: 3.0 €, Quantité: 100\n",
            "Produit: Bananes, Prix: 1.0 €, Quantité: 200\n",
            "Produit: Oranges, Prix: 2.0 €, Quantité: 50\n",
            "\n",
            "Produits avec une quantité inférieure à 100 :\n",
            "---------------------------------------------------------\n",
            "Produit: Oranges, Prix: 2.0 €, Quantité: 50\n",
            "\n",
            "Valeur totale de l'inventaire : 600.0 €\n"
          ]
        }
      ],
      "source": [
        "# 1. Créer un inventaire initial\n",
        "inventaire = [\n",
        "    (\"Pommes\", 2.5, 100),\n",
        "    (\"Bananes\", 1.0, 150),\n",
        "    (\"Cerises\", 3.0, 200),\n",
        "    (\"Oranges\", 2.0, 50),\n",
        "]\n",
        "\n",
        "# 2. Afficher l'inventaire\n",
        "print(\"Inventaire du magasin :\")\n",
        "print(\"-----------------------\")\n",
        "for produit, prix, quantite in inventaire:\n",
        "    print(f\"Produit: {produit}, Prix: {prix} €, Quantité: {quantite}\")\n",
        "\n",
        "# 3. Ajouter un produit\n",
        "nouveau_produit = \"Bananes\"\n",
        "nouveau_prix = 1.0\n",
        "nouvelle_quantite = 50\n",
        "\n",
        "existe = False\n",
        "for i in range(len(inventaire)):\n",
        "    nom, prix, qte_existante = inventaire[i]\n",
        "    if nom == nouveau_produit:\n",
        "        inventaire[i] = (nom, prix, qte_existante + nouvelle_quantite)\n",
        "        existe = True\n",
        "        break\n",
        "\n",
        "if not existe:\n",
        "    inventaire.append((nouveau_produit, nouveau_prix, nouvelle_quantite))\n",
        "\n",
        "print(\"\\nInventaire après ajout/mise à jour :\")\n",
        "print(\"------------------------------------\")\n",
        "for produit, prix, quantite in inventaire:\n",
        "    print(f\"Produit: {produit}, Prix: {prix} €, Quantité: {quantite}\")\n",
        "\n",
        "# 4. Supprimer un produit\n",
        "produit_a_supprimer = \"Cerises\"\n",
        "\n",
        "for i in range(len(inventaire)):\n",
        "    nom, prix, quantite = inventaire[i]\n",
        "    if nom == produit_a_supprimer:\n",
        "        del inventaire[i]\n",
        "        break\n",
        "\n",
        "print(\"\\nInventaire après suppression :\")\n",
        "print(\"------------------------------\")\n",
        "for produit, prix, quantite in inventaire:\n",
        "    print(f\"Produit: {produit}, Prix: {prix} €, Quantité: {quantite}\")\n",
        "\n",
        "# 5. Mettre à jour le prix d'un produit\n",
        "produit_a_mettre_a_jour = \"Pommes\"\n",
        "nouveau_prix = 3.0\n",
        "\n",
        "for i in range(len(inventaire)):\n",
        "    nom, prix, quantite = inventaire[i]\n",
        "    if nom == produit_a_mettre_a_jour:\n",
        "        inventaire[i] = (nom, nouveau_prix, quantite)\n",
        "        break\n",
        "\n",
        "print(\"\\nInventaire après mise à jour du prix :\")\n",
        "print(\"--------------------------------------\")\n",
        "for produit, prix, quantite in inventaire:\n",
        "    print(f\"Produit: {produit}, Prix: {prix} €, Quantité: {quantite}\")\n",
        "\n",
        "# 6. Rechercher des produits avec quantité inférieure à un seuil\n",
        "seuil_quantite = 100\n",
        "print(f\"\\nProduits avec une quantité inférieure à {seuil_quantite} :\")\n",
        "print(\"---------------------------------------------------------\")\n",
        "for produit, prix, quantite in inventaire:\n",
        "    if quantite < seuil_quantite:\n",
        "        print(f\"Produit: {produit}, Prix: {prix} €, Quantité: {quantite}\")\n",
        "\n",
        "# 7. Calculer la valeur totale de l'inventaire\n",
        "valeur_totale = 0\n",
        "for produit, prix, quantite in inventaire:\n",
        "    valeur_totale += prix * quantite\n",
        "\n",
        "print(f\"\\nValeur totale de l'inventaire : {valeur_totale} €\")\n"
      ]
    }
  ],
  "metadata": {
    "colab": {
      "authorship_tag": "ABX9TyNJAEomf56R9Aj2AZzGRpQF",
      "collapsed_sections": [],
      "include_colab_link": true,
      "name": "Untitled4.ipynb",
      "provenance": []
    },
    "kernelspec": {
      "display_name": "Python 3 (ipykernel)",
      "language": "python",
      "name": "python3"
    },
    "language_info": {
      "codemirror_mode": {
        "name": "ipython",
        "version": 3
      },
      "file_extension": ".py",
      "mimetype": "text/x-python",
      "name": "python",
      "nbconvert_exporter": "python",
      "pygments_lexer": "ipython3",
      "version": "3.11.5"
    }
  },
  "nbformat": 4,
  "nbformat_minor": 0
}
